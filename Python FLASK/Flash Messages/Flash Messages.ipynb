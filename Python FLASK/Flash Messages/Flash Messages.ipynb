{
 "cells": [
  {
   "cell_type": "code",
   "execution_count": 1,
   "id": "f0fd5e51",
   "metadata": {},
   "outputs": [],
   "source": [
    "from flask import *\n",
    "from flask_wtf import *\n",
    "from wtforms import *"
   ]
  },
  {
   "cell_type": "code",
   "execution_count": 2,
   "id": "09b6ee45",
   "metadata": {},
   "outputs": [],
   "source": [
    "app = Flask(__name__)\n",
    "app.config['SECRET_KEY'] = 'SK'\n",
    "def restart():\n",
    "    global app\n",
    "    app = Flask(__name__)\n",
    "    app.config['SECRET_KEY'] = 'SK'"
   ]
  },
  {
   "cell_type": "code",
   "execution_count": 3,
   "id": "772d7764",
   "metadata": {},
   "outputs": [],
   "source": [
    "# Create form\n",
    "class Form(FlaskForm):\n",
    "    name = StringField('Name')\n",
    "    submit = SubmitField('Submit')"
   ]
  },
  {
   "cell_type": "code",
   "execution_count": 4,
   "id": "77f3ae23",
   "metadata": {},
   "outputs": [
    {
     "name": "stdout",
     "output_type": "stream",
     "text": [
      " * Serving Flask app '__main__'\n",
      " * Debug mode: off\n"
     ]
    },
    {
     "name": "stderr",
     "output_type": "stream",
     "text": [
      "\u001b[31m\u001b[1mWARNING: This is a development server. Do not use it in a production deployment. Use a production WSGI server instead.\u001b[0m\n",
      " * Running on http://127.0.0.1:5001\n",
      "\u001b[33mPress CTRL+C to quit\u001b[0m\n",
      "127.0.0.1 - - [15/May/2024 18:05:32] \"GET / HTTP/1.1\" 200 -\n",
      "127.0.0.1 - - [15/May/2024 18:05:33] \"\u001b[33mGET /favicon.ico HTTP/1.1\u001b[0m\" 404 -\n",
      "127.0.0.1 - - [15/May/2024 18:05:33] \"\u001b[33mGET /highLightTitle.png HTTP/1.1\u001b[0m\" 404 -\n",
      "127.0.0.1 - - [15/May/2024 18:05:37] \"POST / HTTP/1.1\" 200 -\n",
      "127.0.0.1 - - [15/May/2024 18:05:38] \"\u001b[33mGET /highLightTitle.png HTTP/1.1\u001b[0m\" 404 -\n"
     ]
    }
   ],
   "source": [
    "restart()\n",
    "@app.route('/', methods=['GET', 'POST'])\n",
    "def index():\n",
    "    form = Form()\n",
    "    if form.validate_on_submit():\n",
    "        n = form.name.data\n",
    "        if n == '':\n",
    "            flash('No name provided', 'error')\n",
    "        else:\n",
    "            flash(f'Thank You, {n}', 'success')\n",
    "        flash('Done', 'whatever')\n",
    "    return render_template('index.html', form=form)\n",
    "app.run(port=5001)"
   ]
  },
  {
   "cell_type": "code",
   "execution_count": null,
   "id": "efdba220",
   "metadata": {},
   "outputs": [],
   "source": []
  }
 ],
 "metadata": {
  "kernelspec": {
   "display_name": "Python 3 (ipykernel)",
   "language": "python",
   "name": "python3"
  },
  "language_info": {
   "codemirror_mode": {
    "name": "ipython",
    "version": 3
   },
   "file_extension": ".py",
   "mimetype": "text/x-python",
   "name": "python",
   "nbconvert_exporter": "python",
   "pygments_lexer": "ipython3",
   "version": "3.12.2"
  }
 },
 "nbformat": 4,
 "nbformat_minor": 5
}
