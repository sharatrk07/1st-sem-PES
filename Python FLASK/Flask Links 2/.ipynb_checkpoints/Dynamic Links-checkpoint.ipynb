{
 "cells": [
  {
   "cell_type": "code",
   "execution_count": 4,
   "id": "0a78a9e1",
   "metadata": {},
   "outputs": [
    {
     "name": "stdout",
     "output_type": "stream",
     "text": [
      " * Serving Flask app '__main__'\n",
      " * Debug mode: off\n"
     ]
    },
    {
     "name": "stderr",
     "output_type": "stream",
     "text": [
      "\u001b[31m\u001b[1mWARNING: This is a development server. Do not use it in a production deployment. Use a production WSGI server instead.\u001b[0m\n",
      " * Running on http://127.0.0.1:5000\n",
      "\u001b[33mPress CTRL+C to quit\u001b[0m\n",
      "127.0.0.1 - - [09/May/2024 09:18:05] \"GET / HTTP/1.1\" 200 -\n",
      "127.0.0.1 - - [09/May/2024 09:18:08] \"GET /profile/user1 HTTP/1.1\" 200 -\n",
      "127.0.0.1 - - [09/May/2024 09:18:10] \"GET /profile/user2 HTTP/1.1\" 200 -\n",
      "127.0.0.1 - - [09/May/2024 09:18:12] \"GET /profile/user3 HTTP/1.1\" 200 -\n",
      "127.0.0.1 - - [09/May/2024 09:18:13] \"GET /post/1 HTTP/1.1\" 200 -\n",
      "127.0.0.1 - - [09/May/2024 09:18:15] \"GET /post/2 HTTP/1.1\" 200 -\n",
      "127.0.0.1 - - [09/May/2024 09:18:16] \"GET /post/3 HTTP/1.1\" 200 -\n"
     ]
    }
   ],
   "source": [
    "from flask import *\n",
    "\n",
    "app = Flask(__name__)\n",
    "\n",
    "@app.route('/')\n",
    "def index():\n",
    "    return render_template('index_dynamic.html')\n",
    "\n",
    "@app.route('/profile/<username>')\n",
    "def profile(username):\n",
    "    return render_template('profile.html', username=username)\n",
    "\n",
    "\n",
    "@app.route('/post/<int:post_id>')\n",
    "def post(post_id):\n",
    "    return render_template('post.html', post_id=post_id)\n",
    "\n",
    "app.run()"
   ]
  }
 ],
 "metadata": {
  "kernelspec": {
   "display_name": "Python 3 (ipykernel)",
   "language": "python",
   "name": "python3"
  },
  "language_info": {
   "codemirror_mode": {
    "name": "ipython",
    "version": 3
   },
   "file_extension": ".py",
   "mimetype": "text/x-python",
   "name": "python",
   "nbconvert_exporter": "python",
   "pygments_lexer": "ipython3",
   "version": "3.10.9"
  }
 },
 "nbformat": 4,
 "nbformat_minor": 5
}
