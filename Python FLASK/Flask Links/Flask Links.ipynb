{
 "cells": [
  {
   "cell_type": "code",
   "execution_count": 1,
   "id": "ac89f755",
   "metadata": {},
   "outputs": [],
   "source": [
    "from flask import *\n",
    "app = Flask(__name__)\n",
    "def restart():\n",
    "    global app\n",
    "    app = Flask(__name__)"
   ]
  },
  {
   "cell_type": "markdown",
   "id": "d73195a2",
   "metadata": {},
   "source": []
  },
  {
   "cell_type": "code",
   "execution_count": 6,
   "id": "806de3a8",
   "metadata": {},
   "outputs": [
    {
     "name": "stdout",
     "output_type": "stream",
     "text": [
      " * Serving Flask app '__main__'\n",
      " * Debug mode: off\n"
     ]
    },
    {
     "name": "stderr",
     "output_type": "stream",
     "text": [
      "\u001b[31m\u001b[1mWARNING: This is a development server. Do not use it in a production deployment. Use a production WSGI server instead.\u001b[0m\n",
      " * Running on http://127.0.0.1:5000\n",
      "\u001b[33mPress CTRL+C to quit\u001b[0m\n",
      "127.0.0.1 - - [09/May/2024 09:08:19] \"GET / HTTP/1.1\" 200 -\n",
      "127.0.0.1 - - [09/May/2024 09:08:21] \"GET / HTTP/1.1\" 200 -\n",
      "127.0.0.1 - - [09/May/2024 09:08:21] \"GET /about HTTP/1.1\" 200 -\n",
      "127.0.0.1 - - [09/May/2024 09:08:25] \"GET /contact HTTP/1.1\" 200 -\n"
     ]
    }
   ],
   "source": [
    "# Using url_for\n",
    "restart()\n",
    "@app.route('/')\n",
    "def index():\n",
    "    links = [{'label':'Home', 'url':url_for('index')},\n",
    "            {'label':'About', 'url':url_for('about')},\n",
    "            {'label':'Contact', 'url':url_for('contact')},]\n",
    "    return render_template('index.html', links = links)\n",
    "\n",
    "@app.route('/about')\n",
    "def about():\n",
    "    return '<h1>About page</h1>'\n",
    "\n",
    "@app.route('/contact')\n",
    "def contact():\n",
    "    return '<h1>Contact page</h1>'\n",
    "\n",
    "app.run()"
   ]
  },
  {
   "cell_type": "markdown",
   "id": "7ac76a9a",
   "metadata": {},
   "source": [
    "## Dynamic Links"
   ]
  },
  {
   "cell_type": "code",
   "execution_count": 9,
   "id": "13a657a3",
   "metadata": {},
   "outputs": [
    {
     "name": "stdout",
     "output_type": "stream",
     "text": [
      " * Serving Flask app '__main__'\n",
      " * Debug mode: off\n"
     ]
    },
    {
     "name": "stderr",
     "output_type": "stream",
     "text": [
      "\u001b[31m\u001b[1mWARNING: This is a development server. Do not use it in a production deployment. Use a production WSGI server instead.\u001b[0m\n",
      " * Running on http://127.0.0.1:5000\n",
      "\u001b[33mPress CTRL+C to quit\u001b[0m\n",
      "127.0.0.1 - - [09/May/2024 09:15:02] \"GET / HTTP/1.1\" 200 -\n"
     ]
    }
   ],
   "source": [
    "restart()\n",
    "@app.route('/')\n",
    "def ind():\n",
    "    return render_template('index.html')\n",
    "\n",
    "@app.route('/user/<un>')\n",
    "def profile(un):\n",
    "    return render_template('profile.html', username = un)\n",
    "\n",
    "@app.route('/post/<int:postid>')\n",
    "def post(postid):\n",
    "    return render_template('post.html', post_id = postid)\n",
    "\n",
    "app.run()"
   ]
  }
 ],
 "metadata": {
  "kernelspec": {
   "display_name": "Python 3 (ipykernel)",
   "language": "python",
   "name": "python3"
  },
  "language_info": {
   "codemirror_mode": {
    "name": "ipython",
    "version": 3
   },
   "file_extension": ".py",
   "mimetype": "text/x-python",
   "name": "python",
   "nbconvert_exporter": "python",
   "pygments_lexer": "ipython3",
   "version": "3.10.9"
  }
 },
 "nbformat": 4,
 "nbformat_minor": 5
}
