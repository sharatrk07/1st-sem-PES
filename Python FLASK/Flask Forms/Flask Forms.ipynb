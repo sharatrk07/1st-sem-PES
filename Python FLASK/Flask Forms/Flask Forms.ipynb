{
 "cells": [
  {
   "cell_type": "markdown",
   "id": "a463e82c",
   "metadata": {},
   "source": [
    "## Handling form data"
   ]
  },
  {
   "cell_type": "code",
   "execution_count": 1,
   "id": "7a045cd8",
   "metadata": {},
   "outputs": [],
   "source": [
    "from flask import *\n",
    "from flask_wtf import * # For FlaskForm\n",
    "from wtforms import * # For StringField, SubmitField"
   ]
  },
  {
   "cell_type": "code",
   "execution_count": 2,
   "id": "bb075b14",
   "metadata": {},
   "outputs": [],
   "source": [
    "app = Flask(__name__)\n",
    "app.config['SECRET_KEY'] = 'sk'\n",
    "def restart():\n",
    "    global app\n",
    "    app = Flask(__name__)\n",
    "    app.config['SECRET_KEY'] = 'sk'"
   ]
  },
  {
   "cell_type": "code",
   "execution_count": 3,
   "id": "67d83466",
   "metadata": {},
   "outputs": [],
   "source": [
    "# Create Form, inherit FlaskForm of flask_wtf\n",
    "class DemoForm(FlaskForm):\n",
    "    # Create fields for input\n",
    "    name = StringField('Name') # Label of the field is name\n",
    "    submit = SubmitField('Submit') # Name of the submit button is Submit\n"
   ]
  },
  {
   "cell_type": "code",
   "execution_count": 4,
   "id": "ec41db5e",
   "metadata": {},
   "outputs": [
    {
     "name": "stdout",
     "output_type": "stream",
     "text": [
      " * Serving Flask app '__main__'\n",
      " * Debug mode: off\n"
     ]
    },
    {
     "name": "stderr",
     "output_type": "stream",
     "text": [
      "\u001b[31m\u001b[1mWARNING: This is a development server. Do not use it in a production deployment. Use a production WSGI server instead.\u001b[0m\n",
      " * Running on http://127.0.0.1:5000\n",
      "\u001b[33mPress CTRL+C to quit\u001b[0m\n",
      "127.0.0.1 - - [15/May/2024 01:33:56] \"GET / HTTP/1.1\" 200 -\n",
      "127.0.0.1 - - [15/May/2024 01:33:56] \"\u001b[33mGET /favicon.ico HTTP/1.1\u001b[0m\" 404 -\n",
      "127.0.0.1 - - [15/May/2024 01:33:56] \"\u001b[33mGET /highLightTitle.png HTTP/1.1\u001b[0m\" 404 -\n",
      "127.0.0.1 - - [15/May/2024 01:34:00] \"POST / HTTP/1.1\" 200 -\n",
      "127.0.0.1 - - [15/May/2024 01:34:00] \"\u001b[33mGET /highLightTitle.png HTTP/1.1\u001b[0m\" 404 -\n"
     ]
    }
   ],
   "source": [
    "restart()\n",
    "@app.route('/', methods = ['GET', 'POST'])\n",
    "# GET for fetching the form, POST for posting data\n",
    "def index():\n",
    "    form = DemoForm()\n",
    "    if form.validate_on_submit():\n",
    "        # Fetch value entered using name attribute of form\n",
    "        name_text = form.name.data\n",
    "        return f'<h1>Thank You, {name_text}</h1>'\n",
    "    return render_template('index.html', form = form)\n",
    "app.run()"
   ]
  },
  {
   "cell_type": "markdown",
   "id": "64e167d7",
   "metadata": {},
   "source": [
    "## Contact Us Page"
   ]
  },
  {
   "cell_type": "code",
   "execution_count": 5,
   "id": "49450781",
   "metadata": {},
   "outputs": [],
   "source": [
    "restart()"
   ]
  },
  {
   "cell_type": "code",
   "execution_count": 6,
   "id": "a0c4eb2b",
   "metadata": {},
   "outputs": [],
   "source": [
    "# Create form, inherit FlaskForm\n",
    "class ContactForm(FlaskForm):\n",
    "    # Create all fields, add Validators\n",
    "    name = StringField('Name', validators = [validators.DataRequired()])\n",
    "    # validators = [validators.DataRequired() is used for field validation\n",
    "    email = StringField('Email ID', validators = \n",
    "                        [validators.DataRequired(), validators.Email()])\n",
    "    # Validators to check make the field mandatory and \n",
    "    # check if the email is valid\n",
    "    message = TextAreaField('Your Message', validators = [validators.DataRequired()])\n",
    "    # For short textbox, use StringField, \n",
    "    # for large textbox, use TextAreaField\n",
    "    submit = SubmitField('Submit')\n",
    "    \n",
    "    "
   ]
  },
  {
   "cell_type": "code",
   "execution_count": 7,
   "id": "a2a6e6b2",
   "metadata": {},
   "outputs": [
    {
     "name": "stdout",
     "output_type": "stream",
     "text": [
      " * Serving Flask app '__main__'\n",
      " * Debug mode: off\n"
     ]
    },
    {
     "name": "stderr",
     "output_type": "stream",
     "text": [
      "\u001b[31m\u001b[1mWARNING: This is a development server. Do not use it in a production deployment. Use a production WSGI server instead.\u001b[0m\n",
      " * Running on http://127.0.0.1:5000\n",
      "\u001b[33mPress CTRL+C to quit\u001b[0m\n",
      "127.0.0.1 - - [15/May/2024 01:34:19] \"GET / HTTP/1.1\" 200 -\n",
      "127.0.0.1 - - [15/May/2024 01:34:20] \"\u001b[33mGET /highLightTitle.png HTTP/1.1\u001b[0m\" 404 -\n",
      "[2024-05-15 01:34:30,602] ERROR in app: Exception on / [POST]\n",
      "Traceback (most recent call last):\n",
      "  File \"/Library/Frameworks/Python.framework/Versions/3.12/lib/python3.12/site-packages/wtforms/validators.py\", line 401, in __call__\n",
      "    import email_validator\n",
      "ModuleNotFoundError: No module named 'email_validator'\n",
      "\n",
      "The above exception was the direct cause of the following exception:\n",
      "\n",
      "Traceback (most recent call last):\n",
      "  File \"/Library/Frameworks/Python.framework/Versions/3.12/lib/python3.12/site-packages/flask/app.py\", line 1473, in wsgi_app\n",
      "    response = self.full_dispatch_request()\n",
      "               ^^^^^^^^^^^^^^^^^^^^^^^^^^^^\n",
      "  File \"/Library/Frameworks/Python.framework/Versions/3.12/lib/python3.12/site-packages/flask/app.py\", line 882, in full_dispatch_request\n",
      "    rv = self.handle_user_exception(e)\n",
      "         ^^^^^^^^^^^^^^^^^^^^^^^^^^^^^\n",
      "  File \"/Library/Frameworks/Python.framework/Versions/3.12/lib/python3.12/site-packages/flask/app.py\", line 880, in full_dispatch_request\n",
      "    rv = self.dispatch_request()\n",
      "         ^^^^^^^^^^^^^^^^^^^^^^^\n",
      "  File \"/Library/Frameworks/Python.framework/Versions/3.12/lib/python3.12/site-packages/flask/app.py\", line 865, in dispatch_request\n",
      "    return self.ensure_sync(self.view_functions[rule.endpoint])(**view_args)  # type: ignore[no-any-return]\n",
      "           ^^^^^^^^^^^^^^^^^^^^^^^^^^^^^^^^^^^^^^^^^^^^^^^^^^^^^^^^^^^^^^^^^\n",
      "  File \"/var/folders/d0/6g_n85f55h927sxrvg8zm9700000gn/T/ipykernel_4268/2596617216.py\", line 6, in contact\n",
      "    if form.validate_on_submit():\n",
      "       ^^^^^^^^^^^^^^^^^^^^^^^^^\n",
      "  File \"/Library/Frameworks/Python.framework/Versions/3.12/lib/python3.12/site-packages/flask_wtf/form.py\", line 86, in validate_on_submit\n",
      "    return self.is_submitted() and self.validate(extra_validators=extra_validators)\n",
      "                                   ^^^^^^^^^^^^^^^^^^^^^^^^^^^^^^^^^^^^^^^^^^^^^^^^\n",
      "  File \"/Library/Frameworks/Python.framework/Versions/3.12/lib/python3.12/site-packages/wtforms/form.py\", line 329, in validate\n",
      "    return super().validate(extra)\n",
      "           ^^^^^^^^^^^^^^^^^^^^^^^\n",
      "  File \"/Library/Frameworks/Python.framework/Versions/3.12/lib/python3.12/site-packages/wtforms/form.py\", line 146, in validate\n",
      "    if not field.validate(self, extra):\n",
      "           ^^^^^^^^^^^^^^^^^^^^^^^^^^^\n",
      "  File \"/Library/Frameworks/Python.framework/Versions/3.12/lib/python3.12/site-packages/wtforms/fields/core.py\", line 246, in validate\n",
      "    stop_validation = self._run_validation_chain(form, chain)\n",
      "                      ^^^^^^^^^^^^^^^^^^^^^^^^^^^^^^^^^^^^^^^\n",
      "  File \"/Library/Frameworks/Python.framework/Versions/3.12/lib/python3.12/site-packages/wtforms/fields/core.py\", line 266, in _run_validation_chain\n",
      "    validator(form, self)\n",
      "  File \"/Library/Frameworks/Python.framework/Versions/3.12/lib/python3.12/site-packages/wtforms/validators.py\", line 403, in __call__\n",
      "    raise Exception(\n",
      "Exception: Install 'email_validator' for email validation support.\n",
      "127.0.0.1 - - [15/May/2024 01:34:30] \"\u001b[35m\u001b[1mPOST / HTTP/1.1\u001b[0m\" 500 -\n",
      "127.0.0.1 - - [15/May/2024 01:34:30] \"\u001b[33mGET /highLightTitle.png HTTP/1.1\u001b[0m\" 404 -\n"
     ]
    }
   ],
   "source": [
    "restart()\n",
    "@app.route('/', methods = ['GET', 'POST'])\n",
    "def contact():\n",
    "    # Create form\n",
    "    form = ContactForm()\n",
    "    if form.validate_on_submit():\n",
    "        return f'''Dear {form.name.data}, Thank You. \n",
    "        We will email you at {form.email.data}'''\n",
    "    return render_template('contact.html', form = form)\n",
    "\n",
    "app.run()"
   ]
  },
  {
   "cell_type": "markdown",
   "id": "ee002da5",
   "metadata": {},
   "source": [
    "## User Session"
   ]
  },
  {
   "cell_type": "code",
   "execution_count": 8,
   "id": "8749eb8f",
   "metadata": {},
   "outputs": [],
   "source": [
    "# Create a form\n",
    "class IndexForm(FlaskForm):\n",
    "    name = StringField('Name', validators = [validators.DataRequired()])\n",
    "    submit = SubmitField('Submit')\n"
   ]
  },
  {
   "cell_type": "code",
   "execution_count": 10,
   "id": "bf03a570",
   "metadata": {},
   "outputs": [
    {
     "name": "stdout",
     "output_type": "stream",
     "text": [
      " * Serving Flask app '__main__'\n",
      " * Debug mode: off\n"
     ]
    },
    {
     "name": "stderr",
     "output_type": "stream",
     "text": [
      "\u001b[31m\u001b[1mWARNING: This is a development server. Do not use it in a production deployment. Use a production WSGI server instead.\u001b[0m\n",
      " * Running on http://127.0.0.1:5000\n",
      "\u001b[33mPress CTRL+C to quit\u001b[0m\n"
     ]
    }
   ],
   "source": [
    "restart()\n",
    "@app.route('/', methods = ['GET', 'POST'])\n",
    "def index():\n",
    "    form = IndexForm()\n",
    "    if form.validate_on_submit():\n",
    "        un = form.name.data\n",
    "        session['username'] = un\n",
    "        flash('Username stored! ', 'success') #Flash message\n",
    "        return redirect(url_for('welcome')) \n",
    "        # Redirect to the URL of welcome view function\n",
    "    return render_template('session_index.html', form = form)\n",
    "@app.route('/wc')\n",
    "def welcome():\n",
    "    # Check if username is in session object\n",
    "    if not session['username'] == '':\n",
    "        username = session['username']\n",
    "        return render_template('welcome.html', username = username)\n",
    "    else:\n",
    "        return redirect('/')\n",
    "\n",
    "app.run()"
   ]
  },
  {
   "cell_type": "markdown",
   "id": "15a59fcf",
   "metadata": {},
   "source": [
    "## Message Flashing"
   ]
  },
  {
   "cell_type": "code",
   "execution_count": 11,
   "id": "7e0a45a3",
   "metadata": {},
   "outputs": [],
   "source": [
    "# Create Form\n",
    "class MessageForm(FlaskForm):\n",
    "    name = StringField('Name')\n",
    "    submit = SubmitField('Submit')\n"
   ]
  },
  {
   "cell_type": "code",
   "execution_count": 12,
   "id": "6d87a0db",
   "metadata": {},
   "outputs": [
    {
     "name": "stdout",
     "output_type": "stream",
     "text": [
      " * Serving Flask app '__main__'\n",
      " * Debug mode: off\n"
     ]
    },
    {
     "name": "stderr",
     "output_type": "stream",
     "text": [
      "\u001b[31m\u001b[1mWARNING: This is a development server. Do not use it in a production deployment. Use a production WSGI server instead.\u001b[0m\n",
      " * Running on http://127.0.0.1:5000\n",
      "\u001b[33mPress CTRL+C to quit\u001b[0m\n",
      "127.0.0.1 - - [15/May/2024 01:35:17] \"GET / HTTP/1.1\" 200 -\n",
      "127.0.0.1 - - [15/May/2024 01:35:18] \"\u001b[33mGET /highLightTitle.png HTTP/1.1\u001b[0m\" 404 -\n",
      "127.0.0.1 - - [15/May/2024 01:35:22] \"\u001b[32mPOST / HTTP/1.1\u001b[0m\" 302 -\n",
      "127.0.0.1 - - [15/May/2024 01:35:22] \"GET / HTTP/1.1\" 200 -\n",
      "127.0.0.1 - - [15/May/2024 01:35:22] \"\u001b[33mGET /highLightTitle.png HTTP/1.1\u001b[0m\" 404 -\n",
      "127.0.0.1 - - [15/May/2024 01:35:26] \"\u001b[32mPOST / HTTP/1.1\u001b[0m\" 302 -\n",
      "127.0.0.1 - - [15/May/2024 01:35:26] \"GET / HTTP/1.1\" 200 -\n",
      "127.0.0.1 - - [15/May/2024 01:35:26] \"\u001b[33mGET /highLightTitle.png HTTP/1.1\u001b[0m\" 404 -\n",
      "127.0.0.1 - - [15/May/2024 01:35:29] \"\u001b[32mPOST / HTTP/1.1\u001b[0m\" 302 -\n",
      "127.0.0.1 - - [15/May/2024 01:35:29] \"GET / HTTP/1.1\" 200 -\n",
      "127.0.0.1 - - [15/May/2024 01:35:29] \"\u001b[33mGET /highLightTitle.png HTTP/1.1\u001b[0m\" 404 -\n"
     ]
    }
   ],
   "source": [
    "restart()\n",
    "@app.route('/', methods = ['GET', 'POST'])\n",
    "def index():\n",
    "    form = MessageForm()\n",
    "    if form.validate_on_submit():\n",
    "        flash(f'Hello, {form.name.data}!', 'success')\n",
    "        return redirect('/')\n",
    "    return render_template('index_flash.html', form = form)\n",
    "app.run()"
   ]
  },
  {
   "cell_type": "code",
   "execution_count": null,
   "id": "5a326191",
   "metadata": {},
   "outputs": [],
   "source": []
  }
 ],
 "metadata": {
  "kernelspec": {
   "display_name": "Python 3 (ipykernel)",
   "language": "python",
   "name": "python3"
  },
  "language_info": {
   "codemirror_mode": {
    "name": "ipython",
    "version": 3
   },
   "file_extension": ".py",
   "mimetype": "text/x-python",
   "name": "python",
   "nbconvert_exporter": "python",
   "pygments_lexer": "ipython3",
   "version": "3.12.2"
  }
 },
 "nbformat": 4,
 "nbformat_minor": 5
}
