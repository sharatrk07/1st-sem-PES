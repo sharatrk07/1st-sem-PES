{
 "cells": [
  {
   "cell_type": "code",
   "execution_count": 1,
   "id": "f0591bc8",
   "metadata": {},
   "outputs": [],
   "source": [
    "from flask import *\n",
    "from datetime import datetime as dt"
   ]
  },
  {
   "cell_type": "code",
   "execution_count": 15,
   "id": "940b0e74",
   "metadata": {},
   "outputs": [],
   "source": [
    "app = Flask(__name__)"
   ]
  },
  {
   "cell_type": "code",
   "execution_count": 16,
   "id": "3934f5e8",
   "metadata": {},
   "outputs": [
    {
     "name": "stdout",
     "output_type": "stream",
     "text": [
      " * Serving Flask app '__main__'\n",
      " * Debug mode: off\n"
     ]
    },
    {
     "name": "stderr",
     "output_type": "stream",
     "text": [
      "\u001b[31m\u001b[1mWARNING: This is a development server. Do not use it in a production deployment. Use a production WSGI server instead.\u001b[0m\n",
      " * Running on http://127.0.0.1:5000\n",
      "\u001b[33mPress CTRL+C to quit\u001b[0m\n",
      "127.0.0.1 - - [08/May/2024 11:30:10] \"GET / HTTP/1.1\" 200 -\n",
      "127.0.0.1 - - [08/May/2024 11:30:10] \"GET /static/errorclasses.png HTTP/1.1\" 200 -\n",
      "127.0.0.1 - - [08/May/2024 11:30:13] \"GET / HTTP/1.1\" 200 -\n",
      "127.0.0.1 - - [08/May/2024 11:30:13] \"GET /static/errorclasses.png HTTP/1.1\" 200 -\n",
      "127.0.0.1 - - [08/May/2024 11:30:13] \"\u001b[36mGET /static/errorclasses.png HTTP/1.1\u001b[0m\" 304 -\n",
      "127.0.0.1 - - [08/May/2024 11:30:14] \"GET / HTTP/1.1\" 200 -\n",
      "127.0.0.1 - - [08/May/2024 11:30:14] \"GET /static/errorclasses.png HTTP/1.1\" 200 -\n",
      "127.0.0.1 - - [08/May/2024 11:30:14] \"\u001b[36mGET /static/errorclasses.png HTTP/1.1\u001b[0m\" 304 -\n",
      "127.0.0.1 - - [08/May/2024 11:30:14] \"GET / HTTP/1.1\" 200 -\n",
      "127.0.0.1 - - [08/May/2024 11:30:14] \"GET /static/errorclasses.png HTTP/1.1\" 200 -\n",
      "127.0.0.1 - - [08/May/2024 11:30:14] \"\u001b[36mGET /static/errorclasses.png HTTP/1.1\u001b[0m\" 304 -\n",
      "127.0.0.1 - - [08/May/2024 11:30:15] \"GET / HTTP/1.1\" 200 -\n",
      "127.0.0.1 - - [08/May/2024 11:30:15] \"GET /static/errorclasses.png HTTP/1.1\" 200 -\n",
      "127.0.0.1 - - [08/May/2024 11:30:15] \"\u001b[36mGET /static/errorclasses.png HTTP/1.1\u001b[0m\" 304 -\n",
      "127.0.0.1 - - [08/May/2024 11:30:15] \"GET / HTTP/1.1\" 200 -\n",
      "127.0.0.1 - - [08/May/2024 11:30:15] \"\u001b[36mGET /static/errorclasses.png HTTP/1.1\u001b[0m\" 304 -\n"
     ]
    }
   ],
   "source": [
    "@app.route('/')\n",
    "def ind():\n",
    "    img = url_for('static', filename = 'errorclasses.png')\n",
    "    cdt = dt.now().strftime('%d/%m/%Y, %H:%M:%S')\n",
    "    return render_template('index.html', img = img, cdt = cdt)\n",
    "app.run()"
   ]
  }
 ],
 "metadata": {
  "kernelspec": {
   "display_name": "Python 3 (ipykernel)",
   "language": "python",
   "name": "python3"
  },
  "language_info": {
   "codemirror_mode": {
    "name": "ipython",
    "version": 3
   },
   "file_extension": ".py",
   "mimetype": "text/x-python",
   "name": "python",
   "nbconvert_exporter": "python",
   "pygments_lexer": "ipython3",
   "version": "3.10.9"
  }
 },
 "nbformat": 4,
 "nbformat_minor": 5
}
