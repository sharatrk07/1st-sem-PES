{
 "cells": [
  {
   "cell_type": "code",
   "execution_count": 18,
   "metadata": {},
   "outputs": [
    {
     "name": "stdout",
     "output_type": "stream",
     "text": [
      "10 False\n"
     ]
    }
   ],
   "source": [
    "a=10\n",
    "b=2\n",
    "print(a, not b)    "
   ]
  },
  {
   "cell_type": "code",
   "execution_count": 10,
   "metadata": {},
   "outputs": [
    {
     "name": "stdout",
     "output_type": "stream",
     "text": [
      "20\n"
     ]
    }
   ],
   "source": [
    "a=10\n",
    "a+=10\n",
    "print(a)"
   ]
  },
  {
   "cell_type": "code",
   "execution_count": 23,
   "metadata": {},
   "outputs": [
    {
     "name": "stdout",
     "output_type": "stream",
     "text": [
      "12\n"
     ]
    }
   ],
   "source": [
    "a=int(input())\n",
    "if(a>10):\n",
    "    print(a)\n",
    "elif(a<10):\n",
    "    print(a)\n",
    "else:\n",
    "    print(\"equal\")"
   ]
  },
  {
   "cell_type": "code",
   "execution_count": 58,
   "metadata": {},
   "outputs": [
    {
     "name": "stdout",
     "output_type": "stream",
     "text": [
      "10\n",
      "9\n",
      "8\n",
      "7\n",
      "6\n",
      "Loop finished\n"
     ]
    }
   ],
   "source": [
    "n=10\n",
    "while(n>5):\n",
    "    print(n)\n",
    "    n-=1\n",
    "\n",
    "else:\n",
    "    print(\"Loop finished\")"
   ]
  },
  {
   "cell_type": "code",
   "execution_count": 76,
   "metadata": {},
   "outputs": [
    {
     "name": "stdout",
     "output_type": "stream",
     "text": [
      "[40, 30, 20, 10]\n"
     ]
    }
   ],
   "source": [
    "a=[10,20,30,40]\n",
    "a.reverse()\n",
    "print(a)\n"
   ]
  },
  {
   "cell_type": "code",
   "execution_count": 80,
   "metadata": {},
   "outputs": [
    {
     "name": "stdout",
     "output_type": "stream",
     "text": [
      "10 + 20 = 30\n"
     ]
    }
   ],
   "source": [
    "n1 = int(input(\"Enter the first number: \"))\n",
    "n2 = int(input(\"Enter the second number: \"))\n",
    "\n",
    "class Add:\n",
    "    def __init__(self, n1, n2):\n",
    "        self.n1 = n1\n",
    "        self.n2 = n2\n",
    "        self.res = 0\n",
    "    \n",
    "    def cal(self):\n",
    "        self.res = self.n1 + self.n2\n",
    "    \n",
    "    def details(self):\n",
    "        print(f\"{self.n1} + {self.n2} = {self.res}\")\n",
    "\n",
    "a = Add(n1, n2)\n",
    "a.cal()\n",
    "a.details()\n"
   ]
  },
  {
   "cell_type": "code",
   "execution_count": 86,
   "metadata": {},
   "outputs": [
    {
     "name": "stdout",
     "output_type": "stream",
     "text": [
      "Meow\n",
      "Bow\n"
     ]
    }
   ],
   "source": [
    "#DUCK\n",
    "\n",
    "class C():\n",
    "    def sound(self):\n",
    "        return \"Meow\"\n",
    "    \n",
    "class D():\n",
    "    def sound(self):\n",
    "        return \"Bow\"\n",
    "\n",
    "def make_sound(self):\n",
    "        print(self.sound())\n",
    "\n",
    "c=C()\n",
    "d=D()\n",
    "\n",
    "make_sound(c)\n",
    "make_sound(d)\n"
   ]
  },
  {
   "cell_type": "code",
   "execution_count": 88,
   "metadata": {},
   "outputs": [
    {
     "name": "stdout",
     "output_type": "stream",
     "text": [
      "Hello, I'm Parent!\n",
      "Hello, I'm Child!\n",
      "I'm Child and I'm 23 years old.\n"
     ]
    }
   ],
   "source": [
    "#Class Inheritance\n",
    "class Parent():\n",
    "    def __init__(self, name):\n",
    "        self.name=name\n",
    "    \n",
    "    def greet(self):\n",
    "        print(f\"Hello, I'm {self.name}!\")\n",
    "\n",
    "class Child(Parent):\n",
    "    def __init__(self, name, age):\n",
    "        super().__init__(name)\n",
    "        self.age=age\n",
    "\n",
    "    def intro(self):\n",
    "        print(f\"I'm {self.name} and I'm {self.age} years old.\")\n",
    "\n",
    "a=Parent(\"Parent\")\n",
    "a.greet()\n",
    "b=Child(\"Child\",23)\n",
    "b.greet()\n",
    "b.intro()"
   ]
  },
  {
   "cell_type": "code",
   "execution_count": 89,
   "metadata": {},
   "outputs": [
    {
     "name": "stdout",
     "output_type": "stream",
     "text": [
      "City: Gadag, Street: Vivekananda nagar, Pincode: 582101\n",
      "Name: My Home\n",
      " Address: None \n"
     ]
    }
   ],
   "source": [
    "#Polymorphism\n",
    "\n",
    "class Address():\n",
    "    def __init__(self, city, street,pincode):\n",
    "        self.city = city\n",
    "        self.street = street\n",
    "        self.pincode = pincode\n",
    "\n",
    "    def disp(self):\n",
    "        print(f\"City: {self.city}, Street: {self.street}, Pincode: {self.pincode}\")\n",
    "\n",
    "class Home():\n",
    "    def __init__(self, name,address):\n",
    "        self.name = name\n",
    "        self.address=address\n",
    "\n",
    "    def disp(self):\n",
    "        print(f\"Name: {self.name}\\n Address: {self.address.disp()} \")\n",
    "\n",
    "a=Address('Gadag', 'Vivekananda nagar', 582101)\n",
    "h=Home('My Home', a)\n",
    "h.disp()\n"
   ]
  },
  {
   "cell_type": "code",
   "execution_count": 94,
   "metadata": {},
   "outputs": [
    {
     "name": "stdout",
     "output_type": "stream",
     "text": [
      "City: Gadag, Street: vivekananda, Pincode: 582101\n"
     ]
    }
   ],
   "source": [
    "#EEncapsulation\n",
    "\n",
    "class Address():\n",
    "    def __init__(self, city, street,pincode):\n",
    "        self.city = city\n",
    "        self._street = street\n",
    "        self.__pincode = pincode\n",
    "\n",
    "    def disp(self):\n",
    "        print(f\"City: {self.city}, Street: {self._street}, Pincode: {self._Address__pincode}\")\n",
    "\n",
    "#Name Manging:  _ClassName__ObjectName\n",
    "#Direct  Access: using __objectname\n",
    "\n",
    "a=Address('Gadag','vivekananda', 582101)\n",
    "a.disp()"
   ]
  },
  {
   "cell_type": "code",
   "execution_count": 2,
   "metadata": {},
   "outputs": [
    {
     "name": "stdout",
     "output_type": "stream",
     "text": [
      "Gadag 582101\n",
      "582101\n"
     ]
    }
   ],
   "source": [
    "#Getters and Setters\n",
    "\n",
    "class Address():\n",
    "    def __init__(self, city,pincode):\n",
    "        self.city = city\n",
    "        self.__pincode = pincode\n",
    "        \n",
    "    def get(self):\n",
    "        return self.__pincode\n",
    "    \n",
    "    def set(self,pincode):\n",
    "        self.pincode=pincode\n",
    "\n",
    "a=Address('Gadag', 582101)\n",
    "print(a.city, a.get())\n",
    "a.set(582102)\n",
    "print(a.get())"
   ]
  },
  {
   "cell_type": "code",
   "execution_count": 100,
   "metadata": {},
   "outputs": [
    {
     "name": "stdout",
     "output_type": "stream",
     "text": [
      "City: Gadag, Street: Vivekananda, Pincode: 582101\n",
      "Address object is deleted\n"
     ]
    }
   ],
   "source": [
    "#Constructor and Destuctor\n",
    "\n",
    "class Address():\n",
    "    def __init__(self, city, street,pincode):\n",
    "        self.city = city\n",
    "        self.street = street\n",
    "        self.pincode = pincode\n",
    "\n",
    "    def disp(self):\n",
    "        print(f\"City: {self.city}, Street: {self.street}, Pincode: {self.pincode}\")\n",
    "\n",
    "    def __del__(self):\n",
    "        print(\"Address object is deleted\")\n",
    "\n",
    "a=Address('Gadag', \"Vivekananda\", 582101)\n",
    "a.disp()\n",
    "\n",
    "del a\n",
    "#a.disp()"
   ]
  },
  {
   "cell_type": "code",
   "execution_count": null,
   "metadata": {},
   "outputs": [],
   "source": [
    "# 11) Decorators\n",
    "\n",
    "def greet(a):\n",
    "    def b():\n",
    "        print(\"GM\")\n",
    "        a()\n",
    "        print(\"GN\")\n",
    "    return b\n",
    "    \n",
    "@greet\n",
    "def hello():\n",
    "    print(\"Hello World\")\n",
    "\n",
    "hello()"
   ]
  },
  {
   "cell_type": "code",
   "execution_count": 108,
   "metadata": {},
   "outputs": [
    {
     "name": "stdout",
     "output_type": "stream",
     "text": [
      "Engine Started\n"
     ]
    }
   ],
   "source": [
    "#COMPOSITION\n",
    "class Engine():\n",
    "    def __init__(self):\n",
    "        pass\n",
    "    \n",
    "    def start(self):\n",
    "        return \"Engine Started\"\n",
    "    \n",
    "class Wheel():\n",
    "    def __init__(self):\n",
    "        pass\n",
    "\n",
    "class Car():\n",
    "    def __init__(self):\n",
    "        self.engine=Engine()\n",
    "        print(self.engine.start())\n",
    "\n",
    "c = Car()"
   ]
  },
  {
   "cell_type": "code",
   "execution_count": 109,
   "metadata": {},
   "outputs": [
    {
     "name": "stdout",
     "output_type": "stream",
     "text": [
      "Banglore,560073,Karnataka\n"
     ]
    }
   ],
   "source": [
    "# 14) AGGREGAION\n",
    "\n",
    "class Person:\n",
    "    def __init__(self,name,gender,address):\n",
    "        self.name = name\n",
    "        self.gender = gender\n",
    "        self.address =address\n",
    "    def printaddress(self):\n",
    "        self.address.get_address()\n",
    "\n",
    "class Address:\n",
    "    def __init__(self,city,pin,state):\n",
    "        self.city = city\n",
    "        self.pin = pin\n",
    "        self.state =state\n",
    "    def get_address(self):\n",
    "        print(f\"{self.city},{self.state},{self.pin}\")\n",
    "\n",
    "addr =Address(\"Banglore\",\"Karnataka\",560073)\n",
    "per = Person(\"abc\",\"F\",addr)\n",
    "\n",
    "per.printaddress()"
   ]
  },
  {
   "cell_type": "code",
   "execution_count": null,
   "metadata": {},
   "outputs": [],
   "source": [
    "import xml.etree.ElementTree as xml\n",
    "tree=xml.ElementTree(file='myfile.xml')\n",
    "root=tree.getroot()\n",
    "\n",
    "for i in root:\n",
    "   d=[{j.tag : j.text for j in i}]\n",
    "print(d)"
   ]
  },
  {
   "cell_type": "code",
   "execution_count": null,
   "metadata": {},
   "outputs": [],
   "source": [
    "import xml.etree.ElementTree as xml\n",
    "\n",
    "tree = xml.ElementTree(file='c.xml')\n",
    "root = tree.getroot()\n",
    "\n",
    "for x in root.iter('age'):\n",
    "    s_id = int(x.text)\n",
    "    s_id += 1\n",
    "    x.text = str(s_id)\n",
    "\n",
    "with open('c.xml', 'wb') as a:\n",
    "    tree.write(a)\n"
   ]
  },
  {
   "cell_type": "code",
   "execution_count": null,
   "metadata": {},
   "outputs": [],
   "source": [
    "import xml.dom.minidom as md\n",
    "\n",
    "l=[{'Name':'A','Age':23},\n",
    "   {'Name':'B','Age':24}]\n",
    "\n",
    "doc=md.Document()                           #step1\n",
    "root=doc.createElement('students')          #step2\n",
    "doc.appendChild(root)                       #step3\n",
    "for i in l:\n",
    "    ch=doc.createElement('std')             #step4\n",
    "    root.appendChild(ch)                    #step5\n",
    "\n",
    "    for j in i:\n",
    "        e=doc.createElement(j)              #step6\n",
    "        ch.appendChild(e)                   #step7\n",
    "        \n",
    "        tn=doc.createTextNode(str(i[j]))    #step8\n",
    "        e.appendChild(tn)                   #step9\n",
    "\n",
    "s=doc.toprettyxml(indent='  ')\n",
    "print(s)\n",
    "print(doc)\n",
    "print(root)"
   ]
  },
  {
   "cell_type": "code",
   "execution_count": null,
   "metadata": {},
   "outputs": [],
   "source": [
    "from bs4 import BeautifulSoup\n",
    "from lxml import etree\n",
    "\n",
    "l=[{'name':'sam'},{'age':'10'}]\n",
    "root=etree.Element('stds')\n",
    "\n",
    "for i in l:\n",
    "    ch=etree.SubElement(root,'std')\n",
    "\n",
    "    for k in i:\n",
    "        ele=etree.SubElement(ch,k)\n",
    "        ele.text=str(i[k])\n",
    "        print(ele.text)\n"
   ]
  },
  {
   "cell_type": "code",
   "execution_count": null,
   "metadata": {},
   "outputs": [],
   "source": [
    "from textwrap import indent\n",
    "\n",
    "xml_string=etree.tostring(root,pretty_print=True,xml_declaration=True)\n",
    "print(indent(xml_string.decode(), '  '))"
   ]
  },
  {
   "cell_type": "markdown",
   "metadata": {},
   "source": [
    "## PICKLE\n",
    "\n",
    "load: Deserialize a pickled object from a file-like object to a Python object.\n",
    "\n",
    "loads: Deserialize a pickled byte stream to a Python object.\n",
    "\n",
    "dump: Serialize a Python object to a pickled format and write it to a file-like object.\n",
    "\n",
    "dumps: Serialize a Python object to a pickled byte stream."
   ]
  },
  {
   "cell_type": "code",
   "execution_count": null,
   "metadata": {},
   "outputs": [],
   "source": [
    "import pickle as p\n",
    "data={\n",
    "    'name': 'ABC',\n",
    "    'age': 40,\n",
    "    'city': 'New London'\n",
    "}\n",
    "\n",
    "s_data=p.dumps(data)\n",
    "with open('s_data.pkl', 'wb') as file:\n",
    "    file.write(s_data)"
   ]
  },
  {
   "cell_type": "code",
   "execution_count": null,
   "metadata": {},
   "outputs": [],
   "source": [
    "with open('seriallize.pickle','rb') as f:\n",
    "    c=p.load(f)\n",
    "\n",
    "print(type(c))\n",
    "print(c)"
   ]
  },
  {
   "cell_type": "code",
   "execution_count": null,
   "metadata": {},
   "outputs": [],
   "source": [
    "import pickle as p\n",
    "l = ['a', 'b', 'c', 1, 2, 3, 4, 5]\n",
    "\n",
    "with open('listpkl.pkl', 'wb') as b:\n",
    "    p.dump(l, b)\n",
    "\n",
    "with open('listpkl.pkl', 'rb') as b:\n",
    "    l1 = p.load(b)\n",
    "\n",
    "print(type(l1))\n",
    "print(l1)"
   ]
  },
  {
   "cell_type": "code",
   "execution_count": null,
   "metadata": {},
   "outputs": [],
   "source": []
  },
  {
   "cell_type": "code",
   "execution_count": null,
   "metadata": {},
   "outputs": [],
   "source": []
  },
  {
   "cell_type": "code",
   "execution_count": null,
   "metadata": {},
   "outputs": [],
   "source": []
  },
  {
   "cell_type": "code",
   "execution_count": 106,
   "metadata": {},
   "outputs": [
    {
     "ename": "NameError",
     "evalue": "name '_name_' is not defined",
     "output_type": "error",
     "traceback": [
      "\u001b[0;31m---------------------------------------------------------------------------\u001b[0m",
      "\u001b[0;31mNameError\u001b[0m                                 Traceback (most recent call last)",
      "Cell \u001b[0;32mIn[106], line 5\u001b[0m\n\u001b[1;32m      2\u001b[0m \u001b[38;5;28;01mfrom\u001b[39;00m \u001b[38;5;21;01mflask_wtf\u001b[39;00m \u001b[38;5;28;01mimport\u001b[39;00m FlaskForm\n\u001b[1;32m      3\u001b[0m \u001b[38;5;28;01mfrom\u001b[39;00m \u001b[38;5;21;01mwtforms\u001b[39;00m \u001b[38;5;28;01mimport\u001b[39;00m StringField, FormField, validators, TextAreaField\n\u001b[0;32m----> 5\u001b[0m app \u001b[38;5;241m=\u001b[39m Flask(\u001b[43m_name_\u001b[49m)\n\u001b[1;32m      6\u001b[0m app\u001b[38;5;241m.\u001b[39mconfig[\u001b[38;5;124m'\u001b[39m\u001b[38;5;124mSECRET_KEY\u001b[39m\u001b[38;5;124m'\u001b[39m] \u001b[38;5;241m=\u001b[39m \u001b[38;5;124m'\u001b[39m\u001b[38;5;124mSecret@123\u001b[39m\u001b[38;5;124m'\u001b[39m\n\u001b[1;32m      8\u001b[0m \u001b[38;5;28;01mclass\u001b[39;00m \u001b[38;5;21;01mContactForm\u001b[39;00m(FlaskForm):\n",
      "\u001b[0;31mNameError\u001b[0m: name '_name_' is not defined"
     ]
    }
   ],
   "source": [
    "#Flask Forms \n",
    "\n",
    "from flask import Flask, render_template, request\n",
    "from flask_wtf import FlaskForm\n",
    "from wtforms import StringField, FormField, validators, TextAreaField\n",
    "\n",
    "app = Flask(_name_)\n",
    "app.config['SECRET_KEY'] = 'Secret@123'\n",
    "\n",
    "class ContactForm(FlaskForm):\n",
    "    name = StringField('Name', validators=[validators.DataRequired()])\n",
    "    email = StringField('Email', validators=[validators.DataRequired(), validators.Email()])\n",
    "    message = TextAreaField('Message', validators=[validators.DataRequired()])\n",
    "    \n",
    "@app.route('/')\n",
    "def index():\n",
    "    form = ContactForm()\n",
    "    return render_template('contact.html', form=form)\n",
    "\n",
    "@app.route('/contact', methods=['GET', 'POST'])\n",
    "def contact():\n",
    "    form = ContactForm()\n",
    "    if form.validate_on_submit():\n",
    "        remark = f'Thank you for contacting {form.name.data}'\n",
    "        return render_template('contact.html', form=form, remark=remark)\n",
    "    else:\n",
    "        return render_template('contact.html', form=form)\n",
    "\n",
    "app.run(debug=True)"
   ]
  },
  {
   "cell_type": "code",
   "execution_count": null,
   "metadata": {},
   "outputs": [],
   "source": []
  },
  {
   "cell_type": "code",
   "execution_count": null,
   "metadata": {},
   "outputs": [],
   "source": [
    "<!DOCTYPE html>\n",
    "<html lang=\"en\">\n",
    "<head>\n",
    "    <meta charset=\"UTF-8\">\n",
    "    <meta name=\"viewport\" content=\"width=device-width, initial-scale=1.0\">\n",
    "    <title>Document</title>\n",
    "</head>\n",
    "<body>\n",
    "    <h1>Contact Us</h1>\n",
    "    <form action=\"/contact\" method=\"post\">\n",
    "        {{form.hidden_tag()}}\n",
    "        <div class=\"form-grp\">\n",
    "            {{form.name.label}}\n",
    "            {{form.name(type = 'text', class=\"form-control\")}}\n",
    "            {% if form.name.errors%}\n",
    "                <div class=\"alert alert-danger\">\n",
    "                    {{from.name.error[0]}}\n",
    "                </div>\n",
    "            {% endif %}\n",
    "        </div>\n",
    "        <div class=\"form-grp\">\n",
    "            {{form.email.label}}\n",
    "            {{form.email(type = 'email', class=\"form-control\")}}\n",
    "            {% if form.email.errors%}\n",
    "                <div class=\"alert alert-danger\">\n",
    "                    {{from.email.error[0]}}\n",
    "                </div>\n",
    "            {% endif %}\n",
    "        </div>\n",
    "        <div class=\"form-grp\">\n",
    "            {{form.message.label}}\n",
    "            {{form.message(class=\"form-control\")}}\n",
    "            {% if form.message.errors%}\n",
    "                <div class=\"alert alert-danger\">\n",
    "                    {{from.message.error[0]}}\n",
    "                </div>\n",
    "            {% endif %}\n",
    "        </div>\n",
    "        <button type=\"submit\" class=\"btn btn-primary\">Chala ja Bkl</button>\n",
    "    </form>\n",
    "    {% if remark %}\n",
    "        <p class=\"alert alert-success\">{{remark}}</p>\n",
    "    {% endif %}\n",
    "\n",
    "</body>\n",
    "</html>"
   ]
  }
 ],
 "metadata": {
  "kernelspec": {
   "display_name": "Python 3",
   "language": "python",
   "name": "python3"
  },
  "language_info": {
   "codemirror_mode": {
    "name": "ipython",
    "version": 3
   },
   "file_extension": ".py",
   "mimetype": "text/x-python",
   "name": "python",
   "nbconvert_exporter": "python",
   "pygments_lexer": "ipython3",
   "version": "3.12.2"
  }
 },
 "nbformat": 4,
 "nbformat_minor": 2
}
