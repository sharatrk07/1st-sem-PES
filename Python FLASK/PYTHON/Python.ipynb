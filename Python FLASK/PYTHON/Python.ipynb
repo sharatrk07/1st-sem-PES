{
 "cells": [
  {
   "cell_type": "code",
   "execution_count": 1,
   "metadata": {},
   "outputs": [
    {
     "name": "stdout",
     "output_type": "stream",
     "text": [
      "Hello, Sharat RK\n"
     ]
    }
   ],
   "source": [
    "name='Sharat RK'\n",
    "print(f\"Hello, {name}\")"
   ]
  },
  {
   "cell_type": "code",
   "execution_count": 2,
   "metadata": {},
   "outputs": [
    {
     "data": {
      "text/plain": [
       "True"
      ]
     },
     "execution_count": 2,
     "metadata": {},
     "output_type": "execute_result"
    }
   ],
   "source": [
    "#Usage of IN and AS keywords\n",
    "\n",
    "a=\"You have not yet opened a folder\"\n",
    "\"not\" in a\n",
    "\n",
    "b=[1,2,3,4,5]\n",
    "5 in b\n",
    "\n",
    "c=5\n",
    "d='5'\n",
    "e=5\n",
    "\n",
    "c is d\n",
    "c is e"
   ]
  },
  {
   "cell_type": "code",
   "execution_count": 1,
   "metadata": {},
   "outputs": [
    {
     "name": "stdout",
     "output_type": "stream",
     "text": [
      "value of 10 + 5 is 15\n",
      "value of 10 - 5 is 5\n",
      "value of 10 * 5 is 50\n",
      "value of 10 / 5 is 2.0\n"
     ]
    }
   ],
   "source": [
    "#calculator\n",
    "a = int(input('Enter first Number'))\n",
    "b = int(input('Enter second Number'))\n",
    "\n",
    "print(\"value of\",a,\"+\",b,\"is\",a + b)\n",
    "\n",
    "print(\"value of\",a,\"-\",b,\"is\", a-b)\n",
    "\n",
    "print(\"value of\",a,\"*\",b,\"is\", a*b)\n",
    "\n",
    "print(\"value of\",a,\"/\",b,\"is\", a/b)"
   ]
  },
  {
   "cell_type": "code",
   "execution_count": 4,
   "metadata": {},
   "outputs": [
    {
     "name": "stdout",
     "output_type": "stream",
     "text": [
      "5\n",
      "7\n",
      "Mango\n"
     ]
    }
   ],
   "source": [
    "# 1) Random Keyword\n",
    "\n",
    "import random\n",
    "\n",
    "#5 and 10 are included\n",
    "print(random.randint(5,10))\n",
    "\n",
    "# only 3 is included but, 9 is not included\n",
    "print(random.randrange(3,9))\n",
    "\n",
    "l=[\"Banana\", \"Apple\", \"Mango\", \"Orange\"]\n",
    "print(random.choice(l))"
   ]
  },
  {
   "cell_type": "code",
   "execution_count": 37,
   "metadata": {},
   "outputs": [
    {
     "name": "stdout",
     "output_type": "stream",
     "text": [
      "7 * 1 = 7\n",
      "7 * 2 = 14\n",
      "7 * 3 = 21\n",
      "7 * 4 = 28\n",
      "7 * 5 = 35\n",
      "7 * 6 = 42\n",
      "7 * 7 = 49\n",
      "7 * 8 = 56\n",
      "7 * 9 = 63\n",
      "7 * 10 = 70\n"
     ]
    }
   ],
   "source": [
    "# 2) Multiplication Table\n",
    "\n",
    "n=int(input())\n",
    "for i in range(1,11):\n",
    "    print(f\"{n} * {i} = {n*i}\")"
   ]
  },
  {
   "cell_type": "code",
   "execution_count": 79,
   "metadata": {},
   "outputs": [
    {
     "name": "stdout",
     "output_type": "stream",
     "text": [
      "0\n",
      "1\n",
      "2\n",
      "3\n",
      "4\n",
      "5\n",
      "\n",
      "\n",
      "1\n",
      "3\n",
      "5\n",
      "7\n",
      "9\n"
     ]
    }
   ],
   "source": [
    "# 3) Break and Continue\n",
    "\n",
    "for i in range(10):\n",
    "    if(i>5):    break\n",
    "    print(i)\n",
    "print(\"\\n\")\n",
    "\n",
    "for i in range(10):\n",
    "    if(i%2==0):    continue\n",
    "    print(i)"
   ]
  },
  {
   "cell_type": "code",
   "execution_count": 2,
   "metadata": {},
   "outputs": [
    {
     "name": "stdout",
     "output_type": "stream",
     "text": [
      "15\n",
      "WELCOME TO PUBG\n",
      "welcome to pubg\n",
      "Welcome to Pubg Mobile\n",
      "['Welcome', 'to', 'Pubg']\n",
      "{'to', 'Welcome', 'Pubg'}\n",
      "Introduction to data python programming\n",
      "1\n",
      "13\n",
      "('introduction ', 'tO', ' dAta Python Programming')\n",
      "13\n"
     ]
    }
   ],
   "source": [
    "# 4) All String Operations\n",
    "\n",
    "a=\"Welcome to Pubg\"\n",
    "print(len(a))\n",
    "print(a.upper())\n",
    "print(a.lower())\n",
    "print(a.replace(\"Pubg\",\"Pubg Mobile\"))\n",
    "print(a.split(\" \"))\n",
    "print(set(a.split(\" \")))\n",
    "\n",
    "b=\"introduction tO dAta Python Programming\"\n",
    "print(b.capitalize())\n",
    "print(b.count(\"tO\"))\n",
    "print(b.find(\"tO\"))\n",
    "print(b.partition(\"tO\"))\n",
    "print(b.index(\"tO\"))"
   ]
  },
  {
   "cell_type": "code",
   "execution_count": 7,
   "metadata": {},
   "outputs": [
    {
     "name": "stdout",
     "output_type": "stream",
     "text": [
      "<class 'tuple'>\n",
      "(1, 2, 3, 4, 5)\n",
      "1\n",
      "5\n",
      "Yes, 4 in b\n",
      "(2, 3, 4)\n"
     ]
    }
   ],
   "source": [
    "# 5) TUPLES\n",
    "\n",
    "a=(1, \"Rahul\", 2 )\n",
    "print(type(a))\n",
    "\n",
    "b=(1,2,3,4,5)\n",
    "print(b)\n",
    "print(b[0])\n",
    "print(b[-1])\n",
    "\n",
    "if 4 in b:\n",
    "    print(\"Yes, 4 in b\")\n",
    "\n",
    "b1=b[1:4]\n",
    "print(b1)"
   ]
  },
  {
   "cell_type": "code",
   "execution_count": 8,
   "metadata": {},
   "outputs": [
    {
     "name": "stdout",
     "output_type": "stream",
     "text": [
      "['yes', 'pass', 'toss', 'doss']\n",
      "[3, 4, 4, 4]\n"
     ]
    }
   ],
   "source": [
    "# 6) given a list of strings, create another list with length of the strings in the list\n",
    "l=['yes','pass','toss','doss']\n",
    "print(l)\n",
    "print(list(map(len, l)))"
   ]
  },
  {
   "cell_type": "code",
   "execution_count": 9,
   "metadata": {},
   "outputs": [
    {
     "name": "stdout",
     "output_type": "stream",
     "text": [
      "{1, 2, 3, 4, 5}\n",
      "{1, 2, 3, 4, 5} {3, 4, 5}\n",
      "{'Cat'}\n",
      "False\n",
      "False\n",
      "False\n",
      "{'Apple', 'Elephant', 'Dog', 'Ball'}\n",
      "{'Ball', 'Apple'}\n",
      "{'Ball', 'Cat'}\n"
     ]
    }
   ],
   "source": [
    "# 7) SET Methods\n",
    "\n",
    "a1={1,2,3}\n",
    "a2={3,4,5}\n",
    "print(a1.union(a2))\n",
    "a1.update(a2)\n",
    "print(a1, a2)\n",
    "\n",
    "b1={\"Apple\", \"Ball\", \"Cat\"}\n",
    "b2={\"Cat\", \"Dog\", \"Elephant\"}\n",
    "print(b1.intersection(b2))\n",
    "\n",
    "print(b1.issubset(b2))\n",
    "print(b1.isdisjoint(b2))\n",
    "print(b1.issuperset(b2))\n",
    "\n",
    "print(b1.symmetric_difference(b2))\n",
    "print(b1.difference(b2))\n",
    "\n",
    "#b1.remove(\"Ball\")\n",
    "b1.discard(\"Apple\")\n",
    "#Both works similar\n",
    "print(b1)\n",
    "# del is used to delete the whole tuple"
   ]
  },
  {
   "cell_type": "code",
   "execution_count": 75,
   "metadata": {},
   "outputs": [
    {
     "name": "stdout",
     "output_type": "stream",
     "text": [
      "Hello Disha UB\n"
     ]
    }
   ],
   "source": [
    "# 9.1) REQUIRED ARGUMENT\n",
    "\n",
    "def greet(fname,lname):\n",
    "    print(\"Hello \"+fname+\" \"+lname)\n",
    "greet(\"Disha\",\"UB\")"
   ]
  },
  {
   "cell_type": "code",
   "execution_count": 76,
   "metadata": {},
   "outputs": [
    {
     "name": "stdout",
     "output_type": "stream",
     "text": [
      "Hello Disha UB\n"
     ]
    }
   ],
   "source": [
    "# 9.2) KEYWORD ARGUMENT\n",
    "\n",
    "def greet(fname,lname):\n",
    "    print(\"Hello \"+fname+\" \"+lname)\n",
    "greet(lname=\"UB\",fname=\"Disha\")"
   ]
  },
  {
   "cell_type": "code",
   "execution_count": 77,
   "metadata": {},
   "outputs": [
    {
     "data": {
      "text/plain": [
       "12"
      ]
     },
     "execution_count": 77,
     "metadata": {},
     "output_type": "execute_result"
    }
   ],
   "source": [
    "# 9.3) DEFAULT ARGUMENT\n",
    "\n",
    "def increment(num,by=1):\n",
    "    total=num+by\n",
    "    return total\n",
    "increment(10,2)"
   ]
  },
  {
   "cell_type": "code",
   "execution_count": 1,
   "metadata": {},
   "outputs": [
    {
     "name": "stdout",
     "output_type": "stream",
     "text": [
      "0\n",
      "3\n",
      "1\n"
     ]
    }
   ],
   "source": [
    "# 9.4) VARIABLE LENGTH ARGUMENT\n",
    "\n",
    "def varlength(*a):\n",
    "    print(len(a))\n",
    "varlength()\n",
    "varlength(1,2,3)\n",
    "varlength(2)"
   ]
  },
  {
   "cell_type": "code",
   "execution_count": 40,
   "metadata": {},
   "outputs": [
    {
     "name": "stdout",
     "output_type": "stream",
     "text": [
      "No parameters passed\n",
      "6\n",
      "1\n",
      "24\n"
     ]
    }
   ],
   "source": [
    "# 9.2)  Function with Parameters\n",
    "\n",
    "def foo(*a):\n",
    "    if len(a)==0:\n",
    "        return 'No parameters passed'\n",
    "    if 0 in a:\n",
    "        return 0\n",
    "    p=1\n",
    "    for i in a:\n",
    "        p*=i\n",
    "    return p\n",
    "print (foo())\n",
    "print (foo(1,2,3))\n",
    "print (foo(1))\n",
    "print (foo(1,2,3,4))"
   ]
  },
  {
   "cell_type": "code",
   "execution_count": 8,
   "metadata": {},
   "outputs": [
    {
     "name": "stdout",
     "output_type": "stream",
     "text": [
      "{'a': 1, 'b': 10}\n",
      "<class 'dict'>\n"
     ]
    }
   ],
   "source": [
    "#fun 4\n",
    "def foo(**a):\n",
    "    print (a)\n",
    "    print(type(a))\n",
    "foo(a=1,b=10)"
   ]
  },
  {
   "cell_type": "code",
   "execution_count": 70,
   "metadata": {},
   "outputs": [
    {
     "data": {
      "text/plain": [
       "5"
      ]
     },
     "execution_count": 70,
     "metadata": {},
     "output_type": "execute_result"
    }
   ],
   "source": [
    "# function count_vowels(s) that takes a string s and returns the count of vowels in it.\n",
    "def count_vowels(s):\n",
    "    vowels = 'aeiouAEIOU'\n",
    "    count=0\n",
    "    for i in s:\n",
    "        if i in vowels:\n",
    "            count+=1\n",
    "    return count\n",
    "count_vowels(\"Hello DEEpAk\")"
   ]
  },
  {
   "cell_type": "code",
   "execution_count": 11,
   "metadata": {},
   "outputs": [
    {
     "name": "stdout",
     "output_type": "stream",
     "text": [
      "[1, 2, 3]\n",
      "<map object at 0x106fb7100>\n",
      "<class 'map'>\n",
      "[1, 4, 9]\n",
      "<class 'list'>\n"
     ]
    }
   ],
   "source": [
    "l=[1,2,3]\n",
    "print(l)\n",
    "\n",
    "l1=map(lambda a: a**2,l)\n",
    "print(l1)\n",
    "print(type(l1))\n",
    "\n",
    "l2=list(l1)\n",
    "print(l2)\n",
    "print(type(l2))"
   ]
  },
  {
   "cell_type": "code",
   "execution_count": 87,
   "metadata": {},
   "outputs": [
    {
     "name": "stdout",
     "output_type": "stream",
     "text": [
      "234\n",
      "[['2'], ['3'], ['4']]\n"
     ]
    }
   ],
   "source": [
    "s=input()\n",
    "print(s)\n",
    "l=list(map(lambda x:x.split(),s))\n",
    "print(l)"
   ]
  },
  {
   "cell_type": "code",
   "execution_count": 18,
   "metadata": {},
   "outputs": [
    {
     "name": "stdout",
     "output_type": "stream",
     "text": [
      "[2, 4, 6, 8]\n",
      "[1, 3, 5, 7, 9]\n"
     ]
    }
   ],
   "source": [
    "l=[1,2,3,4,5,6,7,8,9]\n",
    "evenlist=[]\n",
    "oddlist=[]\n",
    "for i in l:\n",
    "    if i%2==0:\n",
    "        evenlist.append(i)\n",
    "    else:\n",
    "        oddlist.append(i)\n",
    "\n",
    "print(evenlist)\n",
    "print(oddlist)"
   ]
  },
  {
   "cell_type": "code",
   "execution_count": 1,
   "metadata": {},
   "outputs": [
    {
     "name": "stdout",
     "output_type": "stream",
     "text": [
      "120\n"
     ]
    }
   ],
   "source": [
    "# 11) Factorial of number using RECURSION \n",
    "\n",
    "def fact(n):\n",
    "    if(n==0 or n==1):\n",
    "        return 1\n",
    "    else:\n",
    "        return (n *fact(n-1))\n",
    "print(fact(5))"
   ]
  },
  {
   "cell_type": "code",
   "execution_count": 19,
   "metadata": {},
   "outputs": [
    {
     "name": "stdout",
     "output_type": "stream",
     "text": [
      "[1, 2, 3, 4]\n",
      "[2, 4, 6, 8]\n"
     ]
    }
   ],
   "source": [
    "# 12.1) LAMBDA FUNCTION\n",
    "\n",
    "l=[1,2,3,4]\n",
    "print(l)\n",
    "l2=list((map(lambda x: x*2, l)))\n",
    "print(l2)"
   ]
  },
  {
   "cell_type": "code",
   "execution_count": 89,
   "metadata": {},
   "outputs": [
    {
     "name": "stdout",
     "output_type": "stream",
     "text": [
      "[1, 2, 3, 4, 5]\n",
      "[4, 16]\n",
      "[1, 27, 125]\n"
     ]
    }
   ],
   "source": [
    "# 13.1 & 12.2 ) Filter and Map Functions\n",
    "\n",
    "l=list(map(int,input().split()))\n",
    "print(l)\n",
    "evenlist=list(filter(lambda a:a%2 == 0,l))\n",
    "oddlist=list(filter(lambda a:a%2 != 0,l))\n",
    "squareL=list(map(lambda a:a**2,evenlist))\n",
    "cubeL=list(map(lambda a:a**3,oddlist))\n",
    "print(squareL)\n",
    "print(cubeL)"
   ]
  },
  {
   "cell_type": "code",
   "execution_count": 29,
   "metadata": {},
   "outputs": [
    {
     "name": "stdout",
     "output_type": "stream",
     "text": [
      "User-Input: [1, 2, 3, 4, 5]\n",
      "Even List: [2, 4]\n",
      "Odd List: [1, 3, 5]\n"
     ]
    }
   ],
   "source": [
    "# 12.1) use filter\n",
    "#filter(func,iter): filter object\n",
    "\n",
    "l=list(map(int,input().split()))\n",
    "print('User-Input:', l)\n",
    "\n",
    "evenlist=list(filter(lambda a:a%2 == 0,l))\n",
    "oddlist=list(filter(lambda a:a%2 != 0,l))\n",
    "print('Even List:', evenlist)\n",
    "print('Odd List:', oddlist)"
   ]
  },
  {
   "cell_type": "code",
   "execution_count": 10,
   "metadata": {},
   "outputs": [
    {
     "name": "stdout",
     "output_type": "stream",
     "text": [
      "[10]\n",
      "[100]\n"
     ]
    }
   ],
   "source": [
    "# 12.2) Map Functions\n",
    "\n",
    "l=list(map(int,input().split()))\n",
    "if not l:\n",
    "    print('Empty list input')\n",
    "print(l)\n",
    "x=list(map(lambda a:a**2,l))\n",
    "print(x)"
   ]
  },
  {
   "cell_type": "code",
   "execution_count": 91,
   "metadata": {},
   "outputs": [
    {
     "name": "stdout",
     "output_type": "stream",
     "text": [
      "[1, 2, 3, 4, 5]\n",
      "filter is [2, 4]\n",
      "map is [4, 16]\n",
      "<class 'list'>\n",
      "reduce is 20\n"
     ]
    }
   ],
   "source": [
    "# 13.2) MAP FILTER AND REDUCE\n",
    "\n",
    "from functools import reduce\n",
    "l=[1,2,3,4,5]\n",
    "print(l)\n",
    "\n",
    "c=list(filter(lambda i: i%2==0,l))\n",
    "print(f\"filter is {c}\")\n",
    "a=list(map(lambda x:x*x,c))\n",
    "print(f\"map is {a}\")\n",
    "print(type(a))\n",
    "b=reduce(lambda x,y:x+y,a)\n",
    "print(f\"reduce is {b}\")"
   ]
  },
  {
   "cell_type": "code",
   "execution_count": null,
   "metadata": {},
   "outputs": [
    {
     "name": "stdout",
     "output_type": "stream",
     "text": [
      "ENter the orde of matrix\n",
      "3\t3\t4\t\n",
      "5\t2\t3\t\n",
      "15\t15\t20\t\n",
      "25\t10\t15\t\n"
     ]
    }
   ],
   "source": [
    "#Product of matrix\n",
    "print('ENter the orde of matrix')\n",
    "n,m=int(input()),int(input())\n",
    "matrix=[]\n",
    "for i in range(n):\n",
    "    row=[]\n",
    "    for j in range(m):\n",
    "        ele=int(input())\n",
    "        row.append(ele)\n",
    "    matrix.append(row)\n",
    "for i in matrix:\n",
    "    for j in i:\n",
    "        print(j,end='\\t')\n",
    "    print()\n",
    "a=int(input('Enter the number to be multiplied'))\n",
    "l=[]\n",
    "for i in matrix:\n",
    "    p=[]\n",
    "    for j in i:\n",
    "        p.append(j*a)\n",
    "    l.append(p)\n",
    "\n",
    "for i in l:\n",
    "    for j in i:\n",
    "        print(j,end='\\t')\n",
    "    print()"
   ]
  },
  {
   "cell_type": "code",
   "execution_count": 1,
   "metadata": {},
   "outputs": [
    {
     "name": "stdout",
     "output_type": "stream",
     "text": [
      "1 6\n",
      "1\n",
      "3\n",
      "5\n",
      "[1, 9, 25]\n"
     ]
    }
   ],
   "source": [
    "# 15) list comprehension\n",
    "upper=int(input())\n",
    "lower=int(input())\n",
    "\n",
    "print(upper, lower)\n",
    "\n",
    "if upper <= 0 or lower <= 1:\n",
    "    print('invalid input')\n",
    "    exit()\n",
    "a=[]\n",
    "for i in range(upper,lower):\n",
    "    if i%2!=0:\n",
    "        print(i)\n",
    "        a.append(i**2)\n",
    "print(a)"
   ]
  },
  {
   "cell_type": "code",
   "execution_count": 47,
   "metadata": {},
   "outputs": [
    {
     "name": "stdout",
     "output_type": "stream",
     "text": [
      "2 5\n",
      "{2: 4, 3: 9, 4: 16, 5: 25}\n"
     ]
    }
   ],
   "source": [
    "# 17) Dictionary Comprehension 2\n",
    "lower=int(input())\n",
    "upper=int(input())\n",
    "print(lower, upper)\n",
    "\n",
    "if upper==lower:\n",
    "    print('Invalid Input')\n",
    "else:\n",
    "    d={n:n**2 for n in range(lower,upper+1)}\n",
    "    print(d)"
   ]
  },
  {
   "cell_type": "code",
   "execution_count": null,
   "metadata": {},
   "outputs": [
    {
     "name": "stdout",
     "output_type": "stream",
     "text": [
      "suke\n",
      "{'suke': 4}\n"
     ]
    }
   ],
   "source": [
    "# 17) Dictionary Comprehension 1 \n",
    "str=input()\n",
    "if not str:\n",
    "    print('Invalid Input')\n",
    "    exit()\n",
    "d={    a:len(a) for a in str.split()    }\n",
    "print(str)\n",
    "print(d)"
   ]
  },
  {
   "cell_type": "code",
   "execution_count": 2,
   "metadata": {},
   "outputs": [],
   "source": [
    "# 18) ITERATORS\n",
    "\n",
    "L = [i for i in range(1,100)]\n",
    "import sys\n",
    "sys.getsizeof(L)\n",
    "\n",
    "my_iter=iter(range(1, 5))\n",
    "sys.getsizeof(my_iter)\n",
    "\n",
    "#next(my_iter)"
   ]
  },
  {
   "cell_type": "code",
   "execution_count": 67,
   "metadata": {},
   "outputs": [
    {
     "name": "stdout",
     "output_type": "stream",
     "text": [
      "[0, 1, 2, 3]\n"
     ]
    }
   ],
   "source": [
    "# 19) GENERATORS\n",
    "def gen():\n",
    "    n = 0\n",
    "    yield n\n",
    "    n += 1\n",
    "    yield n\n",
    "    n += 1\n",
    "    yield n\n",
    "    n += 1\n",
    "    yield n\n",
    "    \n",
    "a = gen()\n",
    "print(list(a))"
   ]
  },
  {
   "cell_type": "code",
   "execution_count": 31,
   "metadata": {},
   "outputs": [],
   "source": [
    "#--------------------------------------------------------------------------------------------------------------------------------------------------------------------------------------------\n",
    "#------------------------------------------------    CHAPTER 2   ------------------------------------------------------------------------------------------------\n",
    "#------------------------------------------------------------------------------------------------------------------------------------------------------------------------------------------------"
   ]
  },
  {
   "cell_type": "code",
   "execution_count": 102,
   "metadata": {},
   "outputs": [
    {
     "name": "stdout",
     "output_type": "stream",
     "text": [
      "1\n",
      "None\n"
     ]
    }
   ],
   "source": [
    "class car:\n",
    "    def __init__(s,mk,md,yr):\n",
    "        s.mk=mk\n",
    "        s.md=md\n",
    "        s.yr=yr\n",
    "        adometer=0\n",
    "    def start(s):\n",
    "        print(1)\n",
    "a= car(123,100,2024)\n",
    "print(a.start())"
   ]
  },
  {
   "cell_type": "code",
   "execution_count": 59,
   "metadata": {},
   "outputs": [
    {
     "name": "stdout",
     "output_type": "stream",
     "text": [
      "Num1 number =  10\n",
      "Num2 number =  20\n",
      "Addition of two numbers =  30\n"
     ]
    }
   ],
   "source": [
    "# 1) CLASSES AND OBJECTS\n",
    "\n",
    "class Addition:\n",
    "    num1 = int(input())\n",
    "    num2 = int(input())\n",
    "    answer = 0\n",
    "\n",
    "    def _init__(self, f, s):\n",
    "        self.num1 = f\n",
    "        self.num2 = s\n",
    "\n",
    "    def calculate(self):\n",
    "        self.answer = self.num1 + self.num2\n",
    "        \n",
    "    def display(self):\n",
    "        print(\"Num1 number = \", self.num1)\n",
    "        print(\"Num2 number = \", self.num2)\n",
    "        print(\"Addition of two numbers = \", self.answer)\n",
    "\n",
    "a=Addition()\n",
    "a.calculate()\n",
    "a.display()"
   ]
  },
  {
   "cell_type": "code",
   "execution_count": 7,
   "metadata": {},
   "outputs": [
    {
     "name": "stdout",
     "output_type": "stream",
     "text": [
      "Quack\n",
      "Duck\n",
      "None\n"
     ]
    }
   ],
   "source": [
    "# 6) DUCK TYPING\n",
    "\n",
    "class duck:\n",
    "    def quack(s):\n",
    "        print(\"Quack\")\n",
    "        print(\"Duck\")\n",
    "a=duck()\n",
    "print(a.quack())\n",
    "    "
   ]
  },
  {
   "cell_type": "code",
   "execution_count": 14,
   "metadata": {},
   "outputs": [
    {
     "name": "stdout",
     "output_type": "stream",
     "text": [
      "Meow\n",
      "Quack\n"
     ]
    }
   ],
   "source": [
    "# 6) Duck Typing\n",
    "\n",
    "class Cat:\n",
    "    def sound(self):\n",
    "        return \"Meow\"\n",
    "\n",
    "class Duck:\n",
    "    def sound(self):\n",
    "        return \"Quack\"\n",
    "\n",
    "# Function that accepts any object with a sound method\n",
    "def make_sound(animal):\n",
    "    print(animal.sound())\n",
    "\n",
    "# Creating instances of different classes\n",
    "cat = Cat()\n",
    "duck = Duck()\n",
    "\n",
    "# Calling the function make_sound with different objects\n",
    "make_sound(cat)  # Output: Meow\n",
    "make_sound(duck)  # Output: Quack\n"
   ]
  },
  {
   "cell_type": "code",
   "execution_count": null,
   "metadata": {},
   "outputs": [
    {
     "name": "stdout",
     "output_type": "stream",
     "text": [
      "Modified Year: 2020\n"
     ]
    }
   ],
   "source": [
    "# 3.a) Directly modifying an attribute value\n",
    "\n",
    "class Car:\n",
    "    def __init__(self, make, model, year):\n",
    "        self.make = make\n",
    "        self.model = model\n",
    "        self.year = year\n",
    "\n",
    "# Creating an instance of the Car class\n",
    "my_car = Car(\"Toyota\", \"Camry\", 2019)\n",
    "\n",
    "# Modifying the attribute value directly\n",
    "my_car.year = 2020\n",
    "\n",
    "# Printing the modified attribute value\n",
    "print(\"Modified Year:\", my_car.year)\n"
   ]
  },
  {
   "cell_type": "code",
   "execution_count": null,
   "metadata": {},
   "outputs": [
    {
     "name": "stdout",
     "output_type": "stream",
     "text": [
      "Current Year: 2019\n",
      "Modified Year: 2020\n"
     ]
    }
   ],
   "source": [
    "# 3.b) Modify a attribute value through a method\n",
    "\n",
    "class Car:\n",
    "    def __init__(self, make, model, year):\n",
    "        self.make = make\n",
    "        self.model = model\n",
    "        self.year = year\n",
    "\n",
    "    def update_year(self, new_year):\n",
    "        self.year = new_year\n",
    "\n",
    "my_car = Car(\"Toyota\", \"Camry\", 2019)\n",
    "print(\"Current Year:\", my_car.year)\n",
    "\n",
    "my_car.update_year(2020)\n",
    "print(\"Modified Year:\", my_car.year)"
   ]
  },
  {
   "cell_type": "code",
   "execution_count": null,
   "metadata": {},
   "outputs": [
    {
     "name": "stdout",
     "output_type": "stream",
     "text": [
      "Initial Count: 0\n",
      "Incremented Count: 1\n"
     ]
    }
   ],
   "source": [
    "# 3.C) Incrementing an attributes value through a method\n",
    "\n",
    "class Counter:\n",
    "    def __init__(self, count):\n",
    "        self.count = count\n",
    "\n",
    "    def increment(self):\n",
    "        self.count += 1\n",
    "\n",
    "# Creating an instance of the Counter class\n",
    "my_counter = Counter(0)\n",
    "\n",
    "# Printing the initial value of the count attribute\n",
    "print(\"Initial Count:\", my_counter.count)\n",
    "\n",
    "# Incrementing the count attribute using a method\n",
    "my_counter.increment()\n",
    "\n",
    "# Printing the incremented value of the count attribute\n",
    "print(\"Incremented Count:\", my_counter.count)\n"
   ]
  },
  {
   "cell_type": "code",
   "execution_count": null,
   "metadata": {},
   "outputs": [
    {
     "name": "stdout",
     "output_type": "stream",
     "text": [
      "Hello, I'm Parent\n",
      "Hello, I'm Child\n",
      "My name is Child and I'm 10 years old.\n"
     ]
    }
   ],
   "source": [
    "# 4.a & 4.b) Define attributes and methods for a child class\n",
    "\n",
    "class Parent:\n",
    "    def __init__(self, name):\n",
    "        self.name = name\n",
    "\n",
    "    def greet(self):\n",
    "        print(f\"Hello, I'm {self.name}\")\n",
    "\n",
    "class Child(Parent):  # Child class inherits from Parent\n",
    "    def __init__(self, name, age):\n",
    "        super().__init__(name)  # Calling the Parent's __init__ method\n",
    "        self.age = age  # Additional attribute specific to Child\n",
    "\n",
    "    def introduce(self):\n",
    "        print(f\"My name is {self.name} and I'm {self.age} years old.\")\n",
    "\n",
    "# Creating instances of Parent and Child classes\n",
    "parent = Parent(\"Parent\")\n",
    "child = Child(\"Child\", 10)\n",
    "\n",
    "# Accessing attributes and methods\n",
    "parent.greet()  # Output: Hello, I'm Parent\n",
    "child.greet()   # Output: Hello, I'm Child\n",
    "child.introduce()  # Output: My name is Child and I'm 10 years old.\n"
   ]
  },
  {
   "cell_type": "code",
   "execution_count": 60,
   "metadata": {},
   "outputs": [
    {
     "name": "stdout",
     "output_type": "stream",
     "text": [
      "Hello, I'm Varun\n",
      "Hello, I'm Sharat RK and i am 22 years old\n"
     ]
    }
   ],
   "source": [
    "class A:\n",
    "    def __init__(self,name):\n",
    "        self.name=name\n",
    "    def disp(self):\n",
    "        print(f\"Hello, I'm {self.name}\")\n",
    "\n",
    "class B(A):\n",
    "    def __init__(self, name, age):\n",
    "        super().__init__(name)\n",
    "        self.age=age\n",
    "\n",
    "    def display(self):\n",
    "        print(f\"Hello, I'm {self.name} and i am {self.age} years old\")\n",
    "\n",
    "d=A(\"Varun\")\n",
    "d.disp()\n",
    "c=B(\"Sharat RK\", 22)\n",
    "c.display()"
   ]
  },
  {
   "cell_type": "code",
   "execution_count": 7,
   "metadata": {},
   "outputs": [
    {
     "name": "stdout",
     "output_type": "stream",
     "text": [
      "Lot of money\n",
      "Lot of money\n",
      "Tesla\n"
     ]
    }
   ],
   "source": [
    "class Parent:\n",
    "    def __init__(self):\n",
    "        self.money = 100000\n",
    "\n",
    "    def properties(self):\n",
    "        print(\"Lot of money\")\n",
    "\n",
    "class Child(Parent):\n",
    "    def properties(self):\n",
    "        super().properties()  # Call the parent class method\n",
    "        print('Tesla')\n",
    "\n",
    "p = Parent()\n",
    "p.properties()  # Call the method using the instance 'p'\n",
    "\n",
    "child = Child()\n",
    "child.properties()  # Call the method using the instance 'child'"
   ]
  },
  {
   "cell_type": "code",
   "execution_count": 8,
   "metadata": {},
   "outputs": [
    {
     "name": "stdout",
     "output_type": "stream",
     "text": [
      "Name: John Doe\n",
      "Address: 123 Main St, Anytown, 12345\n"
     ]
    }
   ],
   "source": [
    "# 4.d) Instances as attributes\n",
    "\n",
    "class Address:\n",
    "    def __init__(self, street, city, zip_code):\n",
    "        self.street = street\n",
    "        self.city = city\n",
    "        self.zip_code = zip_code\n",
    "\n",
    "    def display(self):\n",
    "        return f\"{self.street}, {self.city}, {self.zip_code}\"\n",
    "\n",
    "class Person:\n",
    "    def __init__(self, name, address):\n",
    "        self.name = name\n",
    "        self.address = address  # Using an instance of Address class as an attribute\n",
    "\n",
    "    def display(self):\n",
    "        return f\"Name: {self.name}\\nAddress: {self.address.display()}\"\n",
    "\n",
    "home_address = Address(\"123 Main St\", \"Anytown\", \"12345\")\n",
    "person = Person(\"John Doe\", home_address)\n",
    "print(person.display())"
   ]
  },
  {
   "cell_type": "code",
   "execution_count": 63,
   "metadata": {},
   "outputs": [
    {
     "name": "stdout",
     "output_type": "stream",
     "text": [
      "GM\n",
      "Hello World\n",
      "GN\n"
     ]
    }
   ],
   "source": [
    "# 11) Decorators\n",
    "\n",
    "def greet(a):\n",
    "    def b():\n",
    "        print(\"GM\")\n",
    "        a()\n",
    "        print(\"GN\")\n",
    "    return b\n",
    "    \n",
    "@greet\n",
    "def hello():\n",
    "    print(\"Hello World\")\n",
    "\n",
    "hello()"
   ]
  },
  {
   "cell_type": "code",
   "execution_count": 66,
   "metadata": {},
   "outputs": [
    {
     "name": "stdout",
     "output_type": "stream",
     "text": [
      "Dell and brand Redmi\n",
      "Dell and brand Realme\n",
      "Realme\n"
     ]
    }
   ],
   "source": [
    "#Change class Method \n",
    "\n",
    "class Company:\n",
    "    brand='Redmi'\n",
    "    def __init__(self, com):\n",
    "        self.com=com\n",
    "    def printd(self):\n",
    "        print(f\"{self.com} and brand {self.brand}\")\n",
    "    \n",
    "    @classmethod\n",
    "    def change(self, newb):\n",
    "        self.brand=newb\n",
    "a=Company('Dell')\n",
    "a.printd()\n",
    "a.change('Realme')\n",
    "a.printd()\n",
    "print(Company.brand)"
   ]
  },
  {
   "cell_type": "code",
   "execution_count": null,
   "metadata": {},
   "outputs": [
    {
     "name": "stdout",
     "output_type": "stream",
     "text": [
      "67.0\n",
      "value is 6.7\n"
     ]
    }
   ],
   "source": [
    "# 8) Getters and Setters\n",
    "\n",
    "class V:\n",
    "    def __init__(self,val):\n",
    "        self.val=val\n",
    "    def showdet(self):\n",
    "        print(f\"value is {self.val}\")\n",
    "    \n",
    "    @property\n",
    "    def multen(self):\n",
    "        return 10 * self.val\n",
    "    \n",
    "    @multen.setter\n",
    "    def multen(self, newv):\n",
    "        self.val=newv/10\n",
    "        \n",
    "a=V(10)\n",
    "a.multen=67\n",
    "print(a.multen)\n",
    "a.showdet()"
   ]
  },
  {
   "cell_type": "code",
   "execution_count": 105,
   "metadata": {},
   "outputs": [
    {
     "name": "stdout",
     "output_type": "stream",
     "text": [
      "PES\n",
      "Sana has 0.2 raise and is working in PES\n"
     ]
    }
   ],
   "source": [
    "# 9) CONSTRUCTORS\n",
    "\n",
    "class Employee:\n",
    "    company = \"PES\"\n",
    "    def __init__(self,name,increment):\n",
    "        self.name=name\n",
    "        self.increment=increment\n",
    "        print(self.company)\n",
    "\n",
    "    def display(self):\n",
    "        print(f\"{self.name} has {self.increment} raise and is working in {Employee.company}\" )\n",
    "\n",
    "e = Employee(\"Sana\",\"0.2\")\n",
    "e.display()"
   ]
  },
  {
   "cell_type": "code",
   "execution_count": 1,
   "metadata": {},
   "outputs": [
    {
     "name": "stdout",
     "output_type": "stream",
     "text": [
      "Engine Started\n"
     ]
    }
   ],
   "source": [
    "#COMPOSITION\n",
    "class Engine():\n",
    "    def __init__(self):\n",
    "        pass\n",
    "    \n",
    "    def start(self):\n",
    "        return \"Engine Started\"\n",
    "    \n",
    "class Wheel():\n",
    "    def __init__(self):\n",
    "        pass\n",
    "\n",
    "class Car():\n",
    "    def __init__(self):\n",
    "        self.engine=Engine()\n",
    "        print(self.engine.start())\n",
    "\n",
    "c = Car()"
   ]
  },
  {
   "cell_type": "code",
   "execution_count": 104,
   "metadata": {},
   "outputs": [
    {
     "name": "stdout",
     "output_type": "stream",
     "text": [
      "Banglore,560073,Karnataka\n"
     ]
    }
   ],
   "source": [
    "# 14) AGGREGAION\n",
    "\n",
    "class Person:\n",
    "    def __init__(self,name,gender,address):\n",
    "        self.name = name\n",
    "        self.gender = gender\n",
    "        self.address =address\n",
    "    def printaddress(self):\n",
    "        self.address.get_address()\n",
    "\n",
    "class Address:\n",
    "    def __init__(self,city,pin,state):\n",
    "        self.city = city\n",
    "        self.pin = pin\n",
    "        self.state =state\n",
    "    def get_address(self):\n",
    "        print(f\"{self.city},{self.state},{self.pin}\")\n",
    "\n",
    "addr =Address(\"Banglore\",\"Karnataka\",560073)\n",
    "per = Person(\"abc\",\"F\",addr)\n",
    "\n",
    "per.printaddress()"
   ]
  }
 ],
 "metadata": {
  "kernelspec": {
   "display_name": "Python 3",
   "language": "python",
   "name": "python3"
  },
  "language_info": {
   "codemirror_mode": {
    "name": "ipython",
    "version": 3
   },
   "file_extension": ".py",
   "mimetype": "text/x-python",
   "name": "python",
   "nbconvert_exporter": "python",
   "pygments_lexer": "ipython3",
   "version": "3.12.2"
  }
 },
 "nbformat": 4,
 "nbformat_minor": 2
}
