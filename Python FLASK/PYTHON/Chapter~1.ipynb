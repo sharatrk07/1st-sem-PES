{
 "cells": [
  {
   "cell_type": "markdown",
   "metadata": {},
   "source": [
    "## Boolean Literals"
   ]
  },
  {
   "cell_type": "code",
   "execution_count": 1,
   "metadata": {},
   "outputs": [
    {
     "name": "stdout",
     "output_type": "stream",
     "text": [
      "True\n",
      "False\n",
      "2\n"
     ]
    }
   ],
   "source": [
    "x=(1==True)\n",
    "print(x) # prints: True\n",
    "print(1==False)\n",
    "print(True+1)"
   ]
  },
  {
   "cell_type": "code",
   "execution_count": 1,
   "metadata": {},
   "outputs": [
    {
     "name": "stdout",
     "output_type": "stream",
     "text": [
      "100\n"
     ]
    }
   ],
   "source": [
    "a=100;b=10\n",
    "print(a) if a>b else print(b)"
   ]
  },
  {
   "cell_type": "code",
   "execution_count": 4,
   "metadata": {},
   "outputs": [
    {
     "name": "stdout",
     "output_type": "stream",
     "text": [
      "b\n"
     ]
    }
   ],
   "source": [
    "a=100;b=100\n",
    "print('a') if a>b else print('b') if a==b else print('a==b')"
   ]
  },
  {
   "cell_type": "code",
   "execution_count": 8,
   "metadata": {},
   "outputs": [
    {
     "name": "stdout",
     "output_type": "stream",
     "text": [
      "1\n",
      "2\n",
      "4\n",
      "5\n",
      "6\n"
     ]
    }
   ],
   "source": [
    "i=0\n",
    "while i<6:\n",
    "    i+=1\n",
    "    if i==3:    \n",
    "        continue\n",
    "    #i+=1\n",
    "    print(i)"
   ]
  },
  {
   "cell_type": "code",
   "execution_count": 3,
   "metadata": {},
   "outputs": [
    {
     "name": "stdout",
     "output_type": "stream",
     "text": [
      "0\n",
      "1\n",
      "2\n",
      "3\n",
      "4\n",
      "5\n",
      "6\n",
      "7\n",
      "8\n",
      "9\n",
      "Hello\n"
     ]
    }
   ],
   "source": [
    "for i in range(10):\n",
    "    print(i)\n",
    "print(\"Hello\")"
   ]
  },
  {
   "cell_type": "code",
   "execution_count": 6,
   "metadata": {},
   "outputs": [
    {
     "name": "stdout",
     "output_type": "stream",
     "text": [
      "None\n",
      "[1, 2, 3, 4, 5, 'Sharat', 'samath', 'lohit']\n",
      "[1, 2, 'sai', 3, 4, 5, 'Sharat', 'samath', 'lohit']\n",
      "[1, 2, 'sai', 3, 4, 5, 'Sharat', 'lohit']\n",
      "[1, 2, 3, 4, 5, 'Sharat', 'lohit']\n",
      "['lohit', 'Sharat', 5, 4, 3, 2, 1]\n"
     ]
    }
   ],
   "source": [
    "# List\n",
    "l=[1,2,3,4,5,\"Sharat\", \"samath\"]\n",
    "print(l.append('lohit'))\n",
    "print(l)\n",
    "l.insert(2,'sai')\n",
    "print(l)\n",
    "l.remove('samath')\n",
    "print(l)\n",
    "l.pop(2)\n",
    "print(l)\n",
    "#l.sort()\n",
    "#print(l)\n",
    "l.reverse()\n",
    "print(l)"
   ]
  },
  {
   "cell_type": "code",
   "execution_count": 13,
   "metadata": {},
   "outputs": [
    {
     "name": "stdout",
     "output_type": "stream",
     "text": [
      "{'a', 1, 2, 3, 4, 'z', 'b', 'c'}\n",
      "{'a', 1, 2, 3, 4, 'z', 'b', 'c'}\n",
      "{1, 2, 3, 4, 'z', 'b', 'c'}\n",
      "{1, 3, 4, 'z', 'b', 'c'}\n",
      "{1, 3, 4, 'z', 'b', 'c'}\n"
     ]
    }
   ],
   "source": [
    "# Tuple\n",
    "a={'a','b','c',1,2,3,4}\n",
    "b={'a','b',3,4,'l'}\n",
    "\n",
    "a.add('z')\n",
    "print(a)\n",
    "a.intersection(b)\n",
    "print(a)\n",
    "a.pop()\n",
    "print(a)\n",
    "a.remove(2)\n",
    "print(a)\n",
    "a.union(b)\n",
    "print(a)\n"
   ]
  },
  {
   "cell_type": "code",
   "execution_count": 14,
   "metadata": {},
   "outputs": [
    {
     "name": "stdout",
     "output_type": "stream",
     "text": [
      "frozenset({1, 2, 3, 4})\n"
     ]
    },
    {
     "ename": "AttributeError",
     "evalue": "'frozenset' object has no attribute 'append'",
     "output_type": "error",
     "traceback": [
      "\u001b[0;31m---------------------------------------------------------------------------\u001b[0m",
      "\u001b[0;31mAttributeError\u001b[0m                            Traceback (most recent call last)",
      "Cell \u001b[0;32mIn[14], line 3\u001b[0m\n\u001b[1;32m      1\u001b[0m a\u001b[38;5;241m=\u001b[39m\u001b[38;5;28mfrozenset\u001b[39m([\u001b[38;5;241m1\u001b[39m,\u001b[38;5;241m2\u001b[39m,\u001b[38;5;241m3\u001b[39m,\u001b[38;5;241m4\u001b[39m])\n\u001b[1;32m      2\u001b[0m \u001b[38;5;28mprint\u001b[39m(a)\n\u001b[0;32m----> 3\u001b[0m \u001b[43ma\u001b[49m\u001b[38;5;241;43m.\u001b[39;49m\u001b[43mappend\u001b[49m(\u001b[38;5;124m'\u001b[39m\u001b[38;5;124mb\u001b[39m\u001b[38;5;124m'\u001b[39m)\n",
      "\u001b[0;31mAttributeError\u001b[0m: 'frozenset' object has no attribute 'append'"
     ]
    }
   ],
   "source": [
    "a=frozenset([1,2,3,4])\n",
    "print(a)\n",
    "# Because, the frozenset takes an list or tuple or set and keep it unchangable\n",
    "# The value in this mode cannot be changed \n",
    "a.append('b')"
   ]
  },
  {
   "cell_type": "code",
   "execution_count": 1,
   "metadata": {},
   "outputs": [
    {
     "name": "stdout",
     "output_type": "stream",
     "text": [
      "7\n"
     ]
    }
   ],
   "source": [
    "def fun(a,b):\n",
    "    return a+b\n",
    "print(fun(3,4)) #7"
   ]
  },
  {
   "cell_type": "code",
   "execution_count": 2,
   "metadata": {},
   "outputs": [
    {
     "name": "stdout",
     "output_type": "stream",
     "text": [
      "Outside modify_immutable\n",
      "Before calling function: 5\n",
      "Inside modify_immutable\n",
      "Before modification: 5\n",
      "After modification: 10\n",
      "After calling function: 5\n",
      "\n",
      "Outside modify_mutable\n",
      "Before calling function: [1, 2, 3]\n",
      "Inside modify_mutable\n",
      "Before modification: [1, 2, 3]\n",
      "After modification: [1, 2, 3, 4]\n",
      "After calling function: [1, 2, 3, 4]\n"
     ]
    }
   ],
   "source": [
    "# Function to demonstrate passing immutable objects\n",
    "def modify_immutable(x):\n",
    "    print(\"Inside modify_immutable\")\n",
    "    print(\"Before modification:\", x)\n",
    "    x = 10  # Trying to modify the value\n",
    "    print(\"After modification:\", x)\n",
    "\n",
    "# Function to demonstrate passing mutable objects\n",
    "def modify_mutable(lst):\n",
    "    print(\"Inside modify_mutable\")\n",
    "    print(\"Before modification:\", lst)\n",
    "    lst.append(4)  # Modifying the list\n",
    "    print(\"After modification:\", lst)\n",
    "\n",
    "# Main code\n",
    "# Immutable object example\n",
    "a = 5\n",
    "print(\"Outside modify_immutable\")\n",
    "print(\"Before calling function:\", a)\n",
    "modify_immutable(a)\n",
    "print(\"After calling function:\", a)\n",
    "print()\n",
    "\n",
    "# Mutable object example\n",
    "b = [1, 2, 3]\n",
    "print(\"Outside modify_mutable\")\n",
    "print(\"Before calling function:\", b)\n",
    "modify_mutable(b)\n",
    "print(\"After calling function:\", b)\n"
   ]
  },
  {
   "cell_type": "code",
   "execution_count": 5,
   "metadata": {},
   "outputs": [
    {
     "name": "stdout",
     "output_type": "stream",
     "text": [
      "8\n"
     ]
    }
   ],
   "source": [
    "def add(a,b=5):\n",
    "    return a + b\n",
    "print(add(3)) # Output: 7"
   ]
  },
  {
   "cell_type": "code",
   "execution_count": 7,
   "metadata": {},
   "outputs": [
    {
     "data": {
      "text/plain": [
       "3"
      ]
     },
     "execution_count": 7,
     "metadata": {},
     "output_type": "execute_result"
    }
   ],
   "source": [
    "def val(*a):\n",
    "    return len(a)\n",
    "val(1,2,3)"
   ]
  },
  {
   "cell_type": "code",
   "execution_count": 13,
   "metadata": {},
   "outputs": [
    {
     "name": "stdout",
     "output_type": "stream",
     "text": [
      "15\n"
     ]
    }
   ],
   "source": [
    "def sum(n):\n",
    "    if(n==0):\n",
    "        return 0\n",
    "    else:\n",
    "        n = n + sum(n-1)\n",
    "    return n\n",
    "\n",
    "print(sum(5)) # This will cause a recursion error because there is no base case"
   ]
  },
  {
   "cell_type": "code",
   "execution_count": 14,
   "metadata": {},
   "outputs": [
    {
     "name": "stdout",
     "output_type": "stream",
     "text": [
      "120\n"
     ]
    }
   ],
   "source": [
    "def fact(n):\n",
    "    if n == 0:\n",
    "        return 1\n",
    "    else:\n",
    "        return n * fact(n-1)\n",
    "print(fact(5))"
   ]
  },
  {
   "cell_type": "code",
   "execution_count": 20,
   "metadata": {},
   "outputs": [
    {
     "name": "stdout",
     "output_type": "stream",
     "text": [
      "6\n"
     ]
    }
   ],
   "source": [
    "def gcd(a, b):\n",
    "    if b == 0:\n",
    "        return a\n",
    "    else:\n",
    "        return gcd(b, a % b)\n",
    "\n",
    "print(gcd(48, 18))"
   ]
  },
  {
   "cell_type": "code",
   "execution_count": 1,
   "metadata": {},
   "outputs": [
    {
     "name": "stdout",
     "output_type": "stream",
     "text": [
      "[10, 20]\n"
     ]
    }
   ],
   "source": [
    "b=[10, 20, 23, 47, 53]\n",
    "l=list(filter(lambda a:a%2==0, b))\n",
    "print(l)"
   ]
  },
  {
   "cell_type": "code",
   "execution_count": 3,
   "metadata": {},
   "outputs": [
    {
     "name": "stdout",
     "output_type": "stream",
     "text": [
      "150\n"
     ]
    }
   ],
   "source": [
    "from functools import reduce\n",
    "a=[10,20,30,40,50]\n",
    "b=reduce(lambda x,y: x+y, a)\n",
    "print(b)"
   ]
  },
  {
   "cell_type": "code",
   "execution_count": 7,
   "metadata": {},
   "outputs": [
    {
     "name": "stdout",
     "output_type": "stream",
     "text": [
      "[('10', '20'), ('20', '30'), ('30', '40')]\n"
     ]
    }
   ],
   "source": [
    "a=list(input().split())\n",
    "b=list(input().split())\n",
    "print(list(zip(a,b)))"
   ]
  },
  {
   "cell_type": "code",
   "execution_count": 15,
   "metadata": {},
   "outputs": [
    {
     "name": "stdout",
     "output_type": "stream",
     "text": [
      "The sum of the digits in 12345 is 15\n"
     ]
    }
   ],
   "source": [
    "from functools import reduce\n",
    "\n",
    "number = str(input())\n",
    "\n",
    "sum = reduce(lambda x, y: int(x) + int(y), n)\n",
    "\n",
    "print(f\"The sum of the digits in {number} is {sum}\")\n"
   ]
  },
  {
   "cell_type": "code",
   "execution_count": 18,
   "metadata": {},
   "outputs": [
    {
     "name": "stdout",
     "output_type": "stream",
     "text": [
      "12\n",
      "8\n",
      "20\n"
     ]
    }
   ],
   "source": [
    "import operator as o\n",
    "print(o.add(10,2))\n",
    "print(o.sub(10,2))\n",
    "print(o.mul(10,2))"
   ]
  },
  {
   "cell_type": "code",
   "execution_count": 19,
   "metadata": {},
   "outputs": [
    {
     "name": "stdout",
     "output_type": "stream",
     "text": [
      "['hello', 'hello', 'hello', 'hello', 'hello']\n"
     ]
    }
   ],
   "source": [
    "print(['hello' for x in range(5)])\n",
    "#l1=[]\n",
    "#for x in range(5):\n",
    "#   l1.append(x)"
   ]
  },
  {
   "cell_type": "code",
   "execution_count": 20,
   "metadata": {},
   "outputs": [
    {
     "name": "stdout",
     "output_type": "stream",
     "text": [
      "[0, 1, 4, 9, 16]\n"
     ]
    }
   ],
   "source": [
    "print([x * x for x in range(5)])"
   ]
  }
 ],
 "metadata": {
  "kernelspec": {
   "display_name": "Python 3",
   "language": "python",
   "name": "python3"
  },
  "language_info": {
   "codemirror_mode": {
    "name": "ipython",
    "version": 3
   },
   "file_extension": ".py",
   "mimetype": "text/x-python",
   "name": "python",
   "nbconvert_exporter": "python",
   "pygments_lexer": "ipython3",
   "version": "3.12.2"
  }
 },
 "nbformat": 4,
 "nbformat_minor": 2
}
