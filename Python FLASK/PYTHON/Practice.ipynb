{
 "cells": [
  {
   "cell_type": "code",
   "execution_count": 6,
   "metadata": {},
   "outputs": [
    {
     "name": "stdout",
     "output_type": "stream",
     "text": [
      "{'Name': 'Sharat', 'Language': ['English', 'Hindi']}\n",
      "['English', 'Hindi']\n"
     ]
    }
   ],
   "source": [
    "import json\n",
    "person= '{\"Name\":\"Sharat\", \"Language\":[\"English\", \"Hindi\"]}'\n",
    "b=json.loads(person)\n",
    "print(b)\n",
    "print(b['Language'])"
   ]
  },
  {
   "cell_type": "code",
   "execution_count": 7,
   "metadata": {},
   "outputs": [
    {
     "data": {
      "text/plain": [
       "'{\"name\": \"lupin\", \"age\": 23, \"children\": null}'"
      ]
     },
     "execution_count": 7,
     "metadata": {},
     "output_type": "execute_result"
    }
   ],
   "source": [
    "import json\n",
    "a={'name':'lupin', 'age':23, 'children':None}\n",
    "b=json.dumps(a)\n",
    "b"
   ]
  },
  {
   "cell_type": "markdown",
   "metadata": {},
   "source": [
    "## File handling for text files"
   ]
  },
  {
   "cell_type": "code",
   "execution_count": 6,
   "metadata": {},
   "outputs": [],
   "source": [
    "f=open('test.txt','w')"
   ]
  },
  {
   "cell_type": "code",
   "execution_count": 3,
   "metadata": {},
   "outputs": [
    {
     "data": {
      "text/plain": [
       "'test.txt'"
      ]
     },
     "execution_count": 3,
     "metadata": {},
     "output_type": "execute_result"
    }
   ],
   "source": [
    "f.name"
   ]
  },
  {
   "cell_type": "code",
   "execution_count": 4,
   "metadata": {},
   "outputs": [
    {
     "data": {
      "text/plain": [
       "'r'"
      ]
     },
     "execution_count": 4,
     "metadata": {},
     "output_type": "execute_result"
    }
   ],
   "source": [
    "f.mode"
   ]
  },
  {
   "cell_type": "code",
   "execution_count": 7,
   "metadata": {},
   "outputs": [
    {
     "data": {
      "text/plain": [
       "20"
      ]
     },
     "execution_count": 7,
     "metadata": {},
     "output_type": "execute_result"
    }
   ],
   "source": [
    "f.write('My name is sharat rk')"
   ]
  },
  {
   "cell_type": "code",
   "execution_count": 8,
   "metadata": {},
   "outputs": [],
   "source": [
    "f.close()"
   ]
  },
  {
   "cell_type": "code",
   "execution_count": 10,
   "metadata": {},
   "outputs": [
    {
     "data": {
      "text/plain": [
       "True"
      ]
     },
     "execution_count": 10,
     "metadata": {},
     "output_type": "execute_result"
    }
   ],
   "source": [
    "f.closed"
   ]
  },
  {
   "cell_type": "code",
   "execution_count": 13,
   "metadata": {},
   "outputs": [
    {
     "data": {
      "text/plain": [
       "'My name is'"
      ]
     },
     "execution_count": 13,
     "metadata": {},
     "output_type": "execute_result"
    }
   ],
   "source": [
    "f=open('test.txt','r')\n",
    "s=f.read(10)\n",
    "s"
   ]
  },
  {
   "cell_type": "code",
   "execution_count": 15,
   "metadata": {},
   "outputs": [
    {
     "data": {
      "text/plain": [
       "<function TextIOWrapper.close()>"
      ]
     },
     "execution_count": 15,
     "metadata": {},
     "output_type": "execute_result"
    }
   ],
   "source": [
    "f.close"
   ]
  },
  {
   "cell_type": "code",
   "execution_count": 16,
   "metadata": {},
   "outputs": [
    {
     "data": {
      "text/plain": [
       "0"
      ]
     },
     "execution_count": 16,
     "metadata": {},
     "output_type": "execute_result"
    }
   ],
   "source": [
    "f=open('test.txt','r')\n",
    "f.tell()"
   ]
  },
  {
   "cell_type": "code",
   "execution_count": 21,
   "metadata": {},
   "outputs": [
    {
     "data": {
      "text/plain": [
       "20"
      ]
     },
     "execution_count": 21,
     "metadata": {},
     "output_type": "execute_result"
    }
   ],
   "source": [
    "s=f.read(5)\n",
    "f.tell()"
   ]
  },
  {
   "cell_type": "code",
   "execution_count": 22,
   "metadata": {},
   "outputs": [
    {
     "data": {
      "text/plain": [
       "15"
      ]
     },
     "execution_count": 22,
     "metadata": {},
     "output_type": "execute_result"
    }
   ],
   "source": [
    "p=f.seek(15)\n",
    "p"
   ]
  },
  {
   "cell_type": "code",
   "execution_count": 23,
   "metadata": {},
   "outputs": [
    {
     "data": {
      "text/plain": [
       "'at rk'"
      ]
     },
     "execution_count": 23,
     "metadata": {},
     "output_type": "execute_result"
    }
   ],
   "source": [
    "s=f.read(10)\n",
    "s"
   ]
  },
  {
   "cell_type": "code",
   "execution_count": 24,
   "metadata": {},
   "outputs": [],
   "source": [
    "f.close()"
   ]
  },
  {
   "cell_type": "code",
   "execution_count": 25,
   "metadata": {},
   "outputs": [
    {
     "data": {
      "text/plain": [
       "20"
      ]
     },
     "execution_count": 25,
     "metadata": {},
     "output_type": "execute_result"
    }
   ],
   "source": [
    "f=open('test.txt','a')\n",
    "f.tell()"
   ]
  },
  {
   "cell_type": "code",
   "execution_count": 28,
   "metadata": {},
   "outputs": [
    {
     "data": {
      "text/plain": [
       "39"
      ]
     },
     "execution_count": 28,
     "metadata": {},
     "output_type": "execute_result"
    }
   ],
   "source": [
    "f.write('\\nIt is nice to learn all the file modes')"
   ]
  },
  {
   "cell_type": "code",
   "execution_count": 27,
   "metadata": {},
   "outputs": [
    {
     "data": {
      "text/plain": [
       "58"
      ]
     },
     "execution_count": 27,
     "metadata": {},
     "output_type": "execute_result"
    }
   ],
   "source": [
    "f.tell()"
   ]
  },
  {
   "cell_type": "code",
   "execution_count": 29,
   "metadata": {},
   "outputs": [],
   "source": [
    "f.close()"
   ]
  },
  {
   "cell_type": "code",
   "execution_count": 30,
   "metadata": {},
   "outputs": [
    {
     "data": {
      "text/plain": [
       "'My name is sharat rkIt is nice to learn all the file modes\\nIt is nice to learn all the file modes'"
      ]
     },
     "execution_count": 30,
     "metadata": {},
     "output_type": "execute_result"
    }
   ],
   "source": [
    "f=open('test.txt','r')\n",
    "s=f.read()\n",
    "s"
   ]
  },
  {
   "cell_type": "markdown",
   "metadata": {},
   "source": [
    "## File Handling for CSV FIles"
   ]
  },
  {
   "cell_type": "code",
   "execution_count": 35,
   "metadata": {},
   "outputs": [
    {
     "name": "stdout",
     "output_type": "stream",
     "text": [
      "['Name', 'Age']\n",
      "['ABC', '30']\n",
      "['DEF', '25']\n"
     ]
    }
   ],
   "source": [
    "import csv\n",
    "with open('c.csv','r') as a:\n",
    "    b=csv.reader(a)\n",
    "    for i in b:\n",
    "        print(i)"
   ]
  },
  {
   "cell_type": "code",
   "execution_count": 2,
   "metadata": {},
   "outputs": [
    {
     "name": "stdout",
     "output_type": "stream",
     "text": [
      "No data is available\n",
      "Sharat of age 25 years and works as HR\n",
      "Suhas of age 30 years and works as Sales\n",
      "Samath of age 40 years and works as Marketing\n",
      "Number of lines read is 4\n"
     ]
    }
   ],
   "source": [
    "import csv\n",
    "with open('emp.csv','r') as a:\n",
    "    b=csv.reader(a)\n",
    "    lc=0\n",
    "    for i in b:\n",
    "        if(lc==0):\n",
    "            print('No data is available')\n",
    "            lc+=1\n",
    "        else:\n",
    "            print(i[0]+\" of age \"+str(i[1])+\" years and works as \"+i[2])\n",
    "            lc+=1\n",
    "\n",
    "print(\"Number of lines read is \"+str(lc))"
   ]
  },
  {
   "cell_type": "markdown",
   "metadata": {},
   "source": [
    "## Writing a CSV File"
   ]
  },
  {
   "cell_type": "code",
   "execution_count": 4,
   "metadata": {},
   "outputs": [],
   "source": [
    "import csv\n",
    "with open('sharat.csv',mode = 'w') as a:\n",
    "    b=csv.writer(a,delimiter='\\t')\n",
    "    b.writerow(['NAME','DEPARTMENT','YEAR'])\n",
    "    b.writerow(['ABC', 'Accounting','November'])\n",
    "    b.writerow(['XYZ', 'HR','December'])"
   ]
  },
  {
   "cell_type": "markdown",
   "metadata": {},
   "source": [
    "## CSV with PANDAS"
   ]
  },
  {
   "cell_type": "code",
   "execution_count": 16,
   "metadata": {},
   "outputs": [
    {
     "data": {
      "text/html": [
       "<div>\n",
       "<style scoped>\n",
       "    .dataframe tbody tr th:only-of-type {\n",
       "        vertical-align: middle;\n",
       "    }\n",
       "\n",
       "    .dataframe tbody tr th {\n",
       "        vertical-align: top;\n",
       "    }\n",
       "\n",
       "    .dataframe thead th {\n",
       "        text-align: right;\n",
       "    }\n",
       "</style>\n",
       "<table border=\"1\" class=\"dataframe\">\n",
       "  <thead>\n",
       "    <tr style=\"text-align: right;\">\n",
       "      <th></th>\n",
       "      <th>Name  |Hire Date|   Salary|   Sick Days Remaining</th>\n",
       "    </tr>\n",
       "  </thead>\n",
       "  <tbody>\n",
       "    <tr>\n",
       "      <th>0</th>\n",
       "      <td>GC   03/15/14    50000               10</td>\n",
       "    </tr>\n",
       "    <tr>\n",
       "      <th>1</th>\n",
       "      <td>JC   06/01/15    65000               8</td>\n",
       "    </tr>\n",
       "    <tr>\n",
       "      <th>2</th>\n",
       "      <td>EI   05/12/14    45000               10</td>\n",
       "    </tr>\n",
       "    <tr>\n",
       "      <th>3</th>\n",
       "      <td>TJ   11/01/13    70000               3</td>\n",
       "    </tr>\n",
       "  </tbody>\n",
       "</table>\n",
       "</div>"
      ],
      "text/plain": [
       "  Name  |Hire Date|   Salary|   Sick Days Remaining\n",
       "0           GC   03/15/14    50000               10\n",
       "1            JC   06/01/15    65000               8\n",
       "2           EI   05/12/14    45000               10\n",
       "3            TJ   11/01/13    70000               3"
      ]
     },
     "execution_count": 16,
     "metadata": {},
     "output_type": "execute_result"
    }
   ],
   "source": [
    "import pandas as pd\n",
    "b=pd.read_csv('hr.csv')\n",
    "b"
   ]
  },
  {
   "cell_type": "code",
   "execution_count": 19,
   "metadata": {},
   "outputs": [
    {
     "name": "stdout",
     "output_type": "stream",
     "text": [
      "  Name  |Hire Date|   Salary|   Sick Days Remaining\n",
      "0      GC   03/15/14    50000                    10\n",
      "1      JC   06/01/15    65000                     8\n",
      "2      EI   05/12/14    45000                    10\n",
      "3      TJ   11/01/13    70000                     3\n",
      "An error occurred: Index Name invalid\n"
     ]
    }
   ],
   "source": [
    "import pandas as pd\n",
    "\n",
    "def date_parser(x):\n",
    "    formats = ['%m/%d/%y', '%m-%d-%y']\n",
    "    for fmt in formats:\n",
    "        try:\n",
    "            return pd.to_datetime(x, format=fmt)\n",
    "        except ValueError:\n",
    "            continue\n",
    "    return pd.NaT\n",
    "\n",
    "def main():\n",
    "    try:\n",
    "        # Read the CSV file without parsing dates initially\n",
    "        df = pd.read_csv('hr.csv', index_col='Name')\n",
    "\n",
    "        # Display the column names to check for 'Hire Date'\n",
    "        print(\"Columns in CSV:\", df.columns)\n",
    "\n",
    "        # Trim any leading/trailing whitespace from column names\n",
    "        df.columns = df.columns.str.strip()\n",
    "\n",
    "        # Check if 'Hire Date' column exists after trimming\n",
    "        if 'Hire Date' not in df.columns:\n",
    "            print(\"The column 'Hire Date' was not found in the CSV file.\")\n",
    "            return\n",
    "\n",
    "        # Now parse the 'Hire Date' column\n",
    "        df['Hire Date'] = df['Hire Date'].apply(date_parser)\n",
    "        \n",
    "        print(df)\n",
    "    except FileNotFoundError:\n",
    "        print(\"The file 'hr.csv' was not found.\")\n",
    "    except pd.errors.ParserError as e:\n",
    "        print(f\"Parsing error: {e}\")\n",
    "    except Exception as e:\n",
    "        print(f\"An error occurred: {e}\")\n",
    "\n",
    "print(df)\n",
    "\n",
    "if __name__ == \"__main__\":\n",
    "    main()"
   ]
  },
  {
   "cell_type": "markdown",
   "metadata": {},
   "source": [
    "## JSON Files\n",
    "\n",
    "\n",
    "load: Deserialize JSON content from a file-like object to a Python object.\n",
    "\n",
    "loads: Deserialize a JSON-formatted string to a Python object.\n",
    "\n",
    "dump: Serialize a Python object to JSON format and write it to a file-like object.\n",
    "\n",
    "dumps: Serialize a Python object to a JSON-formatted string."
   ]
  },
  {
   "cell_type": "code",
   "execution_count": 27,
   "metadata": {},
   "outputs": [
    {
     "name": "stdout",
     "output_type": "stream",
     "text": [
      "{\"Name\" : \"Sharat\",\"Language\" : [\"English\", \"Hindi\"]}\n",
      "{'Name': 'Sharat', 'Language': ['English', 'Hindi']}\n",
      "['English', 'Hindi']\n"
     ]
    }
   ],
   "source": [
    "import json\n",
    "a='{\"Name\" : \"Sharat\",\"Language\" : [\"English\", \"Hindi\"]}'\n",
    "b=json.loads(a)\n",
    "print(a)\n",
    "print(b)\n",
    "print(b['Language'])"
   ]
  },
  {
   "cell_type": "code",
   "execution_count": 1,
   "metadata": {},
   "outputs": [
    {
     "data": {
      "text/plain": [
       "[{'name': 'John Doe', 'id': 1},\n",
       " {'name': 'Jane Smith', 'id': 2},\n",
       " {'name': 'Bob Johnson', 'id': 3}]"
      ]
     },
     "execution_count": 1,
     "metadata": {},
     "output_type": "execute_result"
    }
   ],
   "source": [
    "import json\n",
    "with open('c.json','r') as a:\n",
    "    b=json.load(a)\n",
    "b"
   ]
  },
  {
   "cell_type": "code",
   "execution_count": 7,
   "metadata": {},
   "outputs": [
    {
     "name": "stdout",
     "output_type": "stream",
     "text": [
      "{\"Name\": \"Sharat\", \"Age\": 23, \"Married\": null}\n",
      "<class 'dict'>\n",
      "<class 'str'>\n"
     ]
    }
   ],
   "source": [
    "import json\n",
    "\n",
    "a={\"Name\":\"Sharat\",\n",
    "   \"Age\":23,\n",
    "   \"Married\":None}\n",
    "b=json.dumps(a)\n",
    "print(b)\n",
    "print(type(a))\n",
    "print(type(b))"
   ]
  },
  {
   "cell_type": "code",
   "execution_count": 13,
   "metadata": {},
   "outputs": [
    {
     "name": "stdout",
     "output_type": "stream",
     "text": [
      "<class 'dict'>\n"
     ]
    }
   ],
   "source": [
    "import json\n",
    "b={\"ID\": 101, \"Name\":\"Vaibhav\", \"Gender\":\"Male\"}\n",
    "with open(\"b.json\",'w') as a:\n",
    "    json.dump(b,a)\n",
    "print(type(b))"
   ]
  },
  {
   "cell_type": "markdown",
   "metadata": {},
   "source": [
    "## XML Files"
   ]
  },
  {
   "cell_type": "code",
   "execution_count": 5,
   "metadata": {},
   "outputs": [
    {
     "name": "stdout",
     "output_type": "stream",
     "text": [
      "[{'name': 'B', 'id': '2', 'age': '105'}]\n"
     ]
    }
   ],
   "source": [
    "import xml.etree.ElementTree as xml\n",
    "tree=xml.ElementTree(file='myfile.xml')\n",
    "root=tree.getroot()\n",
    "\n",
    "for i in root:\n",
    "   d=[{j.tag : j.text for j in i}]\n",
    "print(d)"
   ]
  },
  {
   "cell_type": "code",
   "execution_count": 6,
   "metadata": {},
   "outputs": [],
   "source": [
    "import xml.etree.ElementTree as xml\n",
    "\n",
    "tree = xml.ElementTree(file='c.xml')\n",
    "root = tree.getroot()\n",
    "\n",
    "for x in root.iter('age'):\n",
    "    s_id = int(x.text)\n",
    "    s_id += 1\n",
    "    x.text = str(s_id)\n",
    "\n",
    "with open('c.xml', 'wb') as a:\n",
    "    tree.write(a)\n"
   ]
  },
  {
   "cell_type": "markdown",
   "metadata": {},
   "source": [
    "## PICKLE\n",
    "\n",
    "load: Deserialize a pickled object from a file-like object to a Python object.\n",
    "\n",
    "loads: Deserialize a pickled byte stream to a Python object.\n",
    "\n",
    "dump: Serialize a Python object to a pickled format and write it to a file-like object.\n",
    "\n",
    "dumps: Serialize a Python object to a pickled byte stream."
   ]
  },
  {
   "cell_type": "code",
   "execution_count": 4,
   "metadata": {},
   "outputs": [
    {
     "name": "stdout",
     "output_type": "stream",
     "text": [
      "<class 'dict'>\n",
      "<class 'bytes'>\n"
     ]
    }
   ],
   "source": [
    "import pickle as p\n",
    "a={\"name\": \"sharat\",\n",
    "\"age\": 25,\n",
    "\"marks\": 99\n",
    "}\n",
    "\n",
    "b=p.dumps(a)\n",
    "print(type(a))\n",
    "print(type(b))\n",
    "with open('seriallize.pickle','wb') as f:\n",
    "    f.write(b)\n",
    "\n",
    "f.close()"
   ]
  },
  {
   "cell_type": "code",
   "execution_count": 6,
   "metadata": {},
   "outputs": [
    {
     "name": "stdout",
     "output_type": "stream",
     "text": [
      "<class 'dict'>\n",
      "{'name': 'sharat', 'age': 25, 'marks': 99}\n"
     ]
    }
   ],
   "source": [
    "with open('seriallize.pickle','rb') as f:\n",
    "    c=p.load(f)\n",
    "\n",
    "print(type(c))\n",
    "print(c)"
   ]
  },
  {
   "cell_type": "code",
   "execution_count": 7,
   "metadata": {},
   "outputs": [
    {
     "name": "stdout",
     "output_type": "stream",
     "text": [
      "<class 'list'>\n",
      "['a', 'b', 'c', 1, 2, 3, 4, 5]\n"
     ]
    }
   ],
   "source": [
    "import pickle as p\n",
    "l = ['a', 'b', 'c', 1, 2, 3, 4, 5]\n",
    "\n",
    "with open('listpkl.pkl', 'wb') as b:\n",
    "    p.dump(l, b)\n",
    "\n",
    "with open('listpkl.pkl', 'rb') as b:\n",
    "    l1 = p.load(b)\n",
    "\n",
    "print(type(l1))\n",
    "print(l1)"
   ]
  },
  {
   "cell_type": "code",
   "execution_count": 15,
   "metadata": {},
   "outputs": [
    {
     "name": "stdout",
     "output_type": "stream",
     "text": [
      "<class '_io.BufferedWriter'>\n",
      "Sharat\n",
      "sharatrk59@gmail.com\n"
     ]
    }
   ],
   "source": [
    "import pickle as p\n",
    "class user:\n",
    "    def __init__(self,name,email):\n",
    "        self.name=name\n",
    "        self.email=email\n",
    "\n",
    "a=user('Sharat','sharatrk59@gmail.com')\n",
    "\n",
    "with open('class.pkl','wb') as b:\n",
    "    p.dump(a,b)\n",
    "\n",
    "print(type(b))\n",
    "b.close()\n",
    "\n",
    "with open('class.pkl','rb') as b:\n",
    "    c=p.load(b)\n",
    "\n",
    "print(c.name)\n",
    "print(c.email)"
   ]
  },
  {
   "cell_type": "code",
   "execution_count": 19,
   "metadata": {},
   "outputs": [
    {
     "name": "stdout",
     "output_type": "stream",
     "text": [
      "<class 'pandas.core.frame.DataFrame'>\n"
     ]
    },
    {
     "data": {
      "text/html": [
       "<div>\n",
       "<style scoped>\n",
       "    .dataframe tbody tr th:only-of-type {\n",
       "        vertical-align: middle;\n",
       "    }\n",
       "\n",
       "    .dataframe tbody tr th {\n",
       "        vertical-align: top;\n",
       "    }\n",
       "\n",
       "    .dataframe thead th {\n",
       "        text-align: right;\n",
       "    }\n",
       "</style>\n",
       "<table border=\"1\" class=\"dataframe\">\n",
       "  <thead>\n",
       "    <tr style=\"text-align: right;\">\n",
       "      <th></th>\n",
       "      <th>Name</th>\n",
       "      <th>Age</th>\n",
       "      <th>City</th>\n",
       "    </tr>\n",
       "  </thead>\n",
       "  <tbody>\n",
       "    <tr>\n",
       "      <th>0</th>\n",
       "      <td>Sharat</td>\n",
       "      <td>22</td>\n",
       "      <td>Bangalore</td>\n",
       "    </tr>\n",
       "    <tr>\n",
       "      <th>1</th>\n",
       "      <td>Varun</td>\n",
       "      <td>22</td>\n",
       "      <td>Delhi</td>\n",
       "    </tr>\n",
       "    <tr>\n",
       "      <th>2</th>\n",
       "      <td>Sumukha</td>\n",
       "      <td>22</td>\n",
       "      <td>Bangalore</td>\n",
       "    </tr>\n",
       "  </tbody>\n",
       "</table>\n",
       "</div>"
      ],
      "text/plain": [
       "      Name  Age       City\n",
       "0   Sharat   22  Bangalore\n",
       "1    Varun   22      Delhi\n",
       "2  Sumukha   22  Bangalore"
      ]
     },
     "execution_count": 19,
     "metadata": {},
     "output_type": "execute_result"
    }
   ],
   "source": [
    "import pandas as pd\n",
    "df=pd.DataFrame({'Name':    ['Sharat','Varun','Sumukha'],\n",
    "                'Age':  [22,22,22],\n",
    "                'City': ['Bangalore','Delhi','Bangalore']})\n",
    "print(type(df))\n",
    "a=df.to_pickle('data.pkl')\n",
    "b=pd.read_pickle('data.pkl')\n",
    "b\n"
   ]
  },
  {
   "cell_type": "code",
   "execution_count": 21,
   "metadata": {},
   "outputs": [
    {
     "name": "stdout",
     "output_type": "stream",
     "text": [
      "<class 'bytes'>\n",
      "<class 'function'>\n",
      "<function test at 0x117909300>\n"
     ]
    },
    {
     "data": {
      "text/plain": [
       "'Hello World'"
      ]
     },
     "execution_count": 21,
     "metadata": {},
     "output_type": "execute_result"
    }
   ],
   "source": [
    "import pickle as p\n",
    "def test():\n",
    "    return 'Hello World'\n",
    "\n",
    "a=p.dumps(test)\n",
    "print(type(a))\n",
    "b= p.loads(a)\n",
    "print(type(b))\n",
    "print(b)\n",
    "b()"
   ]
  },
  {
   "cell_type": "code",
   "execution_count": 6,
   "metadata": {},
   "outputs": [
    {
     "name": "stdout",
     "output_type": "stream",
     "text": [
      "The sum is: 30\n"
     ]
    }
   ],
   "source": [
    "n1 = int(input())\n",
    "n2 = int(input())\n",
    "class Add:\n",
    "    def __init__(self, n1, n2):\n",
    "        self.num1 = n1\n",
    "        self.num2 = n2\n",
    "        self.answer = 0\n",
    "\n",
    "    def cal(self):\n",
    "        self.answer = self.num1 + self.num2\n",
    "\n",
    "    def disp(self):\n",
    "        print(\"The sum is:\", self.answer)\n",
    "\n",
    "a = Add(n1, n2)\n",
    "a.cal()\n",
    "a.disp()\n"
   ]
  },
  {
   "cell_type": "code",
   "execution_count": 4,
   "metadata": {},
   "outputs": [
    {
     "name": "stdout",
     "output_type": "stream",
     "text": [
      "object creatd\n",
      "object deleted\n",
      "object deleted\n"
     ]
    }
   ],
   "source": [
    "class A:\n",
    "    def __init__(self):\n",
    "        print('object creatd')\n",
    "    \n",
    "    def __del__(self):\n",
    "        print('object deleted')\n",
    "\n",
    "a=A()\n",
    "del a"
   ]
  },
  {
   "cell_type": "code",
   "execution_count": 6,
   "metadata": {},
   "outputs": [
    {
     "name": "stdout",
     "output_type": "stream",
     "text": [
      "GM\n",
      "Hello world\n",
      "GN\n"
     ]
    }
   ],
   "source": [
    "def greet(a):\n",
    "    def b():\n",
    "        print('GM')\n",
    "        a()\n",
    "        print('GN')\n",
    "    return b\n",
    "\n",
    "@greet\n",
    "def hello():\n",
    "    print(\"Hello world\")\n",
    "\n",
    "hello()"
   ]
  },
  {
   "cell_type": "code",
   "execution_count": 13,
   "metadata": {},
   "outputs": [
    {
     "name": "stdout",
     "output_type": "stream",
     "text": [
      "Hi\n"
     ]
    }
   ],
   "source": [
    "class A:\n",
    "    def __init__(self, a, b):\n",
    "        self.a = a\n",
    "        self.b = b\n",
    "\n",
    "    def details(self):\n",
    "        return self.b.getdetails()  # Return the result of self.b.getdetails()\n",
    "\n",
    "class B:\n",
    "    def __init__(self, c, d):\n",
    "        self.c = c\n",
    "        self.d = d\n",
    "\n",
    "    def getdetails(self):\n",
    "        return 'Hi'\n",
    "\n",
    "b = B(30, 40)  # Create an instance of B\n",
    "a = A(10, b)   # Create an instance of A with the instance of B\n",
    "print(a.details())  # This will print 'Hi'\n"
   ]
  },
  {
   "cell_type": "code",
   "execution_count": 1,
   "metadata": {},
   "outputs": [
    {
     "ename": "AttributeError",
     "evalue": "module 'xml' has no attribute 'ElementTree'",
     "output_type": "error",
     "traceback": [
      "\u001b[0;31m---------------------------------------------------------------------------\u001b[0m",
      "\u001b[0;31mAttributeError\u001b[0m                            Traceback (most recent call last)",
      "Cell \u001b[0;32mIn[1], line 2\u001b[0m\n\u001b[1;32m      1\u001b[0m \u001b[38;5;28;01mimport\u001b[39;00m \u001b[38;5;21;01mxml\u001b[39;00m\u001b[38;5;21;01m.\u001b[39;00m\u001b[38;5;21;01metree\u001b[39;00m\u001b[38;5;21;01m.\u001b[39;00m\u001b[38;5;21;01mElementTree\u001b[39;00m\n\u001b[0;32m----> 2\u001b[0m tree\u001b[38;5;241m=\u001b[39m\u001b[43mxml\u001b[49m\u001b[38;5;241;43m.\u001b[39;49m\u001b[43mElementTree\u001b[49m(file\u001b[38;5;241m=\u001b[39m\u001b[38;5;124m'\u001b[39m\u001b[38;5;124mmyfile.xml\u001b[39m\u001b[38;5;124m'\u001b[39m)\n\u001b[1;32m      3\u001b[0m root\u001b[38;5;241m=\u001b[39mtree\u001b[38;5;241m.\u001b[39mgetrot()\n\u001b[1;32m      5\u001b[0m \u001b[38;5;28;01mfor\u001b[39;00m i \u001b[38;5;129;01min\u001b[39;00m root:\n",
      "\u001b[0;31mAttributeError\u001b[0m: module 'xml' has no attribute 'ElementTree'"
     ]
    }
   ],
   "source": [
    "import xml.etree.ElementTree\n",
    "tree=xml.ElementTree(file='myfile.xml')\n",
    "root=tree.getrot()\n",
    "\n",
    "for i in root:\n",
    "    d=[{{j.tag: j.text for j in i}}]\n",
    "print(d)"
   ]
  },
  {
   "cell_type": "code",
   "execution_count": 3,
   "metadata": {},
   "outputs": [],
   "source": [
    "import pickle as p\n",
    "data={'name':'ABC', 'Age':23}\n",
    "a=p.dumps(data)\n",
    "with open('a.pkl', 'wb') as file:\n",
    "    file.write(a)"
   ]
  }
 ],
 "metadata": {
  "kernelspec": {
   "display_name": "Python 3",
   "language": "python",
   "name": "python3"
  },
  "language_info": {
   "codemirror_mode": {
    "name": "ipython",
    "version": 3
   },
   "file_extension": ".py",
   "mimetype": "text/x-python",
   "name": "python",
   "nbconvert_exporter": "python",
   "pygments_lexer": "ipython3",
   "version": "3.12.2"
  }
 },
 "nbformat": 4,
 "nbformat_minor": 2
}
