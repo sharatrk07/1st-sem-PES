{
 "cells": [
  {
   "cell_type": "code",
   "execution_count": 1,
   "id": "ed74a753",
   "metadata": {},
   "outputs": [],
   "source": [
    "from flask import *\n",
    "from flask_sqlalchemy import *"
   ]
  },
  {
   "cell_type": "code",
   "execution_count": 2,
   "id": "502c90fc",
   "metadata": {},
   "outputs": [],
   "source": [
    "app = Flask(__name__)\n",
    "app.config['SECRET_KEY'] = 'sk'\n",
    "app.config['SQLALCHEMY_DATABASE_URI'] = 'sqlite:///library.db'\n",
    "db = SQLAlchemy(app)\n",
    "# Gets created if it doesn't exist \n",
    "app.config['SQLALCHEMY_TRACK_MODIFICATIONS'] = False\n",
    "def restart():\n",
    "    global app\n",
    "    global db\n",
    "    app = Flask(__name__)\n",
    "    app.config['SECRET_KEY'] = 'sk'\n",
    "    app.config['SQLALCHEMY_DATABASE_URI'] = 'sqlite:///library.db'\n",
    "    app.config['SQLALCHEMY_TRACK_MODIFICATIONS'] = False\n",
    "    db = SQLAlchemy(app)\n",
    "restart()"
   ]
  },
  {
   "cell_type": "code",
   "execution_count": 3,
   "id": "58e5ca6d",
   "metadata": {},
   "outputs": [],
   "source": [
    "class author(db.Model):\n",
    "    aid = db.Column(db.Integer, primary_key=True)\n",
    "    name = db.Column(db.String, nullable=False)\n",
    "    books = db.relationship('Book', backref='author', lazy=True)\n",
    "    pass\n",
    "class Book(db.Model):\n",
    "    bid = db.Column(db.Integer, primary_key=True)\n",
    "    title = db.Column(db.String, nullable=False)\n",
    "    author_id = db.Column(db.Integer, db.ForeignKey('author.aid'), \n",
    "                          nullable=False)\n",
    "    pass"
   ]
  },
  {
   "cell_type": "code",
   "execution_count": 4,
   "id": "bd2acec2",
   "metadata": {},
   "outputs": [],
   "source": [
    "@app.route('/')\n",
    "def index():\n",
    "    authors = author.query.all()\n",
    "    return render_template('index.html', authors=authors)"
   ]
  },
  {
   "cell_type": "code",
   "execution_count": 5,
   "id": "a282b80b",
   "metadata": {},
   "outputs": [],
   "source": [
    "@app.route('/addauth', methods=['POST'])\n",
    "def add_author():\n",
    "    name = request.form['Author']\n",
    "    new_row = author(name=name)\n",
    "    db.session.add(new_row)\n",
    "    db.session.commit()   \n",
    "    return redirect('/')"
   ]
  },
  {
   "cell_type": "code",
   "execution_count": 6,
   "id": "ac0fb9c1",
   "metadata": {},
   "outputs": [],
   "source": [
    "@app.route('/addbook/<int:aid>', methods=['POST'])\n",
    "def add_book(aid):\n",
    "    title = request.form['Title']\n",
    "    aut = author.query.get(aid) \n",
    "    if aut:\n",
    "        new_row = Book(title=title, author_id=aid)\n",
    "        db.session.add(new_row)\n",
    "        db.session.commit()\n",
    "    return redirect('/')\n"
   ]
  },
  {
   "cell_type": "code",
   "execution_count": 7,
   "id": "8f82bbec",
   "metadata": {},
   "outputs": [
    {
     "name": "stdout",
     "output_type": "stream",
     "text": [
      " * Serving Flask app '__main__'\n",
      " * Debug mode: off\n"
     ]
    },
    {
     "name": "stderr",
     "output_type": "stream",
     "text": [
      "\u001b[31m\u001b[1mWARNING: This is a development server. Do not use it in a production deployment. Use a production WSGI server instead.\u001b[0m\n",
      " * Running on http://127.0.0.1:5000\n",
      "\u001b[33mPress CTRL+C to quit\u001b[0m\n",
      "127.0.0.1 - - [14/May/2024 10:02:08] \"GET / HTTP/1.1\" 200 -\n",
      "127.0.0.1 - - [14/May/2024 10:02:13] \"\u001b[32mPOST /addauth HTTP/1.1\u001b[0m\" 302 -\n",
      "127.0.0.1 - - [14/May/2024 10:02:13] \"GET / HTTP/1.1\" 200 -\n",
      "127.0.0.1 - - [14/May/2024 10:02:23] \"\u001b[32mPOST /addauth HTTP/1.1\u001b[0m\" 302 -\n",
      "127.0.0.1 - - [14/May/2024 10:02:23] \"GET / HTTP/1.1\" 200 -\n",
      "/var/folders/_k/k1v2lnnd0knd7bplvfyxt_0c0000gn/T/ipykernel_60163/2242788615.py:4: LegacyAPIWarning: The Query.get() method is considered legacy as of the 1.x series of SQLAlchemy and becomes a legacy construct in 2.0. The method is now available as Session.get() (deprecated since: 2.0) (Background on SQLAlchemy 2.0 at: https://sqlalche.me/e/b8d9)\n",
      "  aut = author.query.get(aid)\n",
      "127.0.0.1 - - [14/May/2024 10:02:32] \"\u001b[32mPOST /addbook/1 HTTP/1.1\u001b[0m\" 302 -\n",
      "127.0.0.1 - - [14/May/2024 10:02:32] \"GET / HTTP/1.1\" 200 -\n",
      "127.0.0.1 - - [14/May/2024 10:02:40] \"\u001b[32mPOST /addbook/1 HTTP/1.1\u001b[0m\" 302 -\n",
      "127.0.0.1 - - [14/May/2024 10:02:40] \"GET / HTTP/1.1\" 200 -\n",
      "127.0.0.1 - - [14/May/2024 10:02:48] \"\u001b[32mPOST /addbook/1 HTTP/1.1\u001b[0m\" 302 -\n",
      "127.0.0.1 - - [14/May/2024 10:02:48] \"GET / HTTP/1.1\" 200 -\n",
      "127.0.0.1 - - [14/May/2024 10:02:55] \"\u001b[32mPOST /addbook/2 HTTP/1.1\u001b[0m\" 302 -\n",
      "127.0.0.1 - - [14/May/2024 10:02:55] \"GET / HTTP/1.1\" 200 -\n",
      "127.0.0.1 - - [14/May/2024 10:03:04] \"\u001b[32mPOST /addbook/2 HTTP/1.1\u001b[0m\" 302 -\n",
      "127.0.0.1 - - [14/May/2024 10:03:04] \"GET / HTTP/1.1\" 200 -\n",
      "127.0.0.1 - - [14/May/2024 10:03:10] \"\u001b[32mPOST /addbook/2 HTTP/1.1\u001b[0m\" 302 -\n",
      "127.0.0.1 - - [14/May/2024 10:03:10] \"GET / HTTP/1.1\" 200 -\n",
      "127.0.0.1 - - [14/May/2024 10:03:31] \"GET / HTTP/1.1\" 200 -\n"
     ]
    }
   ],
   "source": [
    "with app.app_context():\n",
    "    db.create_all()\n",
    "app.run()"
   ]
  },
  {
   "cell_type": "code",
   "execution_count": null,
   "id": "6196ec54",
   "metadata": {},
   "outputs": [],
   "source": []
  }
 ],
 "metadata": {
  "kernelspec": {
   "display_name": "Python 3 (ipykernel)",
   "language": "python",
   "name": "python3"
  },
  "language_info": {
   "codemirror_mode": {
    "name": "ipython",
    "version": 3
   },
   "file_extension": ".py",
   "mimetype": "text/x-python",
   "name": "python",
   "nbconvert_exporter": "python",
   "pygments_lexer": "ipython3",
   "version": "3.10.9"
  }
 },
 "nbformat": 4,
 "nbformat_minor": 5
}
