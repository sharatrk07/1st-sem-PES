{
 "cells": [
  {
   "cell_type": "code",
   "execution_count": 2,
   "id": "52df9aa8",
   "metadata": {},
   "outputs": [],
   "source": [
    "from flask import *\n",
    "from flask_sqlalchemy import *"
   ]
  },
  {
   "cell_type": "code",
   "execution_count": 3,
   "id": "3228f34c",
   "metadata": {},
   "outputs": [],
   "source": [
    "app = Flask(__name__)\n",
    "app.config['SECRET_KEY'] = 'sk'\n",
    "app.config['SQLALCHEMY_DATABASE_URI'] = 'sqlite:///num3.db'\n",
    "# Gets created if it doesn't exist \n",
    "app.config['SQLALCHEMY_TRACK_MODIFICATIONS'] = False\n",
    "def restart():\n",
    "    global app\n",
    "    app = Flask(__name__)\n",
    "    app.config['SECRET_KEY'] = 'sk'\n",
    "    app.config['SQLALCHEMY_DATABASE_URI'] = 'sqlite:///num3.db'\n",
    "    app.config['SQLALCHEMY_TRACK_MODIFICATIONS'] = False"
   ]
  },
  {
   "cell_type": "code",
   "execution_count": 4,
   "id": "d4f551dd",
   "metadata": {},
   "outputs": [],
   "source": [
    "restart()\n",
    "db = SQLAlchemy(app)"
   ]
  },
  {
   "cell_type": "code",
   "execution_count": 5,
   "id": "27640f76",
   "metadata": {},
   "outputs": [],
   "source": [
    "# Create a child class of db.Model \n",
    "# Name of the class becomes name of the table in the database\n",
    "class Number(db.Model):\n",
    "    # Class Variables ==> Attributes of the Table\n",
    "    # Attribute = db.Column(Type, Rules)\n",
    "    uid = db.Column(db.Integer, primary_key = True)\n",
    "    val = db.Column(db.Integer, nullable = False)\n",
    "    is_even = db.Column(db.String, nullable = False)\n",
    "\n"
   ]
  },
  {
   "cell_type": "code",
   "execution_count": 6,
   "id": "779e2490",
   "metadata": {},
   "outputs": [
    {
     "name": "stdout",
     "output_type": "stream",
     "text": [
      "<flask.ctx.AppContext object at 0x10732c7f0>\n",
      " * Serving Flask app '__main__'\n",
      " * Debug mode: off\n"
     ]
    },
    {
     "name": "stderr",
     "output_type": "stream",
     "text": [
      "\u001b[31m\u001b[1mWARNING: This is a development server. Do not use it in a production deployment. Use a production WSGI server instead.\u001b[0m\n",
      " * Running on http://127.0.0.1:5000\n",
      "\u001b[33mPress CTRL+C to quit\u001b[0m\n",
      "127.0.0.1 - - [14/May/2024 09:32:06] \"GET / HTTP/1.1\" 200 -\n",
      "127.0.0.1 - - [14/May/2024 09:33:17] \"\u001b[32mPOST /addno HTTP/1.1\u001b[0m\" 302 -\n",
      "127.0.0.1 - - [14/May/2024 09:33:17] \"GET / HTTP/1.1\" 200 -\n"
     ]
    }
   ],
   "source": [
    "@app.route('/')\n",
    "def index():\n",
    "    # Create a list of all the numbers\n",
    "    numbers = Number.query.all()\n",
    "    return render_template('index.html', num = numbers)\n",
    "@app.route('/addno', methods = ['POST'])\n",
    "def addno():\n",
    "    if request.method == 'POST':\n",
    "        num_val = int(request.form['Number'])\n",
    "        is_even = 'Yes' if num_val % 2 == 0 else 'No'\n",
    "        new_num = Number(val = num_val, \n",
    "                             is_even = is_even)\n",
    "        db.session.add(new_num)\n",
    "        db.session.commit()\n",
    "    return redirect('/')\n",
    "with app.app_context():\n",
    "    print(app.app_context())\n",
    "    db.create_all()\n",
    "app.run()"
   ]
  },
  {
   "cell_type": "code",
   "execution_count": null,
   "id": "ec390195",
   "metadata": {},
   "outputs": [],
   "source": []
  }
 ],
 "metadata": {
  "kernelspec": {
   "display_name": "Python 3 (ipykernel)",
   "language": "python",
   "name": "python3"
  },
  "language_info": {
   "codemirror_mode": {
    "name": "ipython",
    "version": 3
   },
   "file_extension": ".py",
   "mimetype": "text/x-python",
   "name": "python",
   "nbconvert_exporter": "python",
   "pygments_lexer": "ipython3",
   "version": "3.10.9"
  }
 },
 "nbformat": 4,
 "nbformat_minor": 5
}
