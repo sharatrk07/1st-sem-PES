{
 "cells": [
  {
   "cell_type": "markdown",
   "id": "a463e82c",
   "metadata": {},
   "source": [
    "## Handling form data"
   ]
  },
  {
   "cell_type": "code",
   "execution_count": 1,
   "id": "7a045cd8",
   "metadata": {},
   "outputs": [],
   "source": [
    "from flask import *\n",
    "from flask_wtf import * # For FlaskForm\n",
    "from wtforms import * # For StringField, SubmitField"
   ]
  },
  {
   "cell_type": "code",
   "execution_count": 2,
   "id": "bb075b14",
   "metadata": {},
   "outputs": [],
   "source": [
    "app = Flask(__name__)\n",
    "app.config['SECRET_KEY'] = 'sk'\n",
    "def restart():\n",
    "    global app\n",
    "    app = Flask(__name__)\n",
    "    app.config['SECRET_KEY'] = 'sk'"
   ]
  },
  {
   "cell_type": "code",
   "execution_count": 9,
   "id": "67d83466",
   "metadata": {},
   "outputs": [],
   "source": [
    "# Create Form, inherit FlaskForm of flask_wtf\n",
    "class DemoForm(FlaskForm):\n",
    "    # Create fields for input\n",
    "    name = StringField('Name') # Label of the field is name\n",
    "    submit = SubmitField('Submit') # Name of the submit button is Submit\n"
   ]
  },
  {
   "cell_type": "code",
   "execution_count": 12,
   "id": "ec41db5e",
   "metadata": {},
   "outputs": [
    {
     "name": "stdout",
     "output_type": "stream",
     "text": [
      " * Serving Flask app '__main__'\n",
      " * Debug mode: off\n"
     ]
    },
    {
     "name": "stderr",
     "output_type": "stream",
     "text": [
      "\u001b[31m\u001b[1mWARNING: This is a development server. Do not use it in a production deployment. Use a production WSGI server instead.\u001b[0m\n",
      " * Running on http://127.0.0.1:5000\n",
      "\u001b[33mPress CTRL+C to quit\u001b[0m\n",
      "127.0.0.1 - - [10/May/2024 11:35:55] \"GET / HTTP/1.1\" 200 -\n",
      "127.0.0.1 - - [10/May/2024 11:35:57] \"POST / HTTP/1.1\" 200 -\n"
     ]
    }
   ],
   "source": [
    "restart()\n",
    "@app.route('/', methods = ['GET', 'POST'])\n",
    "# GET for fetching the form, POST for posting data\n",
    "def index():\n",
    "    form = DemoForm()\n",
    "    if form.validate_on_submit():\n",
    "        # Fetch value entered using name attribute of form\n",
    "        name_text = form.name.data\n",
    "        return f'<h1>Thank You, {name_text}</h1>'\n",
    "    return render_template('index.html', form = form)\n",
    "app.run()"
   ]
  },
  {
   "cell_type": "markdown",
   "id": "64e167d7",
   "metadata": {},
   "source": [
    "## Contact Us Page"
   ]
  },
  {
   "cell_type": "code",
   "execution_count": 13,
   "id": "49450781",
   "metadata": {},
   "outputs": [],
   "source": [
    "restart()"
   ]
  },
  {
   "cell_type": "code",
   "execution_count": 17,
   "id": "a0c4eb2b",
   "metadata": {},
   "outputs": [],
   "source": [
    "# Create form, inherit FlaskForm\n",
    "class ContactForm(FlaskForm):\n",
    "    # Create all fields, add Validators\n",
    "    name = StringField('Name', validators = [validators.DataRequired()])\n",
    "    # validators = [validators.DataRequired() is used for field validation\n",
    "    email = StringField('Email ID', validators = \n",
    "                        [validators.DataRequired(), validators.Email()])\n",
    "    # Validators to check make the field mandatory and \n",
    "    # check if the email is valid\n",
    "    message = TextAreaField('Your Message', validators = [validators.DataRequired()])\n",
    "    # For short textbox, use StringField, \n",
    "    # for large textbox, use TextAreaField\n",
    "    submit = SubmitField('Submit')\n",
    "    \n",
    "    "
   ]
  },
  {
   "cell_type": "code",
   "execution_count": 21,
   "id": "a2a6e6b2",
   "metadata": {},
   "outputs": [
    {
     "name": "stdout",
     "output_type": "stream",
     "text": [
      " * Serving Flask app '__main__'\n",
      " * Debug mode: off\n"
     ]
    },
    {
     "name": "stderr",
     "output_type": "stream",
     "text": [
      "\u001b[31m\u001b[1mWARNING: This is a development server. Do not use it in a production deployment. Use a production WSGI server instead.\u001b[0m\n",
      " * Running on http://127.0.0.1:5000\n",
      "\u001b[33mPress CTRL+C to quit\u001b[0m\n",
      "127.0.0.1 - - [10/May/2024 11:48:53] \"GET / HTTP/1.1\" 200 -\n",
      "127.0.0.1 - - [10/May/2024 11:49:05] \"POST / HTTP/1.1\" 200 -\n",
      "127.0.0.1 - - [10/May/2024 11:49:05] \"POST / HTTP/1.1\" 200 -\n",
      "127.0.0.1 - - [10/May/2024 11:49:22] \"POST / HTTP/1.1\" 200 -\n"
     ]
    }
   ],
   "source": [
    "restart()\n",
    "@app.route('/', methods = ['GET', 'POST'])\n",
    "def contact():\n",
    "    # Create form\n",
    "    form = ContactForm()\n",
    "    if form.validate_on_submit():\n",
    "        return f'''Dear {form.name.data}, Thank You. \n",
    "        We will email you at {form.email.data}'''\n",
    "    return render_template('contact.html', form = form)\n",
    "\n",
    "app.run()"
   ]
  },
  {
   "cell_type": "markdown",
   "id": "ee002da5",
   "metadata": {},
   "source": [
    "## User Session"
   ]
  },
  {
   "cell_type": "code",
   "execution_count": 37,
   "id": "8749eb8f",
   "metadata": {},
   "outputs": [],
   "source": [
    "# Create a form\n",
    "class IndexForm(FlaskForm):\n",
    "    name = StringField('Name', validators = [validators.DataRequired()])\n",
    "    submit = SubmitField('Submit')\n"
   ]
  },
  {
   "cell_type": "code",
   "execution_count": 36,
   "id": "bf03a570",
   "metadata": {},
   "outputs": [
    {
     "name": "stdout",
     "output_type": "stream",
     "text": [
      " * Serving Flask app '__main__'\n",
      " * Debug mode: off\n"
     ]
    },
    {
     "name": "stderr",
     "output_type": "stream",
     "text": [
      "\u001b[31m\u001b[1mWARNING: This is a development server. Do not use it in a production deployment. Use a production WSGI server instead.\u001b[0m\n",
      " * Running on http://127.0.0.1:5000\n",
      "\u001b[33mPress CTRL+C to quit\u001b[0m\n",
      "127.0.0.1 - - [10/May/2024 12:04:56] \"GET / HTTP/1.1\" 200 -\n",
      "127.0.0.1 - - [10/May/2024 12:04:57] \"\u001b[32mPOST / HTTP/1.1\u001b[0m\" 302 -\n",
      "127.0.0.1 - - [10/May/2024 12:05:00] \"\u001b[32mGET /wc HTTP/1.1\u001b[0m\" 302 -\n",
      "127.0.0.1 - - [10/May/2024 12:05:00] \"GET / HTTP/1.1\" 200 -\n",
      "127.0.0.1 - - [10/May/2024 12:05:02] \"GET / HTTP/1.1\" 200 -\n",
      "127.0.0.1 - - [10/May/2024 12:05:06] \"\u001b[32mGET /wc HTTP/1.1\u001b[0m\" 302 -\n"
     ]
    }
   ],
   "source": [
    "restart()\n",
    "@app.route('/', methods = ['GET', 'POST'])\n",
    "def index():\n",
    "    form = IndexForm()\n",
    "    if form.validate_on_submit():\n",
    "        un = form.name.data\n",
    "        session['username'] = un\n",
    "        flash('Username stored! ', 'success') #Flash message\n",
    "        return redirect(url_for('welcome')) \n",
    "        # Redirect to the URL of welcome view function\n",
    "    return render_template('session_index.html', form = form)\n",
    "@app.route('/wc')\n",
    "def welcome():\n",
    "    # Check if username is in session object\n",
    "    if not session['username'] == '':\n",
    "        username = session['username']\n",
    "        return render_template('welcome.html', username = username)\n",
    "    else:\n",
    "        return redirect('/')\n",
    "\n",
    "app.run()"
   ]
  },
  {
   "cell_type": "markdown",
   "id": "15a59fcf",
   "metadata": {},
   "source": [
    "## Message Flashing"
   ]
  },
  {
   "cell_type": "code",
   "execution_count": 3,
   "id": "7e0a45a3",
   "metadata": {},
   "outputs": [],
   "source": [
    "# Create Form\n",
    "class MessageForm(FlaskForm):\n",
    "    name = StringField('Name')\n",
    "    submit = SubmitField('Submit')\n"
   ]
  },
  {
   "cell_type": "code",
   "execution_count": 5,
   "id": "6d87a0db",
   "metadata": {},
   "outputs": [
    {
     "name": "stdout",
     "output_type": "stream",
     "text": [
      " * Serving Flask app '__main__'\n",
      " * Debug mode: off\n"
     ]
    },
    {
     "name": "stderr",
     "output_type": "stream",
     "text": [
      "\u001b[31m\u001b[1mWARNING: This is a development server. Do not use it in a production deployment. Use a production WSGI server instead.\u001b[0m\n",
      " * Running on http://127.0.0.1:5000\n",
      "\u001b[33mPress CTRL+C to quit\u001b[0m\n",
      "127.0.0.1 - - [10/May/2024 12:15:27] \"GET / HTTP/1.1\" 200 -\n",
      "127.0.0.1 - - [10/May/2024 12:15:30] \"\u001b[32mPOST / HTTP/1.1\u001b[0m\" 302 -\n",
      "127.0.0.1 - - [10/May/2024 12:15:30] \"GET / HTTP/1.1\" 200 -\n",
      "127.0.0.1 - - [10/May/2024 12:17:07] \"\u001b[32mPOST / HTTP/1.1\u001b[0m\" 302 -\n",
      "127.0.0.1 - - [10/May/2024 12:17:07] \"GET / HTTP/1.1\" 200 -\n"
     ]
    }
   ],
   "source": [
    "restart()\n",
    "@app.route('/', methods = ['GET', 'POST'])\n",
    "def index():\n",
    "    form = MessageForm()\n",
    "    if form.validate_on_submit():\n",
    "        flash(f'Hello, {form.name.data}!', 'success')\n",
    "        return redirect('/')\n",
    "    return render_template('index_flash.html', form = form)\n",
    "app.run()"
   ]
  },
  {
   "cell_type": "code",
   "execution_count": null,
   "id": "5a326191",
   "metadata": {},
   "outputs": [],
   "source": []
  }
 ],
 "metadata": {
  "kernelspec": {
   "display_name": "Python 3 (ipykernel)",
   "language": "python",
   "name": "python3"
  },
  "language_info": {
   "codemirror_mode": {
    "name": "ipython",
    "version": 3
   },
   "file_extension": ".py",
   "mimetype": "text/x-python",
   "name": "python",
   "nbconvert_exporter": "python",
   "pygments_lexer": "ipython3",
   "version": "3.10.9"
  }
 },
 "nbformat": 4,
 "nbformat_minor": 5
}
