{
 "cells": [
  {
   "cell_type": "markdown",
   "id": "6d0cc5f7",
   "metadata": {},
   "source": [
    "## Simple Bootstrap"
   ]
  },
  {
   "cell_type": "code",
   "execution_count": 1,
   "id": "0f231027",
   "metadata": {},
   "outputs": [],
   "source": [
    "from flask import *\n",
    "app = Flask(__name__)\n",
    "def restart():\n",
    "    global app\n",
    "    app = Flask(__name__)"
   ]
  },
  {
   "cell_type": "code",
   "execution_count": 2,
   "id": "ae6889ad",
   "metadata": {},
   "outputs": [
    {
     "name": "stdout",
     "output_type": "stream",
     "text": [
      " * Serving Flask app '__main__'\n",
      " * Debug mode: off\n"
     ]
    },
    {
     "name": "stderr",
     "output_type": "stream",
     "text": [
      "\u001b[31m\u001b[1mWARNING: This is a development server. Do not use it in a production deployment. Use a production WSGI server instead.\u001b[0m\n",
      " * Running on http://127.0.0.1:5000\n",
      "\u001b[33mPress CTRL+C to quit\u001b[0m\n",
      "127.0.0.1 - - [14/May/2024 18:15:03] \"GET / HTTP/1.1\" 200 -\n",
      "127.0.0.1 - - [14/May/2024 18:15:04] \"\u001b[33mGET /favicon.ico HTTP/1.1\u001b[0m\" 404 -\n",
      "127.0.0.1 - - [14/May/2024 18:15:04] \"\u001b[33mGET /highLightTitle.png HTTP/1.1\u001b[0m\" 404 -\n"
     ]
    }
   ],
   "source": [
    "restart()\n",
    "@app.route('/')\n",
    "def ind():\n",
    "    return render_template('index.html')\n",
    "app.run()"
   ]
  },
  {
   "cell_type": "markdown",
   "id": "0011931c",
   "metadata": {},
   "source": [
    "## Bootstrap with for loop"
   ]
  },
  {
   "cell_type": "code",
   "execution_count": 5,
   "id": "9e5f6922",
   "metadata": {},
   "outputs": [
    {
     "name": "stdout",
     "output_type": "stream",
     "text": [
      " * Serving Flask app '__main__'\n",
      " * Debug mode: off\n"
     ]
    },
    {
     "name": "stderr",
     "output_type": "stream",
     "text": [
      "\u001b[31m\u001b[1mWARNING: This is a development server. Do not use it in a production deployment. Use a production WSGI server instead.\u001b[0m\n",
      " * Running on http://127.0.0.1:5000\n",
      "\u001b[33mPress CTRL+C to quit\u001b[0m\n",
      "127.0.0.1 - - [09/May/2024 08:45:12] \"GET / HTTP/1.1\" 200 -\n"
     ]
    }
   ],
   "source": [
    "restart()\n",
    "@app.route('/')\n",
    "def ind():\n",
    "    l = ['Strontium Shield', 'Arc Reactor Core', 'Web Shooters']\n",
    "    return render_template('index_loop.html', items = l)\n",
    "app.run()"
   ]
  },
  {
   "cell_type": "markdown",
   "id": "426ec552",
   "metadata": {},
   "source": [
    "## Flask-Bootstrap Package"
   ]
  },
  {
   "cell_type": "code",
   "execution_count": 10,
   "id": "c57c100c",
   "metadata": {},
   "outputs": [],
   "source": [
    "from flask_bootstrap import *\n"
   ]
  },
  {
   "cell_type": "code",
   "execution_count": 12,
   "id": "1905dd0c",
   "metadata": {},
   "outputs": [
    {
     "name": "stdout",
     "output_type": "stream",
     "text": [
      " * Serving Flask app '__main__'\n",
      " * Debug mode: off\n"
     ]
    },
    {
     "name": "stderr",
     "output_type": "stream",
     "text": [
      "\u001b[31m\u001b[1mWARNING: This is a development server. Do not use it in a production deployment. Use a production WSGI server instead.\u001b[0m\n",
      " * Running on http://127.0.0.1:5000\n",
      "\u001b[33mPress CTRL+C to quit\u001b[0m\n",
      "127.0.0.1 - - [09/May/2024 08:50:29] \"GET / HTTP/1.1\" 200 -\n"
     ]
    }
   ],
   "source": [
    "# Looping through dictionary\n",
    "restart()\n",
    "bootstrap = Bootstrap(app)\n",
    "@app.route('/')\n",
    "def ind():\n",
    "    d = {'Captain America': 'Strontium Shield', \n",
    "         'Iron Man': 'Arc Reactor Core', \n",
    "         'Spider-Man': 'Web Shooters', \n",
    "         'Thanon': 'Infinity Gauntlet'}\n",
    "    return render_template('index_loop_dict.html', items = d)\n",
    "app.run()"
   ]
  }
 ],
 "metadata": {
  "kernelspec": {
   "display_name": "Python 3 (ipykernel)",
   "language": "python",
   "name": "python3"
  },
  "language_info": {
   "codemirror_mode": {
    "name": "ipython",
    "version": 3
   },
   "file_extension": ".py",
   "mimetype": "text/x-python",
   "name": "python",
   "nbconvert_exporter": "python",
   "pygments_lexer": "ipython3",
   "version": "3.12.2"
  }
 },
 "nbformat": 4,
 "nbformat_minor": 5
}
