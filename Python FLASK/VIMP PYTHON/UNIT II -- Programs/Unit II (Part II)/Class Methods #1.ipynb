{
 "cells": [
  {
   "cell_type": "code",
   "execution_count": null,
   "id": "b3c8984d",
   "metadata": {},
   "outputs": [],
   "source": [
    "# Class Method"
   ]
  },
  {
   "cell_type": "code",
   "execution_count": 3,
   "id": "22fc8859",
   "metadata": {},
   "outputs": [
    {
     "name": "stdout",
     "output_type": "stream",
     "text": [
      "First Object: \n",
      "101\n",
      "Student1\n",
      "PES\n",
      "Second Object: \n",
      "102\n",
      "Student2\n",
      "PES\n",
      "After modification of class variable using class method: \n",
      "Inside class method\n",
      "State: <class '__main__.Student'>\n",
      "First Object: \n",
      "101\n",
      "Student1\n",
      "PES University\n",
      "Second Object: \n",
      "102\n",
      "Student2\n",
      "PES University\n",
      "Third Object: \n",
      "103\n",
      "Student3\n",
      "PES University\n"
     ]
    }
   ],
   "source": [
    "class Student:\n",
    "    uni = 'PES'\n",
    "    def __init__(self, srn, name):\n",
    "        self.srn, self.name = srn, name # Instance Variables\n",
    "    @classmethod\n",
    "    def set_uni(c, newname):\n",
    "        print('Inside class method')\n",
    "        print('State: '+str(c))\n",
    "        c.uni = newname\n",
    "\n",
    "s1 = Student(101, 'Student1')\n",
    "s2 = Student(102, 'Student2')\n",
    "print('First Object: ')\n",
    "print(s1.srn)\n",
    "print(s1.name)\n",
    "print(s1.uni)\n",
    "print('Second Object: ')\n",
    "print(s2.srn)\n",
    "print(s2.name)\n",
    "print(s2.uni)\n",
    "print('After modification of class variable using class method: ')\n",
    "# Call class method using object of the class (Any object)\n",
    "s1.set_uni('PES University')\n",
    "print('First Object: ')\n",
    "print(s1.srn)\n",
    "print(s1.name)\n",
    "print(s1.uni)\n",
    "print('Second Object: ')\n",
    "print(s2.srn)\n",
    "print(s2.name)\n",
    "print(s2.uni)\n",
    "s3 = Student(103, 'Student3')\n",
    "print('Third Object: ')\n",
    "print(s3.srn)\n",
    "print(s3.name)\n",
    "print(s3.uni)"
   ]
  },
  {
   "cell_type": "code",
   "execution_count": null,
   "id": "2a988604",
   "metadata": {},
   "outputs": [],
   "source": [
    "# Static Method"
   ]
  },
  {
   "cell_type": "code",
   "execution_count": 3,
   "id": "03359333",
   "metadata": {},
   "outputs": [
    {
     "name": "stdout",
     "output_type": "stream",
     "text": [
      "Pi: \n",
      "3.142857142857143\n",
      "3.142857142857143\n",
      "Area: \n",
      "154.0\n",
      "Circum: \n",
      "44.0\n"
     ]
    }
   ],
   "source": [
    "class Circle: \n",
    "    def __init__(self, r):\n",
    "        self.r = r\n",
    "\n",
    "    # Define a static method returning the value of pi whenever needed\n",
    "    @staticmethod\n",
    "    def pi():\n",
    "        return 22/7\n",
    "    \n",
    "    def area(self):\n",
    "        return Circle.pi() * self.r ** 2\n",
    "    \n",
    "    def circum(self):\n",
    "        return Circle.pi() * self.r * 2\n",
    "    \n",
    "c = Circle(7)\n",
    "print('Pi: ')\n",
    "print(c.pi())\n",
    "print(Circle.pi())\n",
    "print('Area: ')\n",
    "print(c.area())\n",
    "print('Circum: ')\n",
    "print(c.circum())"
   ]
  }
 ],
 "metadata": {
  "kernelspec": {
   "display_name": "Python 3 (ipykernel)",
   "language": "python",
   "name": "python3"
  },
  "language_info": {
   "codemirror_mode": {
    "name": "ipython",
    "version": 3
   },
   "file_extension": ".py",
   "mimetype": "text/x-python",
   "name": "python",
   "nbconvert_exporter": "python",
   "pygments_lexer": "ipython3",
   "version": "3.10.9"
  }
 },
 "nbformat": 4,
 "nbformat_minor": 5
}
