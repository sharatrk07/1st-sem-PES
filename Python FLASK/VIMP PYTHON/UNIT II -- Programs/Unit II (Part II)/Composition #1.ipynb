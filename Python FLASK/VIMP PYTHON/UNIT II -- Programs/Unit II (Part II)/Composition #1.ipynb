{
 "cells": [
  {
   "cell_type": "code",
   "execution_count": null,
   "id": "39e7ed6c",
   "metadata": {},
   "outputs": [],
   "source": [
    "# Create a class Car such that it has Engine, Wheels, and Steering"
   ]
  },
  {
   "cell_type": "code",
   "execution_count": 1,
   "id": "1ed1cc06",
   "metadata": {},
   "outputs": [
    {
     "name": "stdout",
     "output_type": "stream",
     "text": [
      "Engine Size: 1196\n",
      "Number of Cylinders: 4\n",
      "Wheel Size: R16\n",
      "Wheel Type: Alloy\n",
      "Wheel Size: R16\n",
      "Wheel Type: Alloy\n",
      "Wheel Size: R16\n",
      "Wheel Type: Alloy\n",
      "Wheel Size: R16\n",
      "Wheel Type: Alloy\n",
      "Number of Spokes: 2\n",
      "Steering Mount Controls: Yes\n",
      "Car: \n",
      "Tata\n",
      "Nexon\n",
      "2023\n",
      "Engine: \n",
      "1196\n",
      "4\n",
      "Wheels: \n",
      "R16\n",
      "Alloy\n",
      "R16\n",
      "Alloy\n",
      "R16\n",
      "Alloy\n",
      "R16\n",
      "Alloy\n",
      "Steering: \n",
      "2\n",
      "Yes\n"
     ]
    }
   ],
   "source": [
    "class Engine:\n",
    "    def __init__(self, size, cylinder):\n",
    "        self.size, self.cylinder = size, cylinder\n",
    "    def display(self):\n",
    "        print(self.size)\n",
    "        print(self.cylinder)\n",
    "\n",
    "class Wheel:\n",
    "    def __init__(self, wheelSize, Type):\n",
    "        self.wheelSize, self.Type = wheelSize, Type\n",
    "    def display(self):\n",
    "        print(self.wheelSize)\n",
    "        print(self.Type)\n",
    "\n",
    "class Steering:\n",
    "    def __init__(self, spk, ctrl):\n",
    "        self.spk, self.ctrl = spk, ctrl\n",
    "    def display(self):\n",
    "        print(self.spk)\n",
    "        print(self.ctrl)\n",
    "\n",
    "class Car:\n",
    "    def __init__(self, make, model, year):\n",
    "        self.make, self.model, self.year = make, model, year\n",
    "        # Have an engine inside Car\n",
    "        self.engine = Engine(input('Engine Size: '), input('Number of Cylinders: '))\n",
    "        self.wheels = [Wheel(input('Wheel Size: '), \n",
    "                             input('Wheel Type: ')) for i in range(4)]\n",
    "        self.steering = Steering(input('Number of Spokes: '), \n",
    "                                 input('Steering Mount Controls: '))\n",
    "    def display(self):\n",
    "        print('Car: ')\n",
    "        print(self.make)\n",
    "        print(self.model)\n",
    "        print(self.year)\n",
    "        print('Engine: ')\n",
    "        self.engine.display()\n",
    "        print('Wheels: ')\n",
    "        for i in self.wheels: i.display()\n",
    "        print('Steering: ')\n",
    "        self.steering.display()\n",
    "\n",
    "car = Car('Tata', 'Nexon', 2023)\n",
    "car.display()"
   ]
  }
 ],
 "metadata": {
  "kernelspec": {
   "display_name": "Python 3 (ipykernel)",
   "language": "python",
   "name": "python3"
  },
  "language_info": {
   "codemirror_mode": {
    "name": "ipython",
    "version": 3
   },
   "file_extension": ".py",
   "mimetype": "text/x-python",
   "name": "python",
   "nbconvert_exporter": "python",
   "pygments_lexer": "ipython3",
   "version": "3.10.9"
  }
 },
 "nbformat": 4,
 "nbformat_minor": 5
}
