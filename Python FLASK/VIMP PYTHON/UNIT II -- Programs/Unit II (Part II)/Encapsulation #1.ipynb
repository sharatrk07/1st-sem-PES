{
 "cells": [
  {
   "cell_type": "code",
   "execution_count": 3,
   "id": "ee2484dc",
   "metadata": {},
   "outputs": [
    {
     "name": "stdout",
     "output_type": "stream",
     "text": [
      "Accessing using object: 1000\n",
      "Accessing using function: 1000\n",
      "Accessing using child class object: 100\n"
     ]
    }
   ],
   "source": [
    "# Public data members\n",
    "# Accessed inside class, inside child class, and using object\n",
    "# No underscore behind the name of the data member\n",
    "\n",
    "class A:\n",
    "    # Constructor\n",
    "    def __init__(self, publicVar):\n",
    "        self.publicVar = publicVar # self.publicVar is a public data member\n",
    "    def display(self):\n",
    "        print('Accessing using function: '+str(self.publicVar))\n",
    "\n",
    "class B(A):\n",
    "    def __init__(self, parentPublicVar):\n",
    "        super().__init__(parentPublicVar)\n",
    "    \n",
    "a = A(1000)\n",
    "print('Accessing using object: '+str(a.publicVar))\n",
    "a.display()\n",
    "\n",
    "b = B(100)\n",
    "print('Accessing using child class object: '+str(b.publicVar))"
   ]
  },
  {
   "cell_type": "code",
   "execution_count": 6,
   "id": "d4bfb562",
   "metadata": {},
   "outputs": [
    {
     "name": "stdout",
     "output_type": "stream",
     "text": [
      "Accessing private member using function: 200\n",
      "Accessing private member using function after modification: \n",
      "300\n",
      "Accessing private member using object: \n"
     ]
    },
    {
     "ename": "AttributeError",
     "evalue": "'A' object has no attribute '__b'",
     "output_type": "error",
     "traceback": [
      "\u001b[0;31m---------------------------------------------------------------------------\u001b[0m",
      "\u001b[0;31mAttributeError\u001b[0m                            Traceback (most recent call last)",
      "Cell \u001b[0;32mIn[6], line 26\u001b[0m\n\u001b[1;32m     24\u001b[0m \u001b[38;5;66;03m# Access private member using object\u001b[39;00m\n\u001b[1;32m     25\u001b[0m \u001b[38;5;28mprint\u001b[39m(\u001b[38;5;124m'\u001b[39m\u001b[38;5;124mAccessing private member using object: \u001b[39m\u001b[38;5;124m'\u001b[39m)\n\u001b[0;32m---> 26\u001b[0m \u001b[38;5;28mprint\u001b[39m(\u001b[43ma\u001b[49m\u001b[38;5;241;43m.\u001b[39;49m\u001b[43m__b\u001b[49m) \u001b[38;5;66;03m# Throws an AttributeError, since __b is private\u001b[39;00m\n",
      "\u001b[0;31mAttributeError\u001b[0m: 'A' object has no attribute '__b'"
     ]
    }
   ],
   "source": [
    "# Private data members\n",
    "# Private data members can be accessed inside the class only\n",
    "# Not accessed using object or child class object\n",
    "# Can be accessed using name mangling or using member functions\n",
    "# Private data members have __ behind the varname\n",
    "\n",
    "class A:\n",
    "    def __init__(self, a, b):\n",
    "        self.a = a # Public data member\n",
    "        self.__b = b # self.__b is a private data member\n",
    "    def getB(self): # Getter function for private data member, 'b'\n",
    "        return self.__b\n",
    "    def setB(self, newValue): # Setter function\n",
    "        self.__b = newValue\n",
    "        \n",
    "a = A(100, 200)\n",
    "# Access private member using function\n",
    "print('Accessing private member using function: '+str(a.getB()))\n",
    "# Modify private member using function\n",
    "a.setB(300)\n",
    "# Access private member using function after modification\n",
    "print('Accessing private member using function after modification: ')\n",
    "print(a.getB())\n",
    "# Access private member using object\n",
    "print('Accessing private member using object: ')\n",
    "print(a.__b) # Throws an AttributeError, since __b is private"
   ]
  },
  {
   "cell_type": "code",
   "execution_count": 8,
   "id": "89eacf67",
   "metadata": {},
   "outputs": [
    {
     "name": "stdout",
     "output_type": "stream",
     "text": [
      "Accessing private member using function: 200\n",
      "Accessing private member using function after modification: \n",
      "300\n",
      "Accessing private member using object of the child class: \n"
     ]
    },
    {
     "ename": "AttributeError",
     "evalue": "'B' object has no attribute '__b'",
     "output_type": "error",
     "traceback": [
      "\u001b[0;31m---------------------------------------------------------------------------\u001b[0m",
      "\u001b[0;31mAttributeError\u001b[0m                            Traceback (most recent call last)",
      "Cell \u001b[0;32mIn[8], line 30\u001b[0m\n\u001b[1;32m     28\u001b[0m b \u001b[38;5;241m=\u001b[39m B(\u001b[38;5;241m100\u001b[39m, \u001b[38;5;241m200\u001b[39m)\n\u001b[1;32m     29\u001b[0m \u001b[38;5;28mprint\u001b[39m(\u001b[38;5;124m'\u001b[39m\u001b[38;5;124mAccessing private member using object of the child class: \u001b[39m\u001b[38;5;124m'\u001b[39m)\n\u001b[0;32m---> 30\u001b[0m \u001b[38;5;28mprint\u001b[39m(\u001b[43mb\u001b[49m\u001b[38;5;241;43m.\u001b[39;49m\u001b[43m__b\u001b[49m) \u001b[38;5;66;03m# Throws an AttributeError, since __b is private\u001b[39;00m\n",
      "\u001b[0;31mAttributeError\u001b[0m: 'B' object has no attribute '__b'"
     ]
    }
   ],
   "source": [
    "# Private data members\n",
    "# Private data members can be accessed inside the class only\n",
    "# Not accessed using object or child class object\n",
    "# Can be accessed using name mangling or using member functions\n",
    "# Private data members have __ behind the varname\n",
    "\n",
    "class A:\n",
    "    def __init__(self, a, b):\n",
    "        self.a = a # Public data member\n",
    "        self.__b = b # self.__b is a private data member\n",
    "    def getB(self): # Getter function for private data member, 'b'\n",
    "        return self.__b\n",
    "    def setB(self, newValue): # Setter function\n",
    "        self.__b = newValue\n",
    "\n",
    "class B(A):\n",
    "    def __init__(self, a, b):\n",
    "        super().__init__(a, b)\n",
    "a = A(100, 200)\n",
    "# Access private member using function\n",
    "print('Accessing private member using function: '+str(a.getB()))\n",
    "# Modify private member using function\n",
    "a.setB(300)\n",
    "# Access private member using function after modification\n",
    "print('Accessing private member using function after modification: ')\n",
    "print(a.getB())\n",
    "# Access private member using object of the child class\n",
    "b = B(100, 200)\n",
    "print('Accessing private member using object of the child class: ')\n",
    "# print(b.__b) # Throws an AttributeError, since __b is private in class A"
   ]
  },
  {
   "cell_type": "code",
   "execution_count": 1,
   "id": "1fab8cfd",
   "metadata": {},
   "outputs": [
    {
     "name": "stdout",
     "output_type": "stream",
     "text": [
      "Name mangling: \n",
      "10\n"
     ]
    }
   ],
   "source": [
    "# Name mangling for private data members\n",
    "class A:\n",
    "    def __init__(self, privateMember):\n",
    "        self.__privateMember = privateMember\n",
    "# Create an object of class A\n",
    "a = A(10)\n",
    "print('Name mangling: ')\n",
    "# objectName._ClassName__PrivateVariableName\n",
    "print(a._A__privateMember)"
   ]
  }
 ],
 "metadata": {
  "kernelspec": {
   "display_name": "Python 3 (ipykernel)",
   "language": "python",
   "name": "python3"
  },
  "language_info": {
   "codemirror_mode": {
    "name": "ipython",
    "version": 3
   },
   "file_extension": ".py",
   "mimetype": "text/x-python",
   "name": "python",
   "nbconvert_exporter": "python",
   "pygments_lexer": "ipython3",
   "version": "3.10.9"
  }
 },
 "nbformat": 4,
 "nbformat_minor": 5
}
