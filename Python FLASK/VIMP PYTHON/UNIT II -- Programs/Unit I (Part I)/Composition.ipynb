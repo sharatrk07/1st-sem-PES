{
 "cells": [
  {
   "cell_type": "code",
   "execution_count": 6,
   "id": "1239b4e4",
   "metadata": {},
   "outputs": [
    {
     "name": "stdout",
     "output_type": "stream",
     "text": [
      "Tata Nexon\n",
      "Wheels: \n",
      "R16\n",
      "R16\n",
      "R16\n",
      "R16\n",
      "Engine: \n",
      "1200\n"
     ]
    }
   ],
   "source": [
    "# Create a Car with four wheels and engine\n",
    "# Have different classes for each component\n",
    "\n",
    "# Wheel and Engine are componenets\n",
    "class Wheel:\n",
    "    def __init__(s, size):\n",
    "        s.size = size\n",
    "\n",
    "class Engine:\n",
    "    def __init__(s, displ):\n",
    "        s.displ = displ\n",
    "\n",
    "# Car is composite\n",
    "class Car:\n",
    "    def __init__(s, wheel_size, displacement, model):\n",
    "        # 4 wheels\n",
    "        s.wheels = [Wheel(wheel_size) for i in range(4)]\n",
    "        s.engine = Engine(displacement)\n",
    "        s.model = model\n",
    "        \n",
    "    def display(s):\n",
    "        print(s.model)\n",
    "        print('Wheels: ')\n",
    "#         print(s.wheels)\n",
    "        for i in s.wheels:\n",
    "            print(i.size)\n",
    "        print('Engine: ')\n",
    "        print(s.engine.displ)\n",
    "        \n",
    "\n",
    "car1 = Car('R16', 1200, 'Tata Nexon')\n",
    "car1.display()"
   ]
  }
 ],
 "metadata": {
  "kernelspec": {
   "display_name": "Python 3 (ipykernel)",
   "language": "python",
   "name": "python3"
  },
  "language_info": {
   "codemirror_mode": {
    "name": "ipython",
    "version": 3
   },
   "file_extension": ".py",
   "mimetype": "text/x-python",
   "name": "python",
   "nbconvert_exporter": "python",
   "pygments_lexer": "ipython3",
   "version": "3.10.9"
  }
 },
 "nbformat": 4,
 "nbformat_minor": 5
}
