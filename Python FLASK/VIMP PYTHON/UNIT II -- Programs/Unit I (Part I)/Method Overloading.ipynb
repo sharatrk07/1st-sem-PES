{
 "cells": [
  {
   "cell_type": "code",
   "execution_count": 1,
   "id": "389b227e",
   "metadata": {},
   "outputs": [
    {
     "name": "stdout",
     "output_type": "stream",
     "text": [
      "5\n",
      "Area of square: 25\n",
      "10\n",
      "20\n",
      "Area of rectangle: 200\n",
      "3\n",
      "4\n",
      "5\n",
      "Area of triangle: 6.0\n"
     ]
    }
   ],
   "source": [
    "import math\n",
    "def calc(*a):\n",
    "    f = len(a)\n",
    "    if(f<1 or f>3):\n",
    "        print('Invalid input')\n",
    "        exit()\n",
    "    if(f==1):\n",
    "        print('Area of square: '+str(a[0]**2))\n",
    "        exit()\n",
    "    if(f==2):\n",
    "        print('Area of rectangle: '+str(a[0]*a[1]))\n",
    "    if(f==3):\n",
    "        s = sum(a)/2.0\n",
    "        ar = math.sqrt(s*(s-a[0])*(s-a[1])*(s-a[2]))\n",
    "        print('Area of triangle: '+str(ar))\n",
    "        \n",
    "# a = Area()\n",
    "calc(int(input()))\n",
    "calc(int(input()), int(input()))\n",
    "calc(int(input()), int(input()), int(input()))"
   ]
  },
  {
   "cell_type": "code",
   "execution_count": 3,
   "id": "ae5de1b2",
   "metadata": {},
   "outputs": [
    {
     "name": "stdout",
     "output_type": "stream",
     "text": [
      "Integers passed\n",
      "8\n",
      "Float passed\n",
      "8.0\n",
      "Strings passed\n",
      "ab\n"
     ]
    }
   ],
   "source": [
    "# Using Dispatch\n",
    "# Addition of two numbers and concatenation of string\n",
    "from multipledispatch import dispatch\n",
    "# 2 int\n",
    "@dispatch(int, int)\n",
    "def add(a, b):\n",
    "    print('Integers passed')\n",
    "    print(a+b)\n",
    "\n",
    "@dispatch(float, float)\n",
    "def add(a, b):\n",
    "    print('Float passed')\n",
    "    print(a+b)\n",
    "\n",
    "@dispatch(str, str)\n",
    "def add(a, b):\n",
    "    print('Strings passed')\n",
    "    print(a+b)\n",
    "    \n",
    "add(3, 5)\n",
    "add(3.5, 4.5)\n",
    "add('a', 'b')"
   ]
  },
  {
   "cell_type": "code",
   "execution_count": 1,
   "id": "5400f3b1",
   "metadata": {},
   "outputs": [
    {
     "name": "stdout",
     "output_type": "stream",
     "text": [
      "[1, 15.625, 10000, 100, 1157.625]\n"
     ]
    }
   ],
   "source": [
    "from multipledispatch import dispatch as d\n",
    "\n",
    "@d(int)\n",
    "def calc(a):\n",
    "    return a**2\n",
    "\n",
    "@d(float)\n",
    "def calc(a):\n",
    "    return a**3\n",
    "\n",
    "l = [1, 2.5, 100, -10, 10.5]\n",
    "r = []\n",
    "for i in l:\n",
    "    r.append(calc(i))\n",
    "    \n",
    "print(r)"
   ]
  },
  {
   "cell_type": "code",
   "execution_count": null,
   "id": "e786da15",
   "metadata": {},
   "outputs": [],
   "source": []
  }
 ],
 "metadata": {
  "kernelspec": {
   "display_name": "Python 3 (ipykernel)",
   "language": "python",
   "name": "python3"
  },
  "language_info": {
   "codemirror_mode": {
    "name": "ipython",
    "version": 3
   },
   "file_extension": ".py",
   "mimetype": "text/x-python",
   "name": "python",
   "nbconvert_exporter": "python",
   "pygments_lexer": "ipython3",
   "version": "3.10.9"
  }
 },
 "nbformat": 4,
 "nbformat_minor": 5
}
