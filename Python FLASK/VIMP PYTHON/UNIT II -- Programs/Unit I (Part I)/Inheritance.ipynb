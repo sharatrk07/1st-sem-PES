{
 "cells": [
  {
   "cell_type": "code",
   "execution_count": 13,
   "id": "b85c4ecd",
   "metadata": {},
   "outputs": [
    {
     "name": "stdout",
     "output_type": "stream",
     "text": [
      "Before\n",
      "Tata Nexon 2023\n",
      "40kWh\n",
      "After\n",
      "Tata Harrier 2023\n",
      "40kWh\n",
      "Harrier\n"
     ]
    },
    {
     "ename": "NameError",
     "evalue": "name 'm' is not defined",
     "output_type": "error",
     "traceback": [
      "\u001b[0;31m---------------------------------------------------------------------------\u001b[0m",
      "\u001b[0;31mNameError\u001b[0m                                 Traceback (most recent call last)",
      "Cell \u001b[0;32mIn[13], line 24\u001b[0m\n\u001b[1;32m     22\u001b[0m ev\u001b[38;5;241m.\u001b[39mdisp()\n\u001b[1;32m     23\u001b[0m \u001b[38;5;28mprint\u001b[39m(ev\u001b[38;5;241m.\u001b[39mm)\n\u001b[0;32m---> 24\u001b[0m \u001b[38;5;28mprint\u001b[39m(\u001b[43mm\u001b[49m)\n",
      "\u001b[0;31mNameError\u001b[0m: name 'm' is not defined"
     ]
    }
   ],
   "source": [
    "class Car:\n",
    "    def __init__(s, br, m, y):\n",
    "        s.br, s.m, s.y = br, m, y\n",
    "    def disp(s):\n",
    "        print(s.br, s.m, s.y)\n",
    "\n",
    "class EV(Car):\n",
    "    def __init__(s, br, m, y, bt):\n",
    "        super().__init__(br, m, y)\n",
    "        s.bt = bt\n",
    "    def setter(s):\n",
    "        s.m = 'Harrier'\n",
    "    def disp(s):\n",
    "        super().disp()\n",
    "        print(s.bt)\n",
    "        \n",
    "ev = EV('Tata', 'Nexon', 2023, '40kWh')\n",
    "print('Before')\n",
    "ev.disp()\n",
    "ev.setter()\n",
    "print('After')\n",
    "ev.disp()\n",
    "print(ev.m)\n",
    "# print(m)"
   ]
  },
  {
   "cell_type": "code",
   "execution_count": 25,
   "id": "24e60284",
   "metadata": {},
   "outputs": [
    {
     "name": "stdout",
     "output_type": "stream",
     "text": [
      "Private Member: 100\n"
     ]
    }
   ],
   "source": [
    "# private\n",
    "\n",
    "class A:\n",
    "    __n = None\n",
    "    \n",
    "    def __init__(s, n):\n",
    "        s.__n = n\n",
    "    \n",
    "    def disp(s):\n",
    "        print('Private Member: '+str(s.__n))\n",
    "\n",
    "        \n",
    "class B(A):\n",
    "    def __init__(s, n):\n",
    "        super().__init__(n)\n",
    "        \n",
    "    def disp(s):\n",
    "        print(s.__n)\n",
    "    \n",
    "a = A(100)\n",
    "a.disp()\n",
    "\n",
    "# print(a.__n)\n",
    "\n",
    "b = B(1000)\n"
   ]
  },
  {
   "cell_type": "code",
   "execution_count": 23,
   "id": "9790dbbb",
   "metadata": {},
   "outputs": [
    {
     "name": "stdout",
     "output_type": "stream",
     "text": [
      "Protected Member in Class A displayed in Class B: 100\n",
      "100\n"
     ]
    }
   ],
   "source": [
    "# protected\n",
    "\n",
    "class A:\n",
    "    def __init__(s, n):\n",
    "        s._n = n\n",
    "    def disp(s):\n",
    "        print('Protected Member in Class A: '+str(s._n))\n",
    "        \n",
    "class B(A):\n",
    "    def __init__(s, n):\n",
    "        super().__init__(n)\n",
    "    def disp(s):\n",
    "        print('Protected Member in Class A displayed in Class B: '+str(s._n))\n",
    "        \n",
    "b = B(100)\n",
    "b.disp()\n",
    "print(b._n)"
   ]
  },
  {
   "cell_type": "code",
   "execution_count": 29,
   "id": "4288791f",
   "metadata": {},
   "outputs": [
    {
     "ename": "AttributeError",
     "evalue": "type object 'A' has no attribute '__n'",
     "output_type": "error",
     "traceback": [
      "\u001b[0;31m---------------------------------------------------------------------------\u001b[0m",
      "\u001b[0;31mAttributeError\u001b[0m                            Traceback (most recent call last)",
      "Cell \u001b[0;32mIn[29], line 2\u001b[0m\n\u001b[1;32m      1\u001b[0m \u001b[38;5;66;03m# dir(b)\u001b[39;00m\n\u001b[0;32m----> 2\u001b[0m \u001b[38;5;28mprint\u001b[39m(\u001b[43mA\u001b[49m\u001b[38;5;241;43m.\u001b[39;49m\u001b[43m__n\u001b[49m)\n",
      "\u001b[0;31mAttributeError\u001b[0m: type object 'A' has no attribute '__n'"
     ]
    }
   ],
   "source": [
    "# dir(b)\n",
    "# print(A.__n)"
   ]
  },
  {
   "cell_type": "code",
   "execution_count": 34,
   "id": "2d0e9318",
   "metadata": {},
   "outputs": [
    {
     "name": "stdout",
     "output_type": "stream",
     "text": [
      "A\n",
      "B\n",
      "C\n",
      "D\n",
      "[<class '__main__.D'>, <class '__main__.A'>, <class '__main__.B'>, <class '__main__.C'>, <class 'object'>]\n",
      "[<class '__main__.A'>, <class 'object'>]\n",
      "[<class 'object'>]\n"
     ]
    }
   ],
   "source": [
    "class A:\n",
    "    def __init__(s):\n",
    "        print('A')      \n",
    "class B:\n",
    "    def __init__(s):\n",
    "        print('B')        \n",
    "class C:\n",
    "    def __init__(s):\n",
    "        print('C')      \n",
    "class D(A,B,C):\n",
    "    def __init__(s):\n",
    "        super().__init__()\n",
    "        super(A, s).__init__()\n",
    "        super(B, s).__init__()\n",
    "        super(C, s).__init__()\n",
    "        super(object, s).__init__()\n",
    "        print('D')        \n",
    "d = D()\n",
    "print(D.mro())\n",
    "print(A.mro())\n",
    "print(object.mro())"
   ]
  }
 ],
 "metadata": {
  "kernelspec": {
   "display_name": "Python 3 (ipykernel)",
   "language": "python",
   "name": "python3"
  },
  "language_info": {
   "codemirror_mode": {
    "name": "ipython",
    "version": 3
   },
   "file_extension": ".py",
   "mimetype": "text/x-python",
   "name": "python",
   "nbconvert_exporter": "python",
   "pygments_lexer": "ipython3",
   "version": "3.10.9"
  }
 },
 "nbformat": 4,
 "nbformat_minor": 5
}
