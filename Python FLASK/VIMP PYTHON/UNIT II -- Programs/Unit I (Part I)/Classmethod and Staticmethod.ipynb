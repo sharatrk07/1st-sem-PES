{
 "cells": [
  {
   "cell_type": "code",
   "execution_count": 4,
   "id": "d0d85598",
   "metadata": {},
   "outputs": [
    {
     "name": "stdout",
     "output_type": "stream",
     "text": [
      "10\n",
      "10\n",
      "2\n",
      "6.284\n",
      "3\n",
      "9.426\n"
     ]
    }
   ],
   "source": [
    "# Static Methods\n",
    "# Utility Function\n",
    "# Can't access class variables, instance variables, or methods\n",
    "\n",
    "class A:\n",
    "    \n",
    "    # Class Variable\n",
    "    cv = 10\n",
    "    \n",
    "    def __init__(s, a):\n",
    "        s.a = a\n",
    "        \n",
    "    @staticmethod\n",
    "    def return_pi():\n",
    "#         print(s.a)\n",
    "        return 3.142\n",
    "    \n",
    "    def calc(s):\n",
    "        print(s.a * A.return_pi(s))\n",
    "        \n",
    "\n",
    "a, b = A(2), A(3)\n",
    "# Print class variable\n",
    "print(a.cv)\n",
    "print(b.cv)\n",
    "a.calc()\n",
    "b.calc()"
   ]
  },
  {
   "cell_type": "code",
   "execution_count": 7,
   "id": "ce502b3d",
   "metadata": {},
   "outputs": [
    {
     "name": "stdout",
     "output_type": "stream",
     "text": [
      "10\n",
      "20\n",
      "100\n",
      "100\n",
      "1100\n",
      "1600\n"
     ]
    }
   ],
   "source": [
    "class A:\n",
    "    cv = 100\n",
    "    def __init__(s, a):\n",
    "        s.a = a\n",
    "    @classmethod\n",
    "    def foo(cls, x):\n",
    "        cls.cv += x\n",
    "#         print(cls.a)\n",
    "a, b = A(10), A(20)\n",
    "print(a.a)\n",
    "print(b.a)\n",
    "print(a.cv)\n",
    "print(b.cv)\n",
    "a.foo(1000)\n",
    "print(a.cv)\n",
    "b.foo(500)\n",
    "print(b.cv)"
   ]
  }
 ],
 "metadata": {
  "kernelspec": {
   "display_name": "Python 3 (ipykernel)",
   "language": "python",
   "name": "python3"
  },
  "language_info": {
   "codemirror_mode": {
    "name": "ipython",
    "version": 3
   },
   "file_extension": ".py",
   "mimetype": "text/x-python",
   "name": "python",
   "nbconvert_exporter": "python",
   "pygments_lexer": "ipython3",
   "version": "3.10.9"
  }
 },
 "nbformat": 4,
 "nbformat_minor": 5
}
