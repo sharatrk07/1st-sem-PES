{
 "cells": [
  {
   "cell_type": "code",
   "execution_count": 1,
   "id": "c8b205fd",
   "metadata": {},
   "outputs": [],
   "source": [
    "import csv"
   ]
  },
  {
   "cell_type": "code",
   "execution_count": 6,
   "id": "d49095b6",
   "metadata": {},
   "outputs": [
    {
     "name": "stdout",
     "output_type": "stream",
     "text": [
      "['Name', 'Age', 'Gender']\n",
      "['A', '23', 'F']\n",
      "['B', '24', 'M']\n",
      "Reading again\n"
     ]
    }
   ],
   "source": [
    "f = open('sample.csv')\n",
    "r = csv.reader(f)\n",
    "for i in r:\n",
    "    print(i)\n",
    "print('Reading again')\n",
    "for i in r: \n",
    "    print(i)"
   ]
  },
  {
   "cell_type": "code",
   "execution_count": 7,
   "id": "04246aab",
   "metadata": {},
   "outputs": [
    {
     "name": "stdout",
     "output_type": "stream",
     "text": [
      "['Name', 'Age', 'Gender']\n",
      "['A', '23', 'F']\n",
      "['B', '24', 'M']\n"
     ]
    }
   ],
   "source": [
    "f = open('sample.csv')\n",
    "r = csv.reader(f, delimiter = '|')\n",
    "for i in r:\n",
    "    print(i)\n"
   ]
  },
  {
   "cell_type": "code",
   "execution_count": 9,
   "id": "ee49debf",
   "metadata": {},
   "outputs": [
    {
     "name": "stdout",
     "output_type": "stream",
     "text": [
      "{'Name': 'A', 'Age': '23', 'Gender': 'F'}\n",
      "{'Name': 'B', 'Age': '24', 'Gender': 'M'}\n"
     ]
    }
   ],
   "source": [
    "f = open('sample.csv')\n",
    "dr = list(csv.DictReader(f, delimiter = '|'))\n",
    "for i in dr:\n",
    "    print(i)"
   ]
  },
  {
   "cell_type": "code",
   "execution_count": 2,
   "id": "d58786aa",
   "metadata": {},
   "outputs": [],
   "source": [
    "l = [['Name', 'Age', 'Gender'], ['A', 23, 'F'], ['B', 23, 'M']]\n",
    "with open('a.csv', 'w') as f:\n",
    "    w = csv.writer(f)\n",
    "    for row in l:\n",
    "        w.writerow(row)\n"
   ]
  },
  {
   "cell_type": "code",
   "execution_count": 3,
   "id": "8bcc588e",
   "metadata": {},
   "outputs": [],
   "source": [
    "l = [{'Name':'A', 'Age':23, 'Gender':'F'}, \n",
    "    {'Name': 'B', 'Age':24, 'Gender':'M'}]\n",
    "fn = ['Name', 'Age', 'Gender']\n",
    "with open('b.csv', 'w') as f:\n",
    "    dw = csv.DictWriter(f, fieldnames = fn)\n",
    "    dw.writeheader() # Writes the fieldnames\n",
    "    dw.writerows(l)"
   ]
  },
  {
   "cell_type": "code",
   "execution_count": 5,
   "id": "cd65c262",
   "metadata": {},
   "outputs": [],
   "source": [
    "import pandas as pd"
   ]
  },
  {
   "cell_type": "code",
   "execution_count": 8,
   "id": "096bc8fc",
   "metadata": {},
   "outputs": [
    {
     "data": {
      "text/html": [
       "<div>\n",
       "<style scoped>\n",
       "    .dataframe tbody tr th:only-of-type {\n",
       "        vertical-align: middle;\n",
       "    }\n",
       "\n",
       "    .dataframe tbody tr th {\n",
       "        vertical-align: top;\n",
       "    }\n",
       "\n",
       "    .dataframe thead th {\n",
       "        text-align: right;\n",
       "    }\n",
       "</style>\n",
       "<table border=\"1\" class=\"dataframe\">\n",
       "  <thead>\n",
       "    <tr style=\"text-align: right;\">\n",
       "      <th></th>\n",
       "      <th>Name</th>\n",
       "      <th>Hire Date</th>\n",
       "      <th>Salary</th>\n",
       "      <th>Sick Days Remaining</th>\n",
       "    </tr>\n",
       "  </thead>\n",
       "  <tbody>\n",
       "    <tr>\n",
       "      <th>0</th>\n",
       "      <td>GC</td>\n",
       "      <td>03/15/14</td>\n",
       "      <td>50000</td>\n",
       "      <td>10</td>\n",
       "    </tr>\n",
       "    <tr>\n",
       "      <th>1</th>\n",
       "      <td>JC</td>\n",
       "      <td>06/01/15</td>\n",
       "      <td>65000</td>\n",
       "      <td>8</td>\n",
       "    </tr>\n",
       "    <tr>\n",
       "      <th>2</th>\n",
       "      <td>EI</td>\n",
       "      <td>05/12/14</td>\n",
       "      <td>45000</td>\n",
       "      <td>10</td>\n",
       "    </tr>\n",
       "    <tr>\n",
       "      <th>3</th>\n",
       "      <td>TJ</td>\n",
       "      <td>11/01/13</td>\n",
       "      <td>70000</td>\n",
       "      <td>3</td>\n",
       "    </tr>\n",
       "  </tbody>\n",
       "</table>\n",
       "</div>"
      ],
      "text/plain": [
       "  Name Hire Date  Salary  Sick Days Remaining\n",
       "0   GC  03/15/14   50000                   10\n",
       "1   JC  06/01/15   65000                    8\n",
       "2   EI  05/12/14   45000                   10\n",
       "3   TJ  11/01/13   70000                    3"
      ]
     },
     "execution_count": 8,
     "metadata": {},
     "output_type": "execute_result"
    }
   ],
   "source": [
    "df = pd.read_csv('c.csv')\n",
    "df"
   ]
  },
  {
   "cell_type": "code",
   "execution_count": 11,
   "id": "d48c4f4f",
   "metadata": {},
   "outputs": [
    {
     "data": {
      "text/html": [
       "<div>\n",
       "<style scoped>\n",
       "    .dataframe tbody tr th:only-of-type {\n",
       "        vertical-align: middle;\n",
       "    }\n",
       "\n",
       "    .dataframe tbody tr th {\n",
       "        vertical-align: top;\n",
       "    }\n",
       "\n",
       "    .dataframe thead th {\n",
       "        text-align: right;\n",
       "    }\n",
       "</style>\n",
       "<table border=\"1\" class=\"dataframe\">\n",
       "  <thead>\n",
       "    <tr style=\"text-align: right;\">\n",
       "      <th></th>\n",
       "      <th>Initials</th>\n",
       "      <th>DOJ</th>\n",
       "      <th>Basic</th>\n",
       "      <th>Leaves</th>\n",
       "    </tr>\n",
       "  </thead>\n",
       "  <tbody>\n",
       "    <tr>\n",
       "      <th>0</th>\n",
       "      <td>Name</td>\n",
       "      <td>Hire Date</td>\n",
       "      <td>Salary</td>\n",
       "      <td>Sick Days Remaining</td>\n",
       "    </tr>\n",
       "    <tr>\n",
       "      <th>1</th>\n",
       "      <td>GC</td>\n",
       "      <td>03/15/14</td>\n",
       "      <td>50000</td>\n",
       "      <td>10</td>\n",
       "    </tr>\n",
       "    <tr>\n",
       "      <th>2</th>\n",
       "      <td>JC</td>\n",
       "      <td>06/01/15</td>\n",
       "      <td>65000</td>\n",
       "      <td>8</td>\n",
       "    </tr>\n",
       "    <tr>\n",
       "      <th>3</th>\n",
       "      <td>EI</td>\n",
       "      <td>05/12/14</td>\n",
       "      <td>45000</td>\n",
       "      <td>10</td>\n",
       "    </tr>\n",
       "    <tr>\n",
       "      <th>4</th>\n",
       "      <td>TJ</td>\n",
       "      <td>11/01/13</td>\n",
       "      <td>70000</td>\n",
       "      <td>3</td>\n",
       "    </tr>\n",
       "  </tbody>\n",
       "</table>\n",
       "</div>"
      ],
      "text/plain": [
       "  Initials        DOJ   Basic               Leaves\n",
       "0     Name  Hire Date  Salary  Sick Days Remaining\n",
       "1       GC   03/15/14   50000                   10\n",
       "2       JC   06/01/15   65000                    8\n",
       "3       EI   05/12/14   45000                   10\n",
       "4       TJ   11/01/13   70000                    3"
      ]
     },
     "execution_count": 11,
     "metadata": {},
     "output_type": "execute_result"
    }
   ],
   "source": [
    "df = pd.read_csv('c.csv', \n",
    "     names = ['Initials', 'DOJ', 'Basic', 'Leaves'])\n",
    "df"
   ]
  }
 ],
 "metadata": {
  "kernelspec": {
   "display_name": "Python 3 (ipykernel)",
   "language": "python",
   "name": "python3"
  },
  "language_info": {
   "codemirror_mode": {
    "name": "ipython",
    "version": 3
   },
   "file_extension": ".py",
   "mimetype": "text/x-python",
   "name": "python",
   "nbconvert_exporter": "python",
   "pygments_lexer": "ipython3",
   "version": "3.10.9"
  }
 },
 "nbformat": 4,
 "nbformat_minor": 5
}
