{
 "cells": [
  {
   "cell_type": "code",
   "execution_count": 2,
   "id": "d354eed8",
   "metadata": {},
   "outputs": [
    {
     "name": "stdout",
     "output_type": "stream",
     "text": [
      "This is a text file. \n",
      "This is Line 2. \n",
      "Re-reading without setting seek to 0\n",
      "\n",
      "After setting seek to 0\n",
      "This is a text file. \n",
      "This is Line 2. \n"
     ]
    }
   ],
   "source": [
    "f = open('a.txt')\n",
    "content = f.read()\n",
    "print(content)\n",
    "# Re-reading\n",
    "content = f.read()\n",
    "print('Re-reading without setting seek to 0')\n",
    "print(content)\n",
    "print('After setting seek to 0')\n",
    "f.seek(0)\n",
    "content = f.read()\n",
    "print(content)"
   ]
  },
  {
   "cell_type": "code",
   "execution_count": 4,
   "id": "07712b13",
   "metadata": {},
   "outputs": [],
   "source": [
    "f = open('b.txt', 'w')\n",
    "# b.txt is not empty\n",
    "f.write('Some New Content for Overwriting')\n",
    "f.close()"
   ]
  },
  {
   "cell_type": "code",
   "execution_count": 13,
   "id": "4b0c1621",
   "metadata": {},
   "outputs": [
    {
     "name": "stdout",
     "output_type": "stream",
     "text": [
      "Contents of the source file: \n",
      "Contents of the File\n",
      "Copy done\n"
     ]
    }
   ],
   "source": [
    "src = open('source.txt')\n",
    "print('Contents of the source file: ')\n",
    "content = src.read()\n",
    "print(content)\n",
    "dest = open('dest.txt', 'w')\n",
    "dest.write(content)\n",
    "print('Copy done')\n",
    "src.close()\n",
    "dest.close()"
   ]
  }
 ],
 "metadata": {
  "kernelspec": {
   "display_name": "Python 3 (ipykernel)",
   "language": "python",
   "name": "python3"
  },
  "language_info": {
   "codemirror_mode": {
    "name": "ipython",
    "version": 3
   },
   "file_extension": ".py",
   "mimetype": "text/x-python",
   "name": "python",
   "nbconvert_exporter": "python",
   "pygments_lexer": "ipython3",
   "version": "3.10.9"
  }
 },
 "nbformat": 4,
 "nbformat_minor": 5
}
