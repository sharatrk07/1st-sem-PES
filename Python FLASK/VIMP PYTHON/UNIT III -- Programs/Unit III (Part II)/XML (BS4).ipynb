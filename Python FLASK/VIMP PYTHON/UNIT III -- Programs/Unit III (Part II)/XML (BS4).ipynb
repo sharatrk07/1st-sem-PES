{
 "cells": [
  {
   "cell_type": "code",
   "execution_count": 3,
   "id": "e22506b7",
   "metadata": {},
   "outputs": [],
   "source": [
    "from bs4 import BeautifulSoup\n",
    "from lxml import etree"
   ]
  },
  {
   "cell_type": "code",
   "execution_count": 5,
   "id": "6966339c",
   "metadata": {},
   "outputs": [],
   "source": [
    "l = [{'name': 'A', 'age': 23}, \n",
    "    {'name': 'B', 'age': 25}]\n",
    "root = etree.Element('students')"
   ]
  },
  {
   "cell_type": "code",
   "execution_count": 6,
   "id": "9269a5bb",
   "metadata": {},
   "outputs": [],
   "source": [
    "for i in l:\n",
    "    ch = etree.SubElement(root, 'student')\n",
    "    for k in i:\n",
    "        ele = etree.SubElement(ch, k)\n",
    "        ele.text = str(i[k])\n"
   ]
  },
  {
   "cell_type": "code",
   "execution_count": 8,
   "id": "74f6cee5",
   "metadata": {},
   "outputs": [
    {
     "data": {
      "text/plain": [
       "b\"<?xml version='1.0' encoding='ASCII'?>\\n<students>\\n  <student>\\n    <name>A</name>\\n    <age>23</age>\\n  </student>\\n  <student>\\n    <name>B</name>\\n    <age>25</age>\\n  </student>\\n</students>\\n\""
      ]
     },
     "execution_count": 8,
     "metadata": {},
     "output_type": "execute_result"
    }
   ],
   "source": [
    "xml_string = etree.tostring(root, pretty_print = True, xml_declaration = True)\n",
    "xml_string"
   ]
  },
  {
   "cell_type": "code",
   "execution_count": 16,
   "id": "2aad3ef6",
   "metadata": {},
   "outputs": [],
   "source": [
    "soup = BeautifulSoup(xml_string, 'html.parser')"
   ]
  },
  {
   "cell_type": "code",
   "execution_count": 18,
   "id": "059d1725",
   "metadata": {},
   "outputs": [
    {
     "data": {
      "text/plain": [
       "162"
      ]
     },
     "execution_count": 18,
     "metadata": {},
     "output_type": "execute_result"
    }
   ],
   "source": [
    "open('zzz.xml', 'w').write(str(soup))"
   ]
  },
  {
   "cell_type": "code",
   "execution_count": 19,
   "id": "fa303e25",
   "metadata": {},
   "outputs": [
    {
     "data": {
      "text/plain": [
       "\"<?xml version='1.0' encoding='ASCII'?>\\n<students>\\n<student>\\n<name>A</name>\\n<age>23</age>\\n</student>\\n<student>\\n<name>B</name>\\n<age>25</age>\\n</student>\\n</students>\\n\""
      ]
     },
     "execution_count": 19,
     "metadata": {},
     "output_type": "execute_result"
    }
   ],
   "source": [
    "xml_content = open('zzz.xml').read()\n",
    "xml_content"
   ]
  },
  {
   "cell_type": "code",
   "execution_count": 24,
   "id": "d9fe1ed0",
   "metadata": {},
   "outputs": [
    {
     "data": {
      "text/plain": [
       "bs4.element.ResultSet"
      ]
     },
     "execution_count": 24,
     "metadata": {},
     "output_type": "execute_result"
    }
   ],
   "source": [
    "soup = BeautifulSoup(xml_content, 'html.parser')\n",
    "students = soup.find_all('student')\n",
    "type(students)"
   ]
  },
  {
   "cell_type": "code",
   "execution_count": 31,
   "id": "d1f37a89",
   "metadata": {},
   "outputs": [
    {
     "name": "stdout",
     "output_type": "stream",
     "text": [
      "A\n",
      "23\n",
      "B\n",
      "25\n"
     ]
    }
   ],
   "source": [
    "for i in students:\n",
    "\n",
    "    nm = i.find('name').text\n",
    "    print(nm)\n",
    "    \n",
    "    age = i.find('age').text\n",
    "    print(age)"
   ]
  },
  {
   "cell_type": "code",
   "execution_count": null,
   "id": "802773d5",
   "metadata": {},
   "outputs": [],
   "source": []
  }
 ],
 "metadata": {
  "kernelspec": {
   "display_name": "Python 3 (ipykernel)",
   "language": "python",
   "name": "python3"
  },
  "language_info": {
   "codemirror_mode": {
    "name": "ipython",
    "version": 3
   },
   "file_extension": ".py",
   "mimetype": "text/x-python",
   "name": "python",
   "nbconvert_exporter": "python",
   "pygments_lexer": "ipython3",
   "version": "3.10.9"
  }
 },
 "nbformat": 4,
 "nbformat_minor": 5
}
