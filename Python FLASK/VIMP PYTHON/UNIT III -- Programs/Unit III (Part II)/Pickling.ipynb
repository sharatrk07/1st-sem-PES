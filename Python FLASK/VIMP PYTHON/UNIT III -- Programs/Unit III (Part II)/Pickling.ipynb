{
 "cells": [
  {
   "cell_type": "code",
   "execution_count": 2,
   "id": "84c59ea2",
   "metadata": {},
   "outputs": [],
   "source": [
    "import pickle"
   ]
  },
  {
   "cell_type": "code",
   "execution_count": 6,
   "id": "6f3e932e",
   "metadata": {},
   "outputs": [
    {
     "name": "stdout",
     "output_type": "stream",
     "text": [
      "Pickled file contents: \n",
      "\n",
      "b'\\x80\\x04\\x95\\x0b\\x00\\x00\\x00\\x00\\x00\\x00\\x00]\\x94(K\\x01K\\x02K\\x03e.'\n"
     ]
    }
   ],
   "source": [
    "# pickle.dump()\n",
    "l = [1, 2, 3]\n",
    "with open('l1.pkl', 'wb') as f:\n",
    "    pickle.dump(l, f)\n",
    "print('Pickled file contents: \\n')\n",
    "print(open('l1.pkl', 'rb').read())"
   ]
  },
  {
   "cell_type": "code",
   "execution_count": 7,
   "id": "de105818",
   "metadata": {},
   "outputs": [
    {
     "name": "stdout",
     "output_type": "stream",
     "text": [
      "b'\\x80\\x04\\x95\\x0b\\x00\\x00\\x00\\x00\\x00\\x00\\x00]\\x94(K\\x01K\\x02K\\x03e.'\n"
     ]
    }
   ],
   "source": [
    "# pickle.dumps()\n",
    "l = [1, 2, 3]\n",
    "sd = pickle.dumps(l)\n",
    "print(sd)"
   ]
  },
  {
   "cell_type": "code",
   "execution_count": 8,
   "id": "5fbf7efd",
   "metadata": {},
   "outputs": [
    {
     "data": {
      "text/plain": [
       "[1, 2, 3]"
      ]
     },
     "execution_count": 8,
     "metadata": {},
     "output_type": "execute_result"
    }
   ],
   "source": [
    "# pickle.load()\n",
    "with open('l1.pkl', 'rb') as f:\n",
    "    l = pickle.load(f)\n",
    "l"
   ]
  },
  {
   "cell_type": "code",
   "execution_count": 11,
   "id": "476ce761",
   "metadata": {},
   "outputs": [
    {
     "data": {
      "text/plain": [
       "[1, 2, 3]"
      ]
     },
     "execution_count": 11,
     "metadata": {},
     "output_type": "execute_result"
    }
   ],
   "source": [
    "# pickle.loads()\n",
    "sd = open('l1.pkl', 'rb').read()\n",
    "l = pickle.loads(sd)\n",
    "l"
   ]
  },
  {
   "cell_type": "code",
   "execution_count": null,
   "id": "cf6858c8",
   "metadata": {},
   "outputs": [],
   "source": []
  }
 ],
 "metadata": {
  "kernelspec": {
   "display_name": "Python 3 (ipykernel)",
   "language": "python",
   "name": "python3"
  },
  "language_info": {
   "codemirror_mode": {
    "name": "ipython",
    "version": 3
   },
   "file_extension": ".py",
   "mimetype": "text/x-python",
   "name": "python",
   "nbconvert_exporter": "python",
   "pygments_lexer": "ipython3",
   "version": "3.10.9"
  }
 },
 "nbformat": 4,
 "nbformat_minor": 5
}
