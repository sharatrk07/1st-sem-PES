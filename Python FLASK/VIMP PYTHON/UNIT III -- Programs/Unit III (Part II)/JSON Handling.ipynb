{
 "cells": [
  {
   "cell_type": "code",
   "execution_count": 1,
   "id": "78c639cd",
   "metadata": {},
   "outputs": [],
   "source": [
    "import json"
   ]
  },
  {
   "cell_type": "code",
   "execution_count": 3,
   "id": "4c949d43",
   "metadata": {},
   "outputs": [
    {
     "data": {
      "text/plain": [
       "[{'id': 101, 'name': 'ABC'},\n",
       " {'id': 102, 'name': 'DEF'},\n",
       " {'id': 103, 'name': 'GHI'}]"
      ]
     },
     "execution_count": 3,
     "metadata": {},
     "output_type": "execute_result"
    }
   ],
   "source": [
    "# json.load\n",
    "with open('q.json') as f:\n",
    "    obj = json.load(f)\n",
    "obj"
   ]
  },
  {
   "cell_type": "code",
   "execution_count": 4,
   "id": "82c630d2",
   "metadata": {},
   "outputs": [
    {
     "data": {
      "text/plain": [
       "{'name': 'ABC', 'id': 100}"
      ]
     },
     "execution_count": 4,
     "metadata": {},
     "output_type": "execute_result"
    }
   ],
   "source": [
    "# json.loads\n",
    "json_string = '{\"name\":\"ABC\", \"id\": 100}'\n",
    "obj = json.loads(json_string)\n",
    "obj"
   ]
  },
  {
   "cell_type": "code",
   "execution_count": 7,
   "id": "78c26dba",
   "metadata": {},
   "outputs": [
    {
     "name": "stdout",
     "output_type": "stream",
     "text": [
      "Reading the file created: \n",
      "\n",
      "[{\"Name\": \"Tony Stark\", \"Alias\": \"Iron Man\"}, {\"Name\": \"Steven Rogers\", \"Alias\": \"Captain America\"}]\n"
     ]
    }
   ],
   "source": [
    "# json.dump\n",
    "obj = [{'Name': 'Tony Stark', 'Alias': 'Iron Man'}, \n",
    "      {'Name': 'Steven Rogers', 'Alias': 'Captain America'}]\n",
    "with open('marvel.json', 'w') as f:\n",
    "    json.dump(obj, f)\n",
    "\n",
    "\n",
    "print('Reading the file created: \\n')\n",
    "print(open('marvel.json').read())"
   ]
  },
  {
   "cell_type": "code",
   "execution_count": 8,
   "id": "16a4b14f",
   "metadata": {},
   "outputs": [
    {
     "data": {
      "text/plain": [
       "'[{\"Name\": \"Tony Stark\", \"Alias\": \"Iron Man\"}, {\"Name\": \"Steven Rogers\", \"Alias\": \"Captain America\"}]'"
      ]
     },
     "execution_count": 8,
     "metadata": {},
     "output_type": "execute_result"
    }
   ],
   "source": [
    "# json.dumps\n",
    "obj = [{'Name': 'Tony Stark', 'Alias': 'Iron Man'}, \n",
    "      {'Name': 'Steven Rogers', 'Alias': 'Captain America'}]\n",
    "json_str = json.dumps(obj)\n",
    "json_str"
   ]
  },
  {
   "cell_type": "code",
   "execution_count": null,
   "id": "ec5476d6",
   "metadata": {},
   "outputs": [],
   "source": []
  }
 ],
 "metadata": {
  "kernelspec": {
   "display_name": "Python 3 (ipykernel)",
   "language": "python",
   "name": "python3"
  },
  "language_info": {
   "codemirror_mode": {
    "name": "ipython",
    "version": 3
   },
   "file_extension": ".py",
   "mimetype": "text/x-python",
   "name": "python",
   "nbconvert_exporter": "python",
   "pygments_lexer": "ipython3",
   "version": "3.10.9"
  }
 },
 "nbformat": 4,
 "nbformat_minor": 5
}
