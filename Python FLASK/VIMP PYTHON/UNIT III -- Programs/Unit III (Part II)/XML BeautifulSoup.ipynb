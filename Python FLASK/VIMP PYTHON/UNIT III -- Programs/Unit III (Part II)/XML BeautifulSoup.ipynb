{
 "cells": [
  {
   "cell_type": "code",
   "execution_count": 1,
   "id": "509b15d0",
   "metadata": {},
   "outputs": [],
   "source": [
    "from lxml import etree\n",
    "from bs4 import BeautifulSoup as BS"
   ]
  },
  {
   "cell_type": "code",
   "execution_count": 3,
   "id": "a6803438",
   "metadata": {},
   "outputs": [
    {
     "name": "stdout",
     "output_type": "stream",
     "text": [
      "File: \n",
      "\n",
      "<?xml version=\"1.0\" encoding=\"utf-8\"?>\n",
      "<characters>\n",
      "<character>\n",
      "<Name>Tony Stark</Name>\n",
      "<Alias>Iron Man</Alias>\n",
      "<Item>Arc Reactor Core</Item>\n",
      "</character>\n",
      "<character>\n",
      "<Name>Steven Rogers</Name>\n",
      "<Alias>Captain America</Alias>\n",
      "<Item>Strontium Shield</Item>\n",
      "</character>\n",
      "</characters>\n"
     ]
    }
   ],
   "source": [
    "l = [{'Name': 'Tony Stark', 'Alias': 'Iron Man', 'Item': 'Arc Reactor Core'}, \n",
    "      {'Name': 'Steven Rogers', 'Alias': 'Captain America', 'Item': 'Strontium Shield'}]\n",
    "root = etree.Element('characters')\n",
    "for d in l:\n",
    "    ch = etree.SubElement(root, 'character')\n",
    "    for key in d:\n",
    "        ele = etree.SubElement(ch, key)\n",
    "        ele.text = str(d[key])\n",
    "xml_string = etree.tostring(root, pretty_print = True)\n",
    "soup = BS(xml_string, 'xml')\n",
    "with open('mcubs.xml', 'w') as f:\n",
    "    f.write(str(soup))\n",
    "print('File: \\n')\n",
    "print(open('mcubs.xml').read())"
   ]
  }
 ],
 "metadata": {
  "kernelspec": {
   "display_name": "Python 3 (ipykernel)",
   "language": "python",
   "name": "python3"
  },
  "language_info": {
   "codemirror_mode": {
    "name": "ipython",
    "version": 3
   },
   "file_extension": ".py",
   "mimetype": "text/x-python",
   "name": "python",
   "nbconvert_exporter": "python",
   "pygments_lexer": "ipython3",
   "version": "3.10.9"
  }
 },
 "nbformat": 4,
 "nbformat_minor": 5
}
