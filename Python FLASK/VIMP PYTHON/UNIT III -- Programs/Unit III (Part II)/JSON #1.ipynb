{
 "cells": [
  {
   "cell_type": "code",
   "execution_count": 1,
   "id": "668d1b0a",
   "metadata": {},
   "outputs": [],
   "source": [
    "import json"
   ]
  },
  {
   "cell_type": "code",
   "execution_count": 3,
   "id": "cae91862",
   "metadata": {},
   "outputs": [
    {
     "data": {
      "text/plain": [
       "[{'id': 101, 'name': 'ABC'},\n",
       " {'id': 102, 'name': 'DEF'},\n",
       " {'id': 103, 'name': 'GHI'}]"
      ]
     },
     "execution_count": 3,
     "metadata": {},
     "output_type": "execute_result"
    }
   ],
   "source": [
    "l = [{'id': 101, 'name': 'ABC'}, \n",
    "     {'id': 102, 'name': 'DEF'}, \n",
    "     {'id': 103, 'name':'GHI'}]\n",
    "l"
   ]
  },
  {
   "cell_type": "code",
   "execution_count": 4,
   "id": "67ff4b4b",
   "metadata": {},
   "outputs": [],
   "source": [
    "s = str(l)"
   ]
  },
  {
   "cell_type": "code",
   "execution_count": 8,
   "id": "529b9106",
   "metadata": {},
   "outputs": [
    {
     "data": {
      "text/plain": [
       "\"[{'id': 101, 'name': 'ABC'}, {'id': 102, 'name': 'DEF'}, {'id': 103, 'name': 'GHI'}]\""
      ]
     },
     "execution_count": 8,
     "metadata": {},
     "output_type": "execute_result"
    }
   ],
   "source": [
    "s"
   ]
  },
  {
   "cell_type": "code",
   "execution_count": 7,
   "id": "2ef3b490",
   "metadata": {},
   "outputs": [],
   "source": [
    "with open('q.json', 'w') as f:\n",
    "    f.write(s)\n"
   ]
  },
  {
   "cell_type": "markdown",
   "id": "c1a182f5",
   "metadata": {},
   "source": [
    "# dumps"
   ]
  },
  {
   "cell_type": "code",
   "execution_count": 10,
   "id": "f203854b",
   "metadata": {},
   "outputs": [
    {
     "data": {
      "text/plain": [
       "[{'id': 101, 'name': 'ABC'},\n",
       " {'id': 102, 'name': 'DEF'},\n",
       " {'id': 103, 'name': 'GHI'}]"
      ]
     },
     "execution_count": 10,
     "metadata": {},
     "output_type": "execute_result"
    }
   ],
   "source": [
    "l"
   ]
  },
  {
   "cell_type": "code",
   "execution_count": 15,
   "id": "afef784e",
   "metadata": {},
   "outputs": [],
   "source": [
    "json_str = json.dumps(l, indent = 4)"
   ]
  },
  {
   "cell_type": "code",
   "execution_count": 16,
   "id": "5451c93a",
   "metadata": {},
   "outputs": [
    {
     "data": {
      "text/plain": [
       "'[\\n    {\\n        \"id\": 101,\\n        \"name\": \"ABC\"\\n    },\\n    {\\n        \"id\": 102,\\n        \"name\": \"DEF\"\\n    },\\n    {\\n        \"id\": 103,\\n        \"name\": \"GHI\"\\n    }\\n]'"
      ]
     },
     "execution_count": 16,
     "metadata": {},
     "output_type": "execute_result"
    }
   ],
   "source": [
    "json_str"
   ]
  },
  {
   "cell_type": "code",
   "execution_count": 13,
   "id": "37f1fa32",
   "metadata": {},
   "outputs": [
    {
     "data": {
      "text/plain": [
       "\"[{'id': 101, 'name': 'ABC'}, {'id': 102, 'name': 'DEF'}, {'id': 103, 'name': 'GHI'}]\""
      ]
     },
     "execution_count": 13,
     "metadata": {},
     "output_type": "execute_result"
    }
   ],
   "source": [
    "s"
   ]
  },
  {
   "cell_type": "code",
   "execution_count": 21,
   "id": "4ea37d6c",
   "metadata": {},
   "outputs": [],
   "source": [
    "l = [{'id': 101, 'name': 'ABC'}, \n",
    "     {'id': 102, 'name': 'DEF'}, \n",
    "     {'id': 103, 'name':'GHI'}]\n",
    "\n",
    "json_str = json.dumps(l, indent = 4)\n",
    "with open('a.json', 'w') as f:\n",
    "    f.write(json_str)"
   ]
  },
  {
   "cell_type": "markdown",
   "id": "9ccb1d7c",
   "metadata": {},
   "source": [
    "# dump"
   ]
  },
  {
   "cell_type": "code",
   "execution_count": 23,
   "id": "f002748f",
   "metadata": {},
   "outputs": [],
   "source": [
    "l = [{'id': 101, 'name': 'ABC'}, \n",
    "     {'id': 102, 'name': 'DEF'}, \n",
    "     {'id': 103, 'name':'GHI'}]\n",
    "with open('b.json', 'w') as f:\n",
    "    json.dump(l, f, indent = 4)"
   ]
  },
  {
   "cell_type": "markdown",
   "id": "046a8ed4",
   "metadata": {},
   "source": [
    "# loads"
   ]
  },
  {
   "cell_type": "code",
   "execution_count": 24,
   "id": "c9855c56",
   "metadata": {},
   "outputs": [
    {
     "data": {
      "text/plain": [
       "[{'id': 101, 'name': 'ABC'},\n",
       " {'id': 102, 'name': 'DEF'},\n",
       " {'id': 103, 'name': 'GHI'}]"
      ]
     },
     "execution_count": 24,
     "metadata": {},
     "output_type": "execute_result"
    }
   ],
   "source": [
    "l1 = json.loads(json_str)\n",
    "l1"
   ]
  },
  {
   "cell_type": "markdown",
   "id": "7c96e339",
   "metadata": {},
   "source": [
    "# load"
   ]
  },
  {
   "cell_type": "code",
   "execution_count": 28,
   "id": "0862c2d6",
   "metadata": {},
   "outputs": [
    {
     "data": {
      "text/plain": [
       "[{'id': 101, 'name': 'ABC'},\n",
       " {'id': 102, 'name': 'DEF'},\n",
       " {'id': 103, 'name': 'GHI'}]"
      ]
     },
     "execution_count": 28,
     "metadata": {},
     "output_type": "execute_result"
    }
   ],
   "source": [
    "with open('b.json') as f:\n",
    "    l2 = json.load(f)\n",
    "l2 "
   ]
  },
  {
   "cell_type": "code",
   "execution_count": 34,
   "id": "fdc02f18",
   "metadata": {},
   "outputs": [],
   "source": [
    "import csv\n",
    "import json\n",
    "json.dump(list(csv.DictReader(open('a.csv'), delimiter = '|')), \n",
    "          open('d.json', 'w'), indent = 4)"
   ]
  }
 ],
 "metadata": {
  "kernelspec": {
   "display_name": "Python 3 (ipykernel)",
   "language": "python",
   "name": "python3"
  },
  "language_info": {
   "codemirror_mode": {
    "name": "ipython",
    "version": 3
   },
   "file_extension": ".py",
   "mimetype": "text/x-python",
   "name": "python",
   "nbconvert_exporter": "python",
   "pygments_lexer": "ipython3",
   "version": "3.10.9"
  }
 },
 "nbformat": 4,
 "nbformat_minor": 5
}
