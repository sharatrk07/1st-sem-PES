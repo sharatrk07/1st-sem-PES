{
 "cells": [
  {
   "cell_type": "code",
   "execution_count": 1,
   "id": "54625c61",
   "metadata": {},
   "outputs": [],
   "source": [
    "import xml.dom.minidom as md"
   ]
  },
  {
   "cell_type": "code",
   "execution_count": 4,
   "id": "038d314a",
   "metadata": {},
   "outputs": [
    {
     "name": "stdout",
     "output_type": "stream",
     "text": [
      "File: \n",
      "\n",
      "<?xml version=\"1.0\" ?>\n",
      "<characters>\n",
      "\t<character>\n",
      "\t\t<Name>Tony Stark</Name>\n",
      "\t\t<Alias>Iron Man</Alias>\n",
      "\t\t<Item>Arc Reactor Core</Item>\n",
      "\t</character>\n",
      "\t<character>\n",
      "\t\t<Name>Steven Rogers</Name>\n",
      "\t\t<Alias>Captain America</Alias>\n",
      "\t\t<Item>Strontium Shield</Item>\n",
      "\t</character>\n",
      "</characters>\n",
      "\n"
     ]
    }
   ],
   "source": [
    "l = [{'Name': 'Tony Stark', 'Alias': 'Iron Man', 'Item': 'Arc Reactor Core'}, \n",
    "      {'Name': 'Steven Rogers', 'Alias': 'Captain America', 'Item': 'Strontium Shield'}]\n",
    "doc = md.Document()\n",
    "root = doc.createElement('characters')\n",
    "doc.appendChild(root)\n",
    "for d in l:\n",
    "    ch = doc.createElement('character')\n",
    "    root.appendChild(ch)\n",
    "    for key in d:\n",
    "        ele = doc.createElement(key)\n",
    "        ele_text = doc.createTextNode(d[key])\n",
    "        ele.appendChild(ele_text)\n",
    "        ch.appendChild(ele)\n",
    "xml_str = doc.toprettyxml(indent = '\\t')\n",
    "with open('mcudom.xml', 'w') as f:\n",
    "    f.write(xml_str)\n",
    "print('File: \\n')\n",
    "print(open('mcudom.xml').read())"
   ]
  },
  {
   "cell_type": "code",
   "execution_count": null,
   "id": "655a9823",
   "metadata": {},
   "outputs": [],
   "source": []
  }
 ],
 "metadata": {
  "kernelspec": {
   "display_name": "Python 3 (ipykernel)",
   "language": "python",
   "name": "python3"
  },
  "language_info": {
   "codemirror_mode": {
    "name": "ipython",
    "version": 3
   },
   "file_extension": ".py",
   "mimetype": "text/x-python",
   "name": "python",
   "nbconvert_exporter": "python",
   "pygments_lexer": "ipython3",
   "version": "3.10.9"
  }
 },
 "nbformat": 4,
 "nbformat_minor": 5
}
