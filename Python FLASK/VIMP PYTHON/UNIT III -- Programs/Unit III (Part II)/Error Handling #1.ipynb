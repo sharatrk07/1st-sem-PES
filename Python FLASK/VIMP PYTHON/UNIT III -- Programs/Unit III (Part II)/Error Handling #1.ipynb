{
 "cells": [
  {
   "cell_type": "code",
   "execution_count": 1,
   "id": "b44de635",
   "metadata": {},
   "outputs": [
    {
     "data": {
      "text/plain": [
       "['__cause__',\n",
       " '__class__',\n",
       " '__context__',\n",
       " '__delattr__',\n",
       " '__dict__',\n",
       " '__dir__',\n",
       " '__doc__',\n",
       " '__eq__',\n",
       " '__format__',\n",
       " '__ge__',\n",
       " '__getattribute__',\n",
       " '__gt__',\n",
       " '__hash__',\n",
       " '__init__',\n",
       " '__init_subclass__',\n",
       " '__le__',\n",
       " '__lt__',\n",
       " '__ne__',\n",
       " '__new__',\n",
       " '__reduce__',\n",
       " '__reduce_ex__',\n",
       " '__repr__',\n",
       " '__setattr__',\n",
       " '__setstate__',\n",
       " '__sizeof__',\n",
       " '__str__',\n",
       " '__subclasshook__',\n",
       " '__suppress_context__',\n",
       " '__traceback__',\n",
       " 'args',\n",
       " 'with_traceback']"
      ]
     },
     "execution_count": 1,
     "metadata": {},
     "output_type": "execute_result"
    }
   ],
   "source": [
    "dir(Exception)"
   ]
  },
  {
   "cell_type": "code",
   "execution_count": 4,
   "id": "48e76ed0",
   "metadata": {},
   "outputs": [
    {
     "ename": "SyntaxError",
     "evalue": "incomplete input (3302195251.py, line 2)",
     "output_type": "error",
     "traceback": [
      "\u001b[0;36m  Cell \u001b[0;32mIn[4], line 2\u001b[0;36m\u001b[0m\n\u001b[0;31m    print(int(input()) + int(input()))\u001b[0m\n\u001b[0m                                      ^\u001b[0m\n\u001b[0;31mSyntaxError\u001b[0m\u001b[0;31m:\u001b[0m incomplete input\n"
     ]
    }
   ],
   "source": [
    "try:\n",
    "    print(int(input()) + int(input()))"
   ]
  },
  {
   "cell_type": "markdown",
   "id": "8331cc8e",
   "metadata": {},
   "source": [
    "# try-except"
   ]
  },
  {
   "cell_type": "markdown",
   "id": "ce4fb962",
   "metadata": {},
   "source": [
    "### try with empty except block"
   ]
  },
  {
   "cell_type": "code",
   "execution_count": 5,
   "id": "76b0b735",
   "metadata": {},
   "outputs": [
    {
     "name": "stdout",
     "output_type": "stream",
     "text": [
      "a\n"
     ]
    }
   ],
   "source": [
    "try:\n",
    "    print(int(input()) + int(input()))\n",
    "except:\n",
    "    pass"
   ]
  },
  {
   "cell_type": "markdown",
   "id": "86beaa5f",
   "metadata": {},
   "source": [
    "### try with concrete except block"
   ]
  },
  {
   "cell_type": "code",
   "execution_count": 6,
   "id": "ab11edc5",
   "metadata": {},
   "outputs": [
    {
     "name": "stdout",
     "output_type": "stream",
     "text": [
      "a\n",
      "Some Error Happened\n"
     ]
    }
   ],
   "source": [
    "try:\n",
    "    print(int(input()) + int(input()))\n",
    "except:\n",
    "    print('Some Error Happened')"
   ]
  },
  {
   "cell_type": "code",
   "execution_count": 7,
   "id": "f00082ae",
   "metadata": {},
   "outputs": [
    {
     "name": "stdout",
     "output_type": "stream",
     "text": [
      "1\n",
      "2\n",
      "3\n"
     ]
    }
   ],
   "source": [
    "try:\n",
    "    print(int(input()) + int(input()))\n",
    "except:\n",
    "    print('Some Error Happened')"
   ]
  },
  {
   "cell_type": "code",
   "execution_count": 8,
   "id": "b83169b0",
   "metadata": {},
   "outputs": [
    {
     "name": "stdout",
     "output_type": "stream",
     "text": [
      "Some Error Happened\n"
     ]
    }
   ],
   "source": [
    "try:\n",
    "    print('a' + 1)\n",
    "except:\n",
    "    print('Some Error Happened')"
   ]
  },
  {
   "cell_type": "code",
   "execution_count": 9,
   "id": "80d7f3eb",
   "metadata": {},
   "outputs": [
    {
     "name": "stdout",
     "output_type": "stream",
     "text": [
      "'A' object has no attribute 'a'\n"
     ]
    }
   ],
   "source": [
    "class A:\n",
    "    pass\n",
    "try:\n",
    "    a = A()\n",
    "    print(a.a)\n",
    "except Exception as e:\n",
    "    print(e)"
   ]
  },
  {
   "cell_type": "code",
   "execution_count": 10,
   "id": "be7d91a8",
   "metadata": {},
   "outputs": [
    {
     "ename": "AttributeError",
     "evalue": "'A' object has no attribute 'a'",
     "output_type": "error",
     "traceback": [
      "\u001b[0;31m---------------------------------------------------------------------------\u001b[0m",
      "\u001b[0;31mAttributeError\u001b[0m                            Traceback (most recent call last)",
      "Cell \u001b[0;32mIn[10], line 5\u001b[0m\n\u001b[1;32m      2\u001b[0m     \u001b[38;5;28;01mpass\u001b[39;00m\n\u001b[1;32m      4\u001b[0m a \u001b[38;5;241m=\u001b[39m A()\n\u001b[0;32m----> 5\u001b[0m \u001b[38;5;28mprint\u001b[39m(\u001b[43ma\u001b[49m\u001b[38;5;241;43m.\u001b[39;49m\u001b[43ma\u001b[49m)\n",
      "\u001b[0;31mAttributeError\u001b[0m: 'A' object has no attribute 'a'"
     ]
    }
   ],
   "source": [
    "class A:\n",
    "    pass\n",
    "\n",
    "a = A()\n",
    "print(a.a)\n"
   ]
  },
  {
   "cell_type": "code",
   "execution_count": 13,
   "id": "bed64b20",
   "metadata": {},
   "outputs": [
    {
     "name": "stdout",
     "output_type": "stream",
     "text": [
      "<class 'AttributeError'>\n",
      "'A' object has no attribute 'a'\n"
     ]
    }
   ],
   "source": [
    "class A:\n",
    "    pass\n",
    "try:\n",
    "    a = A()\n",
    "    print(a.a)\n",
    "except Exception as e:\n",
    "    print(type(e))\n",
    "    print(e)\n",
    "except Exception as e:\n",
    "    print(type(e))\n",
    "    print(e)\n",
    "    print('Something')"
   ]
  },
  {
   "cell_type": "code",
   "execution_count": 14,
   "id": "240345f4",
   "metadata": {},
   "outputs": [
    {
     "name": "stdout",
     "output_type": "stream",
     "text": [
      "<class 'AttributeError'>\n",
      "'A' object has no attribute 'a'\n"
     ]
    }
   ],
   "source": [
    "class A:\n",
    "    pass\n",
    "try:\n",
    "    a = A()\n",
    "    print(a.a)\n",
    "except AttributeError as e:\n",
    "    print(type(e))\n",
    "    print(e)\n",
    "except Exception as e:\n",
    "    print(type(e))\n",
    "    print(e)\n",
    "    print('Something')"
   ]
  },
  {
   "cell_type": "code",
   "execution_count": 15,
   "id": "20a27cb3",
   "metadata": {},
   "outputs": [
    {
     "name": "stdout",
     "output_type": "stream",
     "text": [
      "10\n",
      "<class 'NameError'>\n",
      "name 'n1' is not defined\n"
     ]
    }
   ],
   "source": [
    "try:\n",
    "    n = int(input()) # ValueError\n",
    "    print(n1) # NameError\n",
    "except Exception as e:\n",
    "    print(type(e))\n",
    "    print(e)"
   ]
  },
  {
   "cell_type": "code",
   "execution_count": 16,
   "id": "23eab3fd",
   "metadata": {},
   "outputs": [
    {
     "name": "stdout",
     "output_type": "stream",
     "text": [
      "a\n",
      "<class 'ValueError'>\n",
      "invalid literal for int() with base 10: 'a'\n"
     ]
    }
   ],
   "source": [
    "try:\n",
    "    n = int(input()) # ValueError\n",
    "    print(n1) # NameError\n",
    "except Exception as e:\n",
    "    print(type(e))\n",
    "    print(e)"
   ]
  },
  {
   "cell_type": "code",
   "execution_count": 17,
   "id": "7d493745",
   "metadata": {},
   "outputs": [
    {
     "name": "stdout",
     "output_type": "stream",
     "text": [
      "10\n"
     ]
    },
    {
     "ename": "NameError",
     "evalue": "name 'n1' is not defined",
     "output_type": "error",
     "traceback": [
      "\u001b[0;31m---------------------------------------------------------------------------\u001b[0m",
      "\u001b[0;31mNameError\u001b[0m                                 Traceback (most recent call last)",
      "Cell \u001b[0;32mIn[17], line 3\u001b[0m\n\u001b[1;32m      1\u001b[0m \u001b[38;5;28;01mtry\u001b[39;00m:\n\u001b[1;32m      2\u001b[0m     n \u001b[38;5;241m=\u001b[39m \u001b[38;5;28mint\u001b[39m(\u001b[38;5;28minput\u001b[39m()) \u001b[38;5;66;03m# ValueError\u001b[39;00m\n\u001b[0;32m----> 3\u001b[0m     \u001b[38;5;28mprint\u001b[39m(\u001b[43mn1\u001b[49m) \u001b[38;5;66;03m# NameError\u001b[39;00m\n\u001b[1;32m      4\u001b[0m \u001b[38;5;28;01mexcept\u001b[39;00m \u001b[38;5;167;01mValueError\u001b[39;00m \u001b[38;5;28;01mas\u001b[39;00m e:\n\u001b[1;32m      5\u001b[0m     \u001b[38;5;28mprint\u001b[39m(e)\n",
      "\u001b[0;31mNameError\u001b[0m: name 'n1' is not defined"
     ]
    }
   ],
   "source": [
    "try:\n",
    "    n = int(input()) # ValueError\n",
    "    print(n1) # NameError\n",
    "except ValueError as e:\n",
    "    print(e)\n"
   ]
  },
  {
   "cell_type": "code",
   "execution_count": 18,
   "id": "2bd82741",
   "metadata": {},
   "outputs": [
    {
     "name": "stdout",
     "output_type": "stream",
     "text": [
      "10\n",
      "name 'n1' is not defined\n"
     ]
    }
   ],
   "source": [
    "try:\n",
    "    n = int(input()) # ValueError\n",
    "    print(n1) # NameError\n",
    "except ValueError as e:\n",
    "    print(e)\n",
    "except NameError as e:\n",
    "    print(e)"
   ]
  },
  {
   "cell_type": "code",
   "execution_count": 19,
   "id": "df93586d",
   "metadata": {},
   "outputs": [
    {
     "name": "stdout",
     "output_type": "stream",
     "text": [
      "10\n",
      "Generic Exception\n",
      "<class 'NameError'>\n",
      "name 'n1' is not defined\n"
     ]
    }
   ],
   "source": [
    "try:\n",
    "    n = int(input()) # ValueError\n",
    "    print(n1) # NameError\n",
    "except ValueError as e:\n",
    "    print(e)\n",
    "except Exception as e:\n",
    "    print('Generic Exception')\n",
    "    print(type(e))\n",
    "    print(e)"
   ]
  },
  {
   "cell_type": "code",
   "execution_count": 21,
   "id": "5bdf9d36",
   "metadata": {},
   "outputs": [
    {
     "name": "stdout",
     "output_type": "stream",
     "text": [
      "10\n",
      "1.0\n",
      "NameError Block\n",
      "name 'n1' is not defined\n"
     ]
    }
   ],
   "source": [
    "try:\n",
    "    n = int(input()) # ValueError\n",
    "    print(10/n) # ZeroDivisionError\n",
    "    print(n1) # NameError\n",
    "except NameError as e:\n",
    "    print('NameError Block')\n",
    "    print(e)\n",
    "except ValueError as e:\n",
    "    print('ValueError Block')\n",
    "    print(e)\n",
    "except Exception as e:\n",
    "    print('Generic Exception')\n",
    "    print(type(e))\n",
    "    print(e)"
   ]
  },
  {
   "cell_type": "code",
   "execution_count": 22,
   "id": "23733e9c",
   "metadata": {},
   "outputs": [
    {
     "name": "stdout",
     "output_type": "stream",
     "text": [
      "a\n",
      "ValueError Block\n",
      "invalid literal for int() with base 10: 'a'\n"
     ]
    }
   ],
   "source": [
    "try:\n",
    "    n = int(input()) # ValueError\n",
    "    print(10/n) # ZeroDivisionError\n",
    "    print(n1) # NameError\n",
    "except NameError as e:\n",
    "    print('NameError Block')\n",
    "    print(e)\n",
    "except ValueError as e:\n",
    "    print('ValueError Block')\n",
    "    print(e)\n",
    "except Exception as e:\n",
    "    print('Generic Exception')\n",
    "    print(type(e))\n",
    "    print(e)"
   ]
  },
  {
   "cell_type": "code",
   "execution_count": 24,
   "id": "024a79f3",
   "metadata": {},
   "outputs": [
    {
     "name": "stdout",
     "output_type": "stream",
     "text": [
      "0\n",
      "ZeroDivisionError Block\n",
      "division by zero\n"
     ]
    }
   ],
   "source": [
    "try:\n",
    "    n = int(input()) # ValueError\n",
    "    print(10/n) # ZeroDivisionError\n",
    "    print(n1) # NameError\n",
    "except NameError as e:\n",
    "    print('NameError Block')\n",
    "    print(e)\n",
    "except ValueError as e:\n",
    "    print('ValueError Block')\n",
    "    print(e)\n",
    "except ZeroDivisionError as e:\n",
    "    print('ZeroDivisionError Block')\n",
    "    print(e)\n",
    "except Exception as e:\n",
    "    print('Generic Exception')\n",
    "    print(type(e))\n",
    "    print(e)"
   ]
  },
  {
   "cell_type": "code",
   "execution_count": 25,
   "id": "9fe1dd57",
   "metadata": {},
   "outputs": [
    {
     "name": "stdout",
     "output_type": "stream",
     "text": [
      "0\n",
      "Generic Exception\n",
      "<class 'ZeroDivisionError'>\n",
      "division by zero\n"
     ]
    }
   ],
   "source": [
    "try:\n",
    "    n = int(input()) # ValueError\n",
    "    print(10/n) # ZeroDivisionError\n",
    "    print(n1) # NameError\n",
    "except Exception as e:\n",
    "    print('Generic Exception')\n",
    "    print(type(e))\n",
    "    print(e)\n",
    "except NameError as e:\n",
    "    print('NameError Block')\n",
    "    print(e)\n",
    "except ValueError as e:\n",
    "    print('ValueError Block')\n",
    "    print(e)\n",
    "except ZeroDivisionError as e:\n",
    "    print('ZeroDivisionError Block')\n",
    "    print(e)\n"
   ]
  },
  {
   "cell_type": "code",
   "execution_count": 3,
   "id": "e533dbac",
   "metadata": {},
   "outputs": [
    {
     "name": "stdout",
     "output_type": "stream",
     "text": [
      "10\n",
      "1.0\n",
      "No Error\n"
     ]
    }
   ],
   "source": [
    "try:\n",
    "    n = int(input()) # ValueError\n",
    "    print(10/n) # ZeroDivisionError\n",
    "except ValueError as e:\n",
    "    print('ValueError Block')\n",
    "    print(e)\n",
    "except ZeroDivisionError as e:\n",
    "    print('ZeroDivisionError Block')\n",
    "    print(e)\n",
    "except Exception as e:\n",
    "    print('Generic Exception')\n",
    "    print(type(e))\n",
    "    print(e)\n",
    "else:\n",
    "    print('No Error')"
   ]
  },
  {
   "cell_type": "code",
   "execution_count": 7,
   "id": "5fbbe3c8",
   "metadata": {},
   "outputs": [
    {
     "name": "stdout",
     "output_type": "stream",
     "text": [
      "10\n",
      "1.0\n",
      "No Error\n"
     ]
    }
   ],
   "source": [
    "try:\n",
    "    n = int(input()) # ValueError\n",
    "    print(10/n) # ZeroDivisionError\n",
    "except ValueError as e:\n",
    "    print('ValueError Block')\n",
    "    print(e)\n",
    "except ZeroDivisionError as e:\n",
    "    print('ZeroDivisionError Block')\n",
    "    print(e)\n",
    "except Exception as e:\n",
    "    print('Generic Exception')\n",
    "    print(type(e))\n",
    "    print(e)\n"
   ]
  },
  {
   "cell_type": "code",
   "execution_count": 1,
   "id": "c570ab28",
   "metadata": {},
   "outputs": [
    {
     "name": "stdout",
     "output_type": "stream",
     "text": [
      "['ArithmeticError', 'AssertionError', 'AttributeError', 'BaseException', 'BlockingIOError', 'BrokenPipeError', 'BufferError', 'BytesWarning', 'ChildProcessError', 'ConnectionAbortedError', 'ConnectionError', 'ConnectionRefusedError', 'ConnectionResetError', 'DeprecationWarning', 'EOFError', 'Ellipsis', 'EncodingWarning', 'EnvironmentError', 'Exception', 'False', 'FileExistsError', 'FileNotFoundError', 'FloatingPointError', 'FutureWarning', 'GeneratorExit', 'IOError', 'ImportError', 'ImportWarning', 'IndentationError', 'IndexError', 'InterruptedError', 'IsADirectoryError', 'KeyError', 'KeyboardInterrupt', 'LookupError', 'MemoryError', 'ModuleNotFoundError', 'NameError', 'None', 'NotADirectoryError', 'NotImplemented', 'NotImplementedError', 'OSError', 'OverflowError', 'PendingDeprecationWarning', 'PermissionError', 'ProcessLookupError', 'RecursionError', 'ReferenceError', 'ResourceWarning', 'RuntimeError', 'RuntimeWarning', 'StopAsyncIteration', 'StopIteration', 'SyntaxError', 'SyntaxWarning', 'SystemError', 'SystemExit', 'TabError', 'TimeoutError', 'True', 'TypeError', 'UnboundLocalError', 'UnicodeDecodeError', 'UnicodeEncodeError', 'UnicodeError', 'UnicodeTranslateError', 'UnicodeWarning', 'UserWarning', 'ValueError', 'Warning', 'ZeroDivisionError', '__IPYTHON__', '__build_class__', '__debug__', '__doc__', '__import__', '__loader__', '__name__', '__package__', '__spec__', 'abs', 'aiter', 'all', 'anext', 'any', 'ascii', 'bin', 'bool', 'breakpoint', 'bytearray', 'bytes', 'callable', 'chr', 'classmethod', 'compile', 'complex', 'copyright', 'credits', 'delattr', 'dict', 'dir', 'display', 'divmod', 'enumerate', 'eval', 'exec', 'execfile', 'filter', 'float', 'format', 'frozenset', 'get_ipython', 'getattr', 'globals', 'hasattr', 'hash', 'help', 'hex', 'id', 'input', 'int', 'isinstance', 'issubclass', 'iter', 'len', 'license', 'list', 'locals', 'map', 'max', 'memoryview', 'min', 'next', 'object', 'oct', 'open', 'ord', 'pow', 'print', 'property', 'range', 'repr', 'reversed', 'round', 'runfile', 'set', 'setattr', 'slice', 'sorted', 'staticmethod', 'str', 'sum', 'super', 'tuple', 'type', 'vars', 'zip']\n"
     ]
    }
   ],
   "source": [
    "print(dir(locals()['__builtins__']))"
   ]
  },
  {
   "cell_type": "code",
   "execution_count": 1,
   "id": "714bd6e9",
   "metadata": {},
   "outputs": [
    {
     "name": "stdout",
     "output_type": "stream",
     "text": [
      "5\n",
      "5\n"
     ]
    }
   ],
   "source": [
    "try: \n",
    "    n = int(input())\n",
    "    print(n)\n",
    "except ValueError as e:\n",
    "    print(type(e))\n",
    "    print(e)\n",
    "except:\n",
    "    print('Some Error Happened')"
   ]
  },
  {
   "cell_type": "code",
   "execution_count": 3,
   "id": "29c074a3",
   "metadata": {},
   "outputs": [
    {
     "name": "stdout",
     "output_type": "stream",
     "text": [
      "a\n",
      "<class 'ValueError'>\n",
      "invalid literal for int() with base 10: 'a'\n"
     ]
    }
   ],
   "source": [
    "try: \n",
    "    n = int(input())\n",
    "    print(n)\n",
    "except ValueError as e:\n",
    "    print(type(e))\n",
    "    print(e)\n",
    "except:\n",
    "    print('Some Error Happened')\n",
    "else:\n",
    "    print('No Error Happened')"
   ]
  },
  {
   "cell_type": "code",
   "execution_count": 5,
   "id": "bb0b0be7",
   "metadata": {},
   "outputs": [
    {
     "name": "stdout",
     "output_type": "stream",
     "text": [
      "a\n",
      "<class 'ValueError'>\n",
      "invalid literal for int() with base 10: 'a'\n",
      "finally block executed\n"
     ]
    }
   ],
   "source": [
    "try: \n",
    "    n = int(input())\n",
    "    print(n)\n",
    "except ValueError as e:\n",
    "    print(type(e))\n",
    "    print(e)\n",
    "except:\n",
    "    print('Some Error Happened')\n",
    "finally:\n",
    "    print('finally block executed')"
   ]
  },
  {
   "cell_type": "code",
   "execution_count": 8,
   "id": "d2e90c13",
   "metadata": {},
   "outputs": [
    {
     "name": "stdout",
     "output_type": "stream",
     "text": [
      "17\n",
      "Given Age: 17\n",
      "Error: Age must be between 18 and 100\n"
     ]
    }
   ],
   "source": [
    "class InvalidAgeError(Exception):\n",
    "    def __init__(s, m, a):\n",
    "        print('Given Age: '+str(a))\n",
    "        super().__init__(m)\n",
    "\n",
    "try:\n",
    "    age = int(input())\n",
    "    if age < 18 or age > 100:\n",
    "        raise InvalidAgeError('Error: Age must be between 18 and 100', age)\n",
    "    else:\n",
    "        print('Valid age')\n",
    "except ValueError as e:\n",
    "    print(e)\n",
    "except InvalidAgeError as e:\n",
    "    print(e)"
   ]
  }
 ],
 "metadata": {
  "kernelspec": {
   "display_name": "Python 3 (ipykernel)",
   "language": "python",
   "name": "python3"
  },
  "language_info": {
   "codemirror_mode": {
    "name": "ipython",
    "version": 3
   },
   "file_extension": ".py",
   "mimetype": "text/x-python",
   "name": "python",
   "nbconvert_exporter": "python",
   "pygments_lexer": "ipython3",
   "version": "3.10.9"
  }
 },
 "nbformat": 4,
 "nbformat_minor": 5
}
