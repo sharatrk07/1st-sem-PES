{
 "cells": [
  {
   "cell_type": "code",
   "execution_count": 1,
   "id": "abb55ece",
   "metadata": {},
   "outputs": [],
   "source": [
    "import xml.etree.ElementTree as xml"
   ]
  },
  {
   "cell_type": "code",
   "execution_count": 9,
   "id": "4169a14e",
   "metadata": {},
   "outputs": [
    {
     "name": "stdout",
     "output_type": "stream",
     "text": [
      "Resultant file: \n",
      "\n",
      "<characters><character><Name>Tony Stark</Name><Alias>Iron Man</Alias><Item>Arc Reactor Core</Item></character><character><Name>Steven Rogers</Name><Alias>Captain America</Alias><Item>Strontium Shield</Item></character></characters>\n"
     ]
    }
   ],
   "source": [
    "l = [{'Name': 'Tony Stark', 'Alias': 'Iron Man', 'Item': 'Arc Reactor Core'}, \n",
    "      {'Name': 'Steven Rogers', 'Alias': 'Captain America', 'Item': 'Strontium Shield'}]\n",
    "root = xml.Element('characters')\n",
    "for d in l:\n",
    "    ch = xml.SubElement(root, 'character')\n",
    "    for key in d:\n",
    "        ele = xml.SubElement(ch, key)\n",
    "        ele.text = str(d[key])\n",
    "tree = xml.ElementTree(root)\n",
    "with open('mcu.xml', 'wb') as f:\n",
    "    tree.write(f)\n",
    "print('Resultant file: \\n')\n",
    "print(open('mcu.xml').read())"
   ]
  },
  {
   "cell_type": "code",
   "execution_count": 13,
   "id": "472d47a9",
   "metadata": {},
   "outputs": [
    {
     "name": "stdout",
     "output_type": "stream",
     "text": [
      "{'Name': 'Tony Stark', 'Alias': 'Iron Man', 'Item': 'Arc Reactor Core'}\n",
      "{'Name': 'Steven Rogers', 'Alias': 'Captain America', 'Item': 'Strontium Shield'}\n"
     ]
    }
   ],
   "source": [
    "# Parsing\n",
    "tree = xml.ElementTree(file='mcu.xml')\n",
    "root = tree.getroot()\n",
    "l = []\n",
    "for student in root.findall('character'): \n",
    "    sd = {}\n",
    "    for data in student: \n",
    "        sd[data.tag] = data.text\n",
    "    l.append(sd)\n",
    "for i in l: print(i)"
   ]
  }
 ],
 "metadata": {
  "kernelspec": {
   "display_name": "Python 3 (ipykernel)",
   "language": "python",
   "name": "python3"
  },
  "language_info": {
   "codemirror_mode": {
    "name": "ipython",
    "version": 3
   },
   "file_extension": ".py",
   "mimetype": "text/x-python",
   "name": "python",
   "nbconvert_exporter": "python",
   "pygments_lexer": "ipython3",
   "version": "3.10.9"
  }
 },
 "nbformat": 4,
 "nbformat_minor": 5
}
