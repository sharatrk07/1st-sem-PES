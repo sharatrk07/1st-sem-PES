{
 "cells": [
  {
   "cell_type": "markdown",
   "id": "f0f1b5ef",
   "metadata": {},
   "source": [
    "# CSV File Handling"
   ]
  },
  {
   "cell_type": "markdown",
   "id": "f9c36d21",
   "metadata": {},
   "source": [
    "## Reading"
   ]
  },
  {
   "cell_type": "markdown",
   "id": "023e275c",
   "metadata": {},
   "source": [
    "### Reader"
   ]
  },
  {
   "cell_type": "code",
   "execution_count": 1,
   "id": "18dd5981",
   "metadata": {},
   "outputs": [],
   "source": [
    "import csv"
   ]
  },
  {
   "cell_type": "code",
   "execution_count": 7,
   "id": "8be2a4df",
   "metadata": {},
   "outputs": [
    {
     "name": "stdout",
     "output_type": "stream",
     "text": [
      "<class '_csv.reader'>\n",
      "<_csv.reader object at 0x113a90740>\n",
      "['Name', ' Age', ' Profession']\n",
      "['Jack', ' 23', ' Doctor']\n",
      "['Miller', ' 22', ' Engineer']\n",
      "['Zara', ' 23', ' Doctor']\n",
      "['Michele', ' 23', ' Scientist']\n"
     ]
    }
   ],
   "source": [
    "f = open('a.csv')\n",
    "r = csv.reader(f)\n",
    "print(type(r))\n",
    "print(r)\n",
    "for i in r:\n",
    "    print(i)"
   ]
  },
  {
   "cell_type": "code",
   "execution_count": 19,
   "id": "87fb5e65",
   "metadata": {},
   "outputs": [
    {
     "name": "stdout",
     "output_type": "stream",
     "text": [
      "File Pointer is at: 0\n",
      "<class '_csv.reader'>\n",
      "<_csv.reader object at 0x113b7b530>\n",
      "File Pointer is at: 0\n",
      "['Name', 'Age', 'Profession']\n",
      "['Jack', '23', 'Doctor']\n",
      "['Miller', '22', 'Engineer']\n",
      "['Zara', '23', 'Doctor']\n",
      "['Michele', '23', 'Scientist']\n",
      "File Pointer is at: 89\n"
     ]
    }
   ],
   "source": [
    "f = open('a.csv')\n",
    "r = csv.reader(f, delimiter = '|')\n",
    "print('File Pointer is at: '+str(f.tell()))\n",
    "print(type(r))\n",
    "print(r)\n",
    "print('File Pointer is at: '+str(f.tell()))\n",
    "for i in r:\n",
    "    print(i)\n",
    "print('File Pointer is at: '+str(f.tell()))"
   ]
  },
  {
   "cell_type": "code",
   "execution_count": 20,
   "id": "a8f3441e",
   "metadata": {},
   "outputs": [],
   "source": [
    "for i in r:\n",
    "    print(i)"
   ]
  },
  {
   "cell_type": "code",
   "execution_count": 15,
   "id": "1de6979e",
   "metadata": {},
   "outputs": [],
   "source": [
    "f.close()"
   ]
  },
  {
   "cell_type": "code",
   "execution_count": 21,
   "id": "a9b3aab5",
   "metadata": {},
   "outputs": [
    {
     "name": "stdout",
     "output_type": "stream",
     "text": [
      "<_csv.reader object at 0x113b7b530>\n"
     ]
    }
   ],
   "source": [
    "print(r)\n",
    "for i in r:\n",
    "    print(i)"
   ]
  },
  {
   "cell_type": "code",
   "execution_count": 22,
   "id": "f9f7d8aa",
   "metadata": {},
   "outputs": [
    {
     "data": {
      "text/plain": [
       "[['Name', 'Age', 'Profession'],\n",
       " ['Jack', '23', 'Doctor'],\n",
       " ['Miller', '22', 'Engineer'],\n",
       " ['Zara', '23', 'Doctor'],\n",
       " ['Michele', '23', 'Scientist']]"
      ]
     },
     "execution_count": 22,
     "metadata": {},
     "output_type": "execute_result"
    }
   ],
   "source": [
    "f = open('a.csv')\n",
    "r = csv.reader(f, delimiter = '|')\n",
    "l = list(r)\n",
    "l"
   ]
  },
  {
   "cell_type": "code",
   "execution_count": 23,
   "id": "93c59ee8",
   "metadata": {},
   "outputs": [],
   "source": [
    "f.close()"
   ]
  },
  {
   "cell_type": "code",
   "execution_count": 24,
   "id": "9dffca34",
   "metadata": {},
   "outputs": [
    {
     "data": {
      "text/plain": [
       "[['Name', 'Age', 'Profession'],\n",
       " ['Jack', '23', 'Doctor'],\n",
       " ['Miller', '22', 'Engineer'],\n",
       " ['Zara', '23', 'Doctor'],\n",
       " ['Michele', '23', 'Scientist']]"
      ]
     },
     "execution_count": 24,
     "metadata": {},
     "output_type": "execute_result"
    }
   ],
   "source": [
    "l"
   ]
  },
  {
   "cell_type": "markdown",
   "id": "8999e13f",
   "metadata": {},
   "source": [
    "### DictReader"
   ]
  },
  {
   "cell_type": "code",
   "execution_count": 7,
   "id": "d5ffa873",
   "metadata": {},
   "outputs": [
    {
     "name": "stdout",
     "output_type": "stream",
     "text": [
      "{'Name': 'Jack', 'Age': '23', 'Profession': 'Doctor'}\n",
      "{'Name': 'Miller', 'Age': '22', 'Profession': 'Engineer'}\n",
      "{'Name': 'Zara', 'Age': '23', 'Profession': 'Doctor'}\n",
      "{'Name': 'Michele', 'Age': '23', 'Profession': 'Scientist'}\n"
     ]
    }
   ],
   "source": [
    "import csv\n",
    "with open('a.csv') as file:\n",
    "    d = csv.DictReader(file, delimiter = '|')\n",
    "    for i in d:\n",
    "        print(i)\n",
    "    "
   ]
  },
  {
   "cell_type": "code",
   "execution_count": 9,
   "id": "83f81af7",
   "metadata": {},
   "outputs": [
    {
     "name": "stdout",
     "output_type": "stream",
     "text": [
      "{'Name': 'Jack', 'Age': '23', 'Profession': 'Doctor'}\n",
      "{'Name': 'Miller', 'Age': '22', 'Profession': 'Engineer'}\n",
      "{'Name': 'Zara', 'Age': '23', 'Profession': 'Doctor'}\n",
      "{'Name': 'Michele', 'Age': '23', 'Profession': 'Scientist'}\n",
      "\n",
      "\n",
      "{'Name': 'Name', 'Age': 'Age', 'Profession': 'Profession'}\n",
      "{'Name': 'Jack', 'Age': '23', 'Profession': 'Doctor'}\n",
      "{'Name': 'Miller', 'Age': '22', 'Profession': 'Engineer'}\n",
      "{'Name': 'Zara', 'Age': '23', 'Profession': 'Doctor'}\n",
      "{'Name': 'Michele', 'Age': '23', 'Profession': 'Scientist'}\n"
     ]
    }
   ],
   "source": [
    "import csv\n",
    "with open('a.csv') as file:\n",
    "    d = csv.DictReader(file, delimiter = '|')\n",
    "    for i in d:\n",
    "        print(i)\n",
    "    print()\n",
    "    print()\n",
    "    file.seek(0)\n",
    "    for i in d:\n",
    "        print(i)"
   ]
  },
  {
   "cell_type": "code",
   "execution_count": 12,
   "id": "ef81aa5f",
   "metadata": {},
   "outputs": [
    {
     "name": "stdout",
     "output_type": "stream",
     "text": [
      "{'Name': 'Jack', 'Age': '23', 'Profession': 'Doctor'}\n",
      "{'Name': 'Miller', 'Age': '22', 'Profession': 'Engineer'}\n",
      "{'Name': 'Zara', 'Age': '23', 'Profession': 'Doctor'}\n",
      "{'Name': 'Michele', 'Age': '23', 'Profession': 'Scientist'}\n",
      "\n",
      "\n",
      "{'Name': 'Jack', 'Age': '23', 'Profession': 'Doctor'}\n",
      "{'Name': 'Miller', 'Age': '22', 'Profession': 'Engineer'}\n",
      "{'Name': 'Zara', 'Age': '23', 'Profession': 'Doctor'}\n",
      "{'Name': 'Michele', 'Age': '23', 'Profession': 'Scientist'}\n"
     ]
    }
   ],
   "source": [
    "import csv\n",
    "with open('a.csv') as file:\n",
    "    d = csv.DictReader(file, delimiter = '|')\n",
    "    for i in d:\n",
    "        print(i)\n",
    "    print()\n",
    "    print()\n",
    "    \n",
    "    file.seek(0)\n",
    "    read = file.read()\n",
    "    index = read.index('\\n')\n",
    "    \n",
    "    file.seek(index)\n",
    "    for i in d:\n",
    "        print(i)"
   ]
  },
  {
   "cell_type": "code",
   "execution_count": 15,
   "id": "e26027ae",
   "metadata": {},
   "outputs": [
    {
     "data": {
      "text/plain": [
       "{'Name': 'Jack', 'Age': '23', 'Profession': 'Doctor'}"
      ]
     },
     "execution_count": 15,
     "metadata": {},
     "output_type": "execute_result"
    }
   ],
   "source": [
    "import csv\n",
    "with open('a.csv') as file:\n",
    "    d = csv.DictReader(file, delimiter = '|')\n",
    "    l = list(d)\n",
    "l[0]"
   ]
  },
  {
   "cell_type": "code",
   "execution_count": 16,
   "id": "01439774",
   "metadata": {},
   "outputs": [
    {
     "data": {
      "text/plain": [
       "{'Name': 'Jack', None: ['23', 'Doctor']}"
      ]
     },
     "execution_count": 16,
     "metadata": {},
     "output_type": "execute_result"
    }
   ],
   "source": [
    "import csv\n",
    "with open('a.csv') as file:\n",
    "    d = csv.DictReader(file, delimiter = '|')\n",
    "    l = list(d)\n",
    "l[0]"
   ]
  },
  {
   "cell_type": "code",
   "execution_count": 17,
   "id": "36a88398",
   "metadata": {},
   "outputs": [
    {
     "data": {
      "text/plain": [
       "{'Name': 'Jack', 'Age': '23', 'Profession': 'Doctor', 'Extra': None}"
      ]
     },
     "execution_count": 17,
     "metadata": {},
     "output_type": "execute_result"
    }
   ],
   "source": [
    "import csv\n",
    "with open('a.csv') as file:\n",
    "    d = csv.DictReader(file, delimiter = '|')\n",
    "    l = list(d)\n",
    "l[0]"
   ]
  },
  {
   "cell_type": "markdown",
   "id": "b1b33e42",
   "metadata": {},
   "source": [
    "## Writing"
   ]
  },
  {
   "cell_type": "markdown",
   "id": "849d1df8",
   "metadata": {},
   "source": [
    "### Writer"
   ]
  },
  {
   "cell_type": "code",
   "execution_count": 19,
   "id": "5a28cdc7",
   "metadata": {},
   "outputs": [],
   "source": [
    "l = [['Name', 'Age'], \n",
    "    ['ABC', '30'], \n",
    "    ['DEF', '25']]\n",
    "with open('b.csv', 'w') as f:\n",
    "    w = csv.writer(f)\n",
    "    for i in l:\n",
    "        w.writerow(i)"
   ]
  },
  {
   "cell_type": "code",
   "execution_count": 20,
   "id": "b357f283",
   "metadata": {},
   "outputs": [],
   "source": [
    "l = [['Name', 'Age'], \n",
    "    ['ABC', '30'], \n",
    "    ['DEF', '25']]\n",
    "with open('b1.csv', 'w') as f:\n",
    "    w = csv.writer(f, delimiter = '|')\n",
    "    for i in l:\n",
    "        w.writerow(i)"
   ]
  },
  {
   "cell_type": "code",
   "execution_count": 21,
   "id": "1238303c",
   "metadata": {},
   "outputs": [],
   "source": [
    "l = [['Name', 'Age'], \n",
    "    ['ABC', '30'], \n",
    "    ['DEF', '25']]\n",
    "with open('b2.csv', 'w') as f:\n",
    "    w = csv.writer(f, delimiter = '|')\n",
    "    w.writerows(l)"
   ]
  },
  {
   "cell_type": "markdown",
   "id": "a0fa4db0",
   "metadata": {},
   "source": [
    "### DictWriter"
   ]
  },
  {
   "cell_type": "code",
   "execution_count": 24,
   "id": "6001c5f0",
   "metadata": {},
   "outputs": [],
   "source": [
    "l = [{'Name': 'ABC', 'Age': '30'}, \n",
    "    {'Name': 'DEF', 'Age': '25'}]\n",
    "with open('b3.csv', 'w') as f:\n",
    "    dw = csv.DictWriter(f, fieldnames = ['Name', 'Age'])\n",
    "    dw.writeheader()\n",
    "    dw.writerows(l)"
   ]
  },
  {
   "cell_type": "code",
   "execution_count": null,
   "id": "613e1b53",
   "metadata": {},
   "outputs": [],
   "source": []
  }
 ],
 "metadata": {
  "kernelspec": {
   "display_name": "Python 3 (ipykernel)",
   "language": "python",
   "name": "python3"
  },
  "language_info": {
   "codemirror_mode": {
    "name": "ipython",
    "version": 3
   },
   "file_extension": ".py",
   "mimetype": "text/x-python",
   "name": "python",
   "nbconvert_exporter": "python",
   "pygments_lexer": "ipython3",
   "version": "3.10.9"
  }
 },
 "nbformat": 4,
 "nbformat_minor": 5
}
