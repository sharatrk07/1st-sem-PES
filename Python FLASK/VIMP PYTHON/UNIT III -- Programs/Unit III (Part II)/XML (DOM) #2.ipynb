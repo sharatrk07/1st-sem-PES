{
 "cells": [
  {
   "cell_type": "code",
   "execution_count": 3,
   "id": "e41f0e1d",
   "metadata": {},
   "outputs": [],
   "source": [
    "import xml.dom.minidom as md\n",
    "import xml.etree.ElementTree as xml\n",
    "S = [{'name':'S1', 'mk': 100}, {'name': 'S2', 'mk': 90}]"
   ]
  },
  {
   "cell_type": "code",
   "execution_count": 4,
   "id": "0c17cb2c",
   "metadata": {},
   "outputs": [],
   "source": [
    "doc = md.Document()"
   ]
  },
  {
   "cell_type": "code",
   "execution_count": null,
   "id": "daf678cb",
   "metadata": {},
   "outputs": [],
   "source": [
    "root = xml.Element('students')"
   ]
  }
 ],
 "metadata": {
  "kernelspec": {
   "display_name": "Python 3 (ipykernel)",
   "language": "python",
   "name": "python3"
  },
  "language_info": {
   "codemirror_mode": {
    "name": "ipython",
    "version": 3
   },
   "file_extension": ".py",
   "mimetype": "text/x-python",
   "name": "python",
   "nbconvert_exporter": "python",
   "pygments_lexer": "ipython3",
   "version": "3.10.9"
  }
 },
 "nbformat": 4,
 "nbformat_minor": 5
}
