{
 "cells": [
  {
   "cell_type": "code",
   "execution_count": 8,
   "id": "24ed9ca0",
   "metadata": {},
   "outputs": [
    {
     "name": "stdout",
     "output_type": "stream",
     "text": [
      "Line 1\n",
      "\n",
      "Line 2\n",
      "File is closed\n"
     ]
    }
   ],
   "source": [
    "# Read only\n",
    "f = open('file.txt')\n",
    "print(f.read())\n",
    "f.close()\n",
    "print('File is closed')"
   ]
  },
  {
   "cell_type": "code",
   "execution_count": 17,
   "id": "87598c9a",
   "metadata": {},
   "outputs": [
    {
     "name": "stdout",
     "output_type": "stream",
     "text": [
      "File is opened\n",
      "Mode: w\n",
      "File is closed\n"
     ]
    }
   ],
   "source": [
    "# Write only\n",
    "f = open('file.txt', 'w')\n",
    "print('File is opened')\n",
    "print('Mode: '+str(f.mode))\n",
    "f.write('Line 3')\n",
    "f.close()\n",
    "print('File is closed')"
   ]
  },
  {
   "cell_type": "code",
   "execution_count": 10,
   "id": "1c37071e",
   "metadata": {},
   "outputs": [
    {
     "name": "stdout",
     "output_type": "stream",
     "text": [
      "Line 3\n",
      "File is closed\n"
     ]
    }
   ],
   "source": [
    "# Read only\n",
    "f = open('file.txt')\n",
    "print(f.read())\n",
    "f.close()\n",
    "print('File is closed')"
   ]
  },
  {
   "cell_type": "code",
   "execution_count": 11,
   "id": "21fb751b",
   "metadata": {},
   "outputs": [
    {
     "name": "stdout",
     "output_type": "stream",
     "text": [
      "File is opened\n",
      "Mode: a\n",
      "File is closed\n"
     ]
    }
   ],
   "source": [
    "# Append only\n",
    "f = open('file.txt', 'a')\n",
    "print('File is opened')\n",
    "print('Mode: '+str(f.mode))\n",
    "f.write('\\nLine 4')\n",
    "f.close()\n",
    "print('File is closed')"
   ]
  },
  {
   "cell_type": "code",
   "execution_count": 12,
   "id": "d498a376",
   "metadata": {},
   "outputs": [
    {
     "name": "stdout",
     "output_type": "stream",
     "text": [
      "File is opened\n",
      "r+\n",
      "Line 3\n",
      "Line 4\n"
     ]
    }
   ],
   "source": [
    "# Read + Write\n",
    "f = open('file.txt', 'r+')\n",
    "print('File is opened')\n",
    "print(f.mode)\n",
    "# Read\n",
    "print(f.read())"
   ]
  },
  {
   "cell_type": "code",
   "execution_count": 13,
   "id": "408a9a24",
   "metadata": {},
   "outputs": [
    {
     "name": "stdout",
     "output_type": "stream",
     "text": [
      "\n"
     ]
    }
   ],
   "source": [
    "f.write('Line 5')\n",
    "print(f.read())"
   ]
  },
  {
   "cell_type": "code",
   "execution_count": 14,
   "id": "8502b686",
   "metadata": {},
   "outputs": [],
   "source": [
    "f.close()"
   ]
  },
  {
   "cell_type": "code",
   "execution_count": 16,
   "id": "7b5a01df",
   "metadata": {},
   "outputs": [
    {
     "name": "stdout",
     "output_type": "stream",
     "text": [
      "File is opened\n",
      "r+\n",
      "Line 4Line 5\n"
     ]
    }
   ],
   "source": [
    "f = open('file.txt', 'r+')\n",
    "print('File is opened')\n",
    "print(f.mode)\n",
    "# Write\n",
    "f.write('Line 6\\n')\n",
    "# Read\n",
    "print(f.read())"
   ]
  },
  {
   "cell_type": "code",
   "execution_count": 18,
   "id": "df18a242",
   "metadata": {},
   "outputs": [],
   "source": [
    "f.close()"
   ]
  },
  {
   "cell_type": "code",
   "execution_count": 20,
   "id": "27ace312",
   "metadata": {},
   "outputs": [
    {
     "data": {
      "text/plain": [
       "6"
      ]
     },
     "execution_count": 20,
     "metadata": {},
     "output_type": "execute_result"
    }
   ],
   "source": [
    "# Read + Write\n",
    "f = open('file.txt', 'r+')\n",
    "f.write('Line 6')"
   ]
  },
  {
   "cell_type": "code",
   "execution_count": 21,
   "id": "e52fcae3",
   "metadata": {},
   "outputs": [
    {
     "data": {
      "text/plain": [
       "'\\nLine 4Line 5'"
      ]
     },
     "execution_count": 21,
     "metadata": {},
     "output_type": "execute_result"
    }
   ],
   "source": [
    "f.read()"
   ]
  },
  {
   "cell_type": "code",
   "execution_count": 22,
   "id": "d5923378",
   "metadata": {},
   "outputs": [
    {
     "data": {
      "text/plain": [
       "''"
      ]
     },
     "execution_count": 22,
     "metadata": {},
     "output_type": "execute_result"
    }
   ],
   "source": [
    "f.read()"
   ]
  },
  {
   "cell_type": "code",
   "execution_count": 23,
   "id": "838a7ab2",
   "metadata": {},
   "outputs": [
    {
     "data": {
      "text/plain": [
       "'Line 6\\nLine 4Line 5'"
      ]
     },
     "execution_count": 23,
     "metadata": {},
     "output_type": "execute_result"
    }
   ],
   "source": [
    "f.seek(0)\n",
    "f.read()"
   ]
  },
  {
   "cell_type": "code",
   "execution_count": 24,
   "id": "e8530c94",
   "metadata": {},
   "outputs": [
    {
     "data": {
      "text/plain": [
       "''"
      ]
     },
     "execution_count": 24,
     "metadata": {},
     "output_type": "execute_result"
    }
   ],
   "source": [
    "# Write + Read\n",
    "f.close()\n",
    "f = open('file.txt', 'w+')\n",
    "f.write('Line 7')\n",
    "f.read()"
   ]
  },
  {
   "cell_type": "code",
   "execution_count": 25,
   "id": "8563c09a",
   "metadata": {},
   "outputs": [
    {
     "data": {
      "text/plain": [
       "'Line 7'"
      ]
     },
     "execution_count": 25,
     "metadata": {},
     "output_type": "execute_result"
    }
   ],
   "source": [
    "f.seek(0)\n",
    "f.read()"
   ]
  }
 ],
 "metadata": {
  "kernelspec": {
   "display_name": "Python 3 (ipykernel)",
   "language": "python",
   "name": "python3"
  },
  "language_info": {
   "codemirror_mode": {
    "name": "ipython",
    "version": 3
   },
   "file_extension": ".py",
   "mimetype": "text/x-python",
   "name": "python",
   "nbconvert_exporter": "python",
   "pygments_lexer": "ipython3",
   "version": "3.10.9"
  }
 },
 "nbformat": 4,
 "nbformat_minor": 5
}
