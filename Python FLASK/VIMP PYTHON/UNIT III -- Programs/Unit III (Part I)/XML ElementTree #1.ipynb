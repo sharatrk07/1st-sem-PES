{
 "cells": [
  {
   "cell_type": "code",
   "execution_count": 17,
   "id": "6dcfcb0a",
   "metadata": {},
   "outputs": [],
   "source": [
    "import xml.etree.ElementTree as xml\n",
    "students = [{'name': 'ABC', 'age': 25, 'marks': 90}, \n",
    "           {'name': 'DEF', 'age': 23, 'marks': 80}]\n",
    "root = xml.Element(\"students\")\n"
   ]
  },
  {
   "cell_type": "code",
   "execution_count": 18,
   "id": "cea8b2bc",
   "metadata": {},
   "outputs": [],
   "source": [
    "for student in students: \n",
    "    # Create child node and append to the root (student)\n",
    "    child = xml.Element(\"student\")\n",
    "    root.append(child)\n",
    "    \n",
    "    # SubElement for Node with Data\n",
    "    nm = xml.SubElement(child, \"name\")\n",
    "    nm.text = student['name']\n",
    "    \n",
    "    srn = xml.SubElement(child, \"age\")\n",
    "    srn.text = str(student['age'])\n",
    "    \n",
    "tree = xml.ElementTree(root)\n",
    "with open('students1.xml', 'wb') as fh:\n",
    "    tree.write(fh)\n"
   ]
  },
  {
   "cell_type": "code",
   "execution_count": 19,
   "id": "6d2b0c9b",
   "metadata": {},
   "outputs": [
    {
     "data": {
      "text/plain": [
       "[{'name': 'ABC', 'age': '25'}, {'name': 'DEF', 'age': '23'}]"
      ]
     },
     "execution_count": 19,
     "metadata": {},
     "output_type": "execute_result"
    }
   ],
   "source": [
    "# Parsing\n",
    "t = xml.ElementTree(file='students1.xml')\n",
    "r = t.getroot()\n",
    "s = []\n",
    "for student in root.findall('student'): \n",
    "    sd = {}\n",
    "    for data in student: \n",
    "        sd[data.tag] = data.text\n",
    "    s.append(sd)\n",
    "s"
   ]
  }
 ],
 "metadata": {
  "kernelspec": {
   "display_name": "Python 3 (ipykernel)",
   "language": "python",
   "name": "python3"
  },
  "language_info": {
   "codemirror_mode": {
    "name": "ipython",
    "version": 3
   },
   "file_extension": ".py",
   "mimetype": "text/x-python",
   "name": "python",
   "nbconvert_exporter": "python",
   "pygments_lexer": "ipython3",
   "version": "3.10.9"
  }
 },
 "nbformat": 4,
 "nbformat_minor": 5
}
