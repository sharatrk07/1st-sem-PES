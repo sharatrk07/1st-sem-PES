{
 "cells": [
  {
   "cell_type": "code",
   "execution_count": 1,
   "id": "3d1f83ae",
   "metadata": {},
   "outputs": [],
   "source": [
    "import json"
   ]
  },
  {
   "cell_type": "code",
   "execution_count": 2,
   "id": "44e5689d",
   "metadata": {},
   "outputs": [
    {
     "data": {
      "text/plain": [
       "'{\"srn\":101, \"name\": \"p1\"}'"
      ]
     },
     "execution_count": 2,
     "metadata": {},
     "output_type": "execute_result"
    }
   ],
   "source": [
    "file = open('student.json')\n",
    "s = file.read()\n",
    "s"
   ]
  },
  {
   "cell_type": "code",
   "execution_count": 3,
   "id": "627319ac",
   "metadata": {},
   "outputs": [
    {
     "data": {
      "text/plain": [
       "{'srn': 101, 'name': 'p1'}"
      ]
     },
     "execution_count": 3,
     "metadata": {},
     "output_type": "execute_result"
    }
   ],
   "source": [
    "d = json.loads(s)\n",
    "d"
   ]
  },
  {
   "cell_type": "code",
   "execution_count": 9,
   "id": "a52565e9",
   "metadata": {},
   "outputs": [
    {
     "name": "stdout",
     "output_type": "stream",
     "text": [
      "[{'srn': 101, 'name': 'p1'}, {'srn': 102, 'name': 'p2'}]\n",
      "<class 'list'>\n"
     ]
    }
   ],
   "source": [
    "d = json.loads(open('student.json').read())\n",
    "print(d)\n",
    "print(type(d))"
   ]
  },
  {
   "cell_type": "code",
   "execution_count": 10,
   "id": "b9d2283f",
   "metadata": {},
   "outputs": [
    {
     "data": {
      "text/plain": [
       "[{'srn': 101, 'name': 'p1'}, {'srn': 102, 'name': 'p2'}]"
      ]
     },
     "execution_count": 10,
     "metadata": {},
     "output_type": "execute_result"
    }
   ],
   "source": [
    "file = open('student.json')\n",
    "d = json.load(file)\n",
    "d"
   ]
  },
  {
   "cell_type": "code",
   "execution_count": 14,
   "id": "0ca89ded",
   "metadata": {},
   "outputs": [
    {
     "data": {
      "text/plain": [
       "{\"{'a':1, 'b':2}\": 100}"
      ]
     },
     "execution_count": 14,
     "metadata": {},
     "output_type": "execute_result"
    }
   ],
   "source": [
    "s = \"{'a':1, 'b':2}\"\n",
    "d1 = dict({s:100})\n",
    "d1"
   ]
  },
  {
   "cell_type": "code",
   "execution_count": 17,
   "id": "7b89c8f9",
   "metadata": {},
   "outputs": [
    {
     "data": {
      "text/plain": [
       "[{'name': 'x'}, {'name': 'y'}]"
      ]
     },
     "execution_count": 17,
     "metadata": {},
     "output_type": "execute_result"
    }
   ],
   "source": [
    "d1 = json.load(open('st2.json'))\n",
    "d1"
   ]
  },
  {
   "cell_type": "code",
   "execution_count": 19,
   "id": "b38f0755",
   "metadata": {},
   "outputs": [
    {
     "data": {
      "text/plain": [
       "[{'name': 'x'}, {'name': 'y'}]"
      ]
     },
     "execution_count": 19,
     "metadata": {},
     "output_type": "execute_result"
    }
   ],
   "source": [
    "s = open('st2.json').read()\n",
    "d2 = json.loads(s)\n",
    "d2"
   ]
  },
  {
   "cell_type": "code",
   "execution_count": 32,
   "id": "48e37e17",
   "metadata": {},
   "outputs": [
    {
     "name": "stdout",
     "output_type": "stream",
     "text": [
      "Name: Student1\n",
      "<class 'str'>\n",
      "SRN: 101\n",
      "Name: Student2\n",
      "<class 'str'>\n",
      "SRN: 102\n"
     ]
    }
   ],
   "source": [
    "d3 = json.load(open('student.json'))\n",
    "for i in d3:\n",
    "    print('Name: '+i)\n",
    "    print(type(i))\n",
    "    print('SRN: '+str(d3[i]['SRN']))\n",
    "    print('Age: '+str(d3[i][]))"
   ]
  }
 ],
 "metadata": {
  "kernelspec": {
   "display_name": "Python 3 (ipykernel)",
   "language": "python",
   "name": "python3"
  },
  "language_info": {
   "codemirror_mode": {
    "name": "ipython",
    "version": 3
   },
   "file_extension": ".py",
   "mimetype": "text/x-python",
   "name": "python",
   "nbconvert_exporter": "python",
   "pygments_lexer": "ipython3",
   "version": "3.10.9"
  }
 },
 "nbformat": 4,
 "nbformat_minor": 5
}
