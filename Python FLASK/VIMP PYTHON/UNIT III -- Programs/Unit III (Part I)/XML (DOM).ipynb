{
 "cells": [
  {
   "cell_type": "code",
   "execution_count": 1,
   "id": "39339922",
   "metadata": {},
   "outputs": [],
   "source": [
    "import xml.dom.minidom as md"
   ]
  },
  {
   "cell_type": "code",
   "execution_count": 2,
   "id": "ef8ddaea",
   "metadata": {},
   "outputs": [],
   "source": [
    "S = [{'name':'S1', 'mk': 100}, {'name': 'S2', 'mk': 90}]\n",
    "doc = md.Document()\n",
    "root = doc.createElement('students')\n",
    "doc.appendChild(root)\n",
    "\n",
    "for st in S:\n",
    "    ch = doc.createElement('student')\n",
    "    for k in st:\n",
    "        ele = doc.createElement(k)\n",
    "        t = doc.createTextNode(str(st[k]))\n",
    "        ele.appendChild(t)\n",
    "        ch.appendChild(ele)\n",
    "    root.appendChild(ch)\n",
    "\n",
    "with open('st3.xml', 'w') as f:\n",
    "    f.write(doc.toprettyxml(indent = '     '))"
   ]
  },
  {
   "cell_type": "code",
   "execution_count": 5,
   "id": "ffdb3b7e",
   "metadata": {},
   "outputs": [],
   "source": [
    "import abc"
   ]
  }
 ],
 "metadata": {
  "kernelspec": {
   "display_name": "Python 3 (ipykernel)",
   "language": "python",
   "name": "python3"
  },
  "language_info": {
   "codemirror_mode": {
    "name": "ipython",
    "version": 3
   },
   "file_extension": ".py",
   "mimetype": "text/x-python",
   "name": "python",
   "nbconvert_exporter": "python",
   "pygments_lexer": "ipython3",
   "version": "3.10.9"
  }
 },
 "nbformat": 4,
 "nbformat_minor": 5
}
