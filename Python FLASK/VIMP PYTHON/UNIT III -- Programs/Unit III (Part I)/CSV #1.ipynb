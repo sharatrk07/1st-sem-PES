{
 "cells": [
  {
   "cell_type": "code",
   "execution_count": 2,
   "id": "fefc44b6",
   "metadata": {},
   "outputs": [],
   "source": [
    "import csv"
   ]
  },
  {
   "cell_type": "code",
   "execution_count": 27,
   "id": "6218a4a9",
   "metadata": {},
   "outputs": [
    {
     "name": "stdout",
     "output_type": "stream",
     "text": [
      "<class '_io.TextIOWrapper'>\n"
     ]
    }
   ],
   "source": [
    "file = open('data.csv')\n",
    "print(type(file))"
   ]
  },
  {
   "cell_type": "code",
   "execution_count": 18,
   "id": "b70d707f",
   "metadata": {},
   "outputs": [
    {
     "data": {
      "text/plain": [
       "0"
      ]
     },
     "execution_count": 18,
     "metadata": {},
     "output_type": "execute_result"
    }
   ],
   "source": [
    "file.read()\n",
    "file.seek(0)"
   ]
  },
  {
   "cell_type": "code",
   "execution_count": 28,
   "id": "a410e66b",
   "metadata": {},
   "outputs": [
    {
     "name": "stdout",
     "output_type": "stream",
     "text": [
      "<class '_csv.reader'>\n"
     ]
    }
   ],
   "source": [
    "# Reading the file using csv.reader()\n",
    "reader = csv.reader(file)\n",
    "print(type(reader))"
   ]
  },
  {
   "cell_type": "code",
   "execution_count": 29,
   "id": "106593cb",
   "metadata": {},
   "outputs": [
    {
     "name": "stdout",
     "output_type": "stream",
     "text": [
      "['Name', 'Age', 'Profession']\n",
      "['Person1', '20']\n",
      "[]\n",
      "['Person2', '40', 'Profession3']\n",
      "['Person3', '30', 'Profession4']\n"
     ]
    }
   ],
   "source": [
    "# Iterate over reader\n",
    "for i in reader:\n",
    "    print(i)\n"
   ]
  },
  {
   "cell_type": "code",
   "execution_count": 36,
   "id": "12079ac7",
   "metadata": {},
   "outputs": [
    {
     "name": "stdout",
     "output_type": "stream",
     "text": [
      "['Name', 'Age', 'Profession']\n",
      "['Person1', '20']\n",
      "['']\n",
      "['Person2', '40', 'Profession3']\n",
      "['Person3', '30', 'Profession4']\n"
     ]
    }
   ],
   "source": [
    "l = [i.split(',') for i in open('data.csv').read().split('\\n')]\n",
    "for i in l:\n",
    "    print(i)"
   ]
  },
  {
   "cell_type": "code",
   "execution_count": 37,
   "id": "384036c2",
   "metadata": {},
   "outputs": [
    {
     "name": "stdout",
     "output_type": "stream",
     "text": [
      "['Name', 'Age', 'Profession']\n",
      "['Person1', '20']\n",
      "[]\n",
      "['Person2', '40', 'Profession3']\n",
      "['Person3', '30', 'Profession4']\n"
     ]
    }
   ],
   "source": [
    "file = open('data.csv')\n",
    "reader = csv.reader(file)\n",
    "for i in reader:\n",
    "    print(i)"
   ]
  },
  {
   "cell_type": "code",
   "execution_count": 3,
   "id": "1361ba65",
   "metadata": {},
   "outputs": [
    {
     "name": "stdout",
     "output_type": "stream",
     "text": [
      "['Name', 'Age', 'Profession']\n",
      "['Person1', '20']\n",
      "[]\n",
      "['Person2', '40', 'Profession3']\n",
      "['Person3', '30', 'Profession4']\n"
     ]
    }
   ],
   "source": [
    "with open('data.csv') as file:\n",
    "    reader = csv.reader(file)\n",
    "    for i in reader:\n",
    "        print(i)"
   ]
  },
  {
   "cell_type": "code",
   "execution_count": 4,
   "id": "a59ab238",
   "metadata": {},
   "outputs": [
    {
     "ename": "ValueError",
     "evalue": "I/O operation on closed file.",
     "output_type": "error",
     "traceback": [
      "\u001b[0;31m---------------------------------------------------------------------------\u001b[0m",
      "\u001b[0;31mValueError\u001b[0m                                Traceback (most recent call last)",
      "Cell \u001b[0;32mIn[4], line 1\u001b[0m\n\u001b[0;32m----> 1\u001b[0m \u001b[38;5;28mprint\u001b[39m(\u001b[43mfile\u001b[49m\u001b[38;5;241;43m.\u001b[39;49m\u001b[43mread\u001b[49m\u001b[43m(\u001b[49m\u001b[43m)\u001b[49m)\n",
      "\u001b[0;31mValueError\u001b[0m: I/O operation on closed file."
     ]
    }
   ],
   "source": [
    "print(file.read())"
   ]
  },
  {
   "cell_type": "code",
   "execution_count": 17,
   "id": "7fa63be2",
   "metadata": {},
   "outputs": [
    {
     "name": "stdout",
     "output_type": "stream",
     "text": [
      "<csv.DictReader object at 0x10865f850>\n",
      "<class 'csv.DictReader'>\n",
      "Person named Person1, aged 20 years, lives at 111, Building, City\n",
      "Person named Person2, aged 30 years, lives at 121, Building, City\n",
      "Person named Person3, aged 40 years, lives at 131, Building, City\n"
     ]
    }
   ],
   "source": [
    "# DictReader\n",
    "with open('data.csv') as file:\n",
    "    reader = csv.DictReader(file, delimiter='|')\n",
    "    print(reader) # Address of DictReader object\n",
    "    print(type(reader)) # DictReader\n",
    "    for i in reader:\n",
    "        print(f\"Person named {i['Name']}, aged {i['Age']} years, lives at {i['Address']}\")"
   ]
  }
 ],
 "metadata": {
  "kernelspec": {
   "display_name": "Python 3 (ipykernel)",
   "language": "python",
   "name": "python3"
  },
  "language_info": {
   "codemirror_mode": {
    "name": "ipython",
    "version": 3
   },
   "file_extension": ".py",
   "mimetype": "text/x-python",
   "name": "python",
   "nbconvert_exporter": "python",
   "pygments_lexer": "ipython3",
   "version": "3.10.9"
  }
 },
 "nbformat": 4,
 "nbformat_minor": 5
}
