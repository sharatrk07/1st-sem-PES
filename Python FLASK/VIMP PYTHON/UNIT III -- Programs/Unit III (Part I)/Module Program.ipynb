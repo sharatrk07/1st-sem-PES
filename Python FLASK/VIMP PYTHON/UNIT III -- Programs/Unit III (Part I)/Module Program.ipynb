{
 "cells": [
  {
   "cell_type": "code",
   "execution_count": 1,
   "id": "e1e2eab7",
   "metadata": {},
   "outputs": [],
   "source": [
    "import Package"
   ]
  },
  {
   "cell_type": "code",
   "execution_count": 4,
   "id": "3fea9c54",
   "metadata": {},
   "outputs": [
    {
     "name": "stdout",
     "output_type": "stream",
     "text": [
      "BMW X5 2023\n",
      "BMW I7 2023\n",
      "600kWh\n"
     ]
    }
   ],
   "source": [
    "car = Package.Car('BMW', 'X5', 2023)\n",
    "ev = Package.EV('BMW', 'I7', 2023, '600kWh')\n",
    "car.disp()\n",
    "ev.disp()"
   ]
  },
  {
   "cell_type": "code",
   "execution_count": 8,
   "id": "4125bea0",
   "metadata": {},
   "outputs": [
    {
     "name": "stdout",
     "output_type": "stream",
     "text": [
      "BMW I7 2023\n",
      "600kWh 400\n"
     ]
    }
   ],
   "source": [
    "from Package import Car\n",
    "class EV(Car):\n",
    "    def __init__(s, b, m, y, battery, r):\n",
    "        super().__init__(b, m, y)\n",
    "        s.battery = battery\n",
    "        s.r = r\n",
    "    def disp(s):\n",
    "        super().disp()\n",
    "        print(s.battery, s.r)\n",
    "ev1 = EV('BMW', 'I7', 2023, '600kWh', 400)\n",
    "ev1.disp()"
   ]
  },
  {
   "cell_type": "code",
   "execution_count": 11,
   "id": "84bdade3",
   "metadata": {},
   "outputs": [
    {
     "name": "stdout",
     "output_type": "stream",
     "text": [
      "BMW X5 2023\n",
      "BMW I7 2023\n",
      "600kWh\n"
     ]
    }
   ],
   "source": [
    "import Package\n",
    "car = Package.Car('BMW', 'X5', 2023)\n",
    "ev = Package.EV('BMW', 'I7', 2023, '600kWh')\n",
    "car.disp()\n",
    "ev.disp()"
   ]
  },
  {
   "cell_type": "code",
   "execution_count": 6,
   "id": "7c569284",
   "metadata": {},
   "outputs": [
    {
     "ename": "NameError",
     "evalue": "name 'Package' is not defined",
     "output_type": "error",
     "traceback": [
      "\u001b[0;31m---------------------------------------------------------------------------\u001b[0m",
      "\u001b[0;31mNameError\u001b[0m                                 Traceback (most recent call last)",
      "Cell \u001b[0;32mIn[6], line 2\u001b[0m\n\u001b[1;32m      1\u001b[0m \u001b[38;5;28;01mfrom\u001b[39;00m \u001b[38;5;21;01mPackage\u001b[39;00m \u001b[38;5;28;01mimport\u001b[39;00m \u001b[38;5;241m*\u001b[39m\n\u001b[0;32m----> 2\u001b[0m car \u001b[38;5;241m=\u001b[39m \u001b[43mPackage\u001b[49m\u001b[38;5;241m.\u001b[39mCar(\u001b[38;5;124m'\u001b[39m\u001b[38;5;124mBMW\u001b[39m\u001b[38;5;124m'\u001b[39m, \u001b[38;5;124m'\u001b[39m\u001b[38;5;124mX5\u001b[39m\u001b[38;5;124m'\u001b[39m, \u001b[38;5;241m2023\u001b[39m)\n\u001b[1;32m      3\u001b[0m ev \u001b[38;5;241m=\u001b[39m Package\u001b[38;5;241m.\u001b[39mEV(\u001b[38;5;124m'\u001b[39m\u001b[38;5;124mBMW\u001b[39m\u001b[38;5;124m'\u001b[39m, \u001b[38;5;124m'\u001b[39m\u001b[38;5;124mI7\u001b[39m\u001b[38;5;124m'\u001b[39m, \u001b[38;5;241m2023\u001b[39m, \u001b[38;5;124m'\u001b[39m\u001b[38;5;124m600kWh\u001b[39m\u001b[38;5;124m'\u001b[39m)\n\u001b[1;32m      4\u001b[0m car\u001b[38;5;241m.\u001b[39mdisp()\n",
      "\u001b[0;31mNameError\u001b[0m: name 'Package' is not defined"
     ]
    }
   ],
   "source": [
    "from Package import *\n",
    "car = Package.Car('BMW', 'X5', 2023)\n",
    "ev = Package.EV('BMW', 'I7', 2023, '600kWh')\n",
    "car.disp()\n",
    "ev.disp()"
   ]
  },
  {
   "cell_type": "code",
   "execution_count": 4,
   "id": "285d8856",
   "metadata": {},
   "outputs": [],
   "source": [
    "import random\n",
    "random.seed(1)"
   ]
  },
  {
   "cell_type": "code",
   "execution_count": 7,
   "id": "d6fad09b",
   "metadata": {},
   "outputs": [],
   "source": [
    "from random import *\n",
    "seed(1)"
   ]
  }
 ],
 "metadata": {
  "kernelspec": {
   "display_name": "Python 3 (ipykernel)",
   "language": "python",
   "name": "python3"
  },
  "language_info": {
   "codemirror_mode": {
    "name": "ipython",
    "version": 3
   },
   "file_extension": ".py",
   "mimetype": "text/x-python",
   "name": "python",
   "nbconvert_exporter": "python",
   "pygments_lexer": "ipython3",
   "version": "3.10.9"
  }
 },
 "nbformat": 4,
 "nbformat_minor": 5
}
