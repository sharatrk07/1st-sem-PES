{
 "cells": [
  {
   "cell_type": "code",
   "execution_count": 7,
   "id": "86cdb67d",
   "metadata": {},
   "outputs": [
    {
     "data": {
      "text/plain": [
       "['HELLO', 'WORLD']"
      ]
     },
     "execution_count": 7,
     "metadata": {},
     "output_type": "execute_result"
    }
   ],
   "source": [
    "def split_string(func):\n",
    "    def wrapper():\n",
    "        s = func()\n",
    "        sp = s.split()\n",
    "        return sp\n",
    "    return wrapper\n",
    "\n",
    "def uppercase_conv(func):\n",
    "    def wrapper():\n",
    "        s = func()\n",
    "        u = s.upper()\n",
    "        return u\n",
    "    return wrapper\n",
    "@split_string\n",
    "@uppercase_conv\n",
    "def foo():\n",
    "    return 'Hello World'\n",
    "\n",
    "foo()"
   ]
  },
  {
   "cell_type": "code",
   "execution_count": 9,
   "id": "5e83d2c8",
   "metadata": {},
   "outputs": [
    {
     "data": {
      "text/plain": [
       "['HELLO', 'WORLD']"
      ]
     },
     "execution_count": 9,
     "metadata": {},
     "output_type": "execute_result"
    }
   ],
   "source": [
    "def split_string(func):\n",
    "    def wrapper():\n",
    "        s = func()\n",
    "        sp = s.split()\n",
    "        return sp\n",
    "    return wrapper\n",
    "def uppercase_conv(func):\n",
    "    def wrapper():\n",
    "        s = func()\n",
    "        u = [i.upper() for i in s]\n",
    "        return u\n",
    "    return wrapper\n",
    "@uppercase_conv\n",
    "@split_string\n",
    "def foo():\n",
    "    return 'Hello World'\n",
    "\n",
    "foo()"
   ]
  },
  {
   "cell_type": "code",
   "execution_count": 12,
   "id": "cea94fd6",
   "metadata": {},
   "outputs": [
    {
     "data": {
      "text/plain": [
       "'Division by Zero'"
      ]
     },
     "execution_count": 12,
     "metadata": {},
     "output_type": "execute_result"
    }
   ],
   "source": [
    "def div_by_zero(func):\n",
    "    def i(x, y):\n",
    "        if y == 0:\n",
    "            return 'Division by Zero'\n",
    "        else:\n",
    "            return func(x, y)\n",
    "    return i\n",
    "\n",
    "@div_by_zero\n",
    "def div(x, y):\n",
    "    return x/y\n",
    "\n",
    "div(10, 0)"
   ]
  },
  {
   "cell_type": "code",
   "execution_count": 29,
   "id": "b0a7d811",
   "metadata": {},
   "outputs": [
    {
     "name": "stdout",
     "output_type": "stream",
     "text": [
      "(1, 2)\n",
      "{}\n",
      "Nothing\n"
     ]
    }
   ],
   "source": [
    "def dec(func):\n",
    "    def inner(*a, **kw):\n",
    "        print(a)\n",
    "        print(kw)\n",
    "        func(*a)\n",
    "    return inner\n",
    "@dec\n",
    "def foo(a, b):\n",
    "    print('Nothing')\n",
    "foo(1, 2)"
   ]
  },
  {
   "cell_type": "code",
   "execution_count": 81,
   "id": "4ab693bf",
   "metadata": {},
   "outputs": [
    {
     "name": "stdout",
     "output_type": "stream",
     "text": [
      "Hello\n",
      "Hello\n",
      "0.000331878662109375\n"
     ]
    }
   ],
   "source": [
    "import time\n",
    "def count_time(func):\n",
    "    def inner():\n",
    "        start = time.time()\n",
    "        func()\n",
    "        end = time.time()\n",
    "        print(end-start)\n",
    "    return inner\n",
    "\n",
    "@count_time\n",
    "def foo():\n",
    "    print('Hello')\n",
    "@count_time\n",
    "def foo2():\n",
    "    print('Hello')\n",
    "    print('Hello')\n",
    "    \n",
    "foo2()"
   ]
  }
 ],
 "metadata": {
  "kernelspec": {
   "display_name": "Python 3 (ipykernel)",
   "language": "python",
   "name": "python3"
  },
  "language_info": {
   "codemirror_mode": {
    "name": "ipython",
    "version": 3
   },
   "file_extension": ".py",
   "mimetype": "text/x-python",
   "name": "python",
   "nbconvert_exporter": "python",
   "pygments_lexer": "ipython3",
   "version": "3.10.9"
  }
 },
 "nbformat": 4,
 "nbformat_minor": 5
}
