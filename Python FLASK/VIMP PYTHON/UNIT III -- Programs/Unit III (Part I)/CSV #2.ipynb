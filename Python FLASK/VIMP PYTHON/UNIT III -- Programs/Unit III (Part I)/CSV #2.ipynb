{
 "cells": [
  {
   "cell_type": "code",
   "execution_count": 1,
   "id": "b588d0f5",
   "metadata": {},
   "outputs": [],
   "source": [
    "import csv"
   ]
  },
  {
   "cell_type": "code",
   "execution_count": 18,
   "id": "1ca49761",
   "metadata": {},
   "outputs": [],
   "source": [
    "f = open('data.csv')"
   ]
  },
  {
   "cell_type": "code",
   "execution_count": null,
   "id": "f2443b2d",
   "metadata": {},
   "outputs": [],
   "source": [
    "f.close()"
   ]
  },
  {
   "cell_type": "code",
   "execution_count": 9,
   "id": "4f0da766",
   "metadata": {},
   "outputs": [
    {
     "name": "stdout",
     "output_type": "stream",
     "text": [
      "<class '_csv.reader'>\n",
      "['Name', 'Address', 'Age']\n",
      "['Person1', '111, Building, City', '20']\n",
      "['Person2', '121, Building, City', '30']\n",
      "['Person3', '131, Building, City', '40']\n",
      "['Person4', '', '50']\n"
     ]
    }
   ],
   "source": [
    "# Reader object\n",
    "data = csv.reader(f, delimiter='|')\n",
    "print(type(data))\n",
    "for i in data:\n",
    "    print(i)"
   ]
  },
  {
   "cell_type": "code",
   "execution_count": 19,
   "id": "248069ce",
   "metadata": {},
   "outputs": [
    {
     "name": "stdout",
     "output_type": "stream",
     "text": [
      "<class 'csv.DictReader'>\n",
      "{'Name': 'Person1', 'Address': 'Address', 'Age': '20', None: ['Empty', 'Empty']}\n",
      "{'Name': 'Person2', 'Address': 'Address', 'Age': '30', None: ['Empty', 'Empty']}\n",
      "{'Name': 'Person3', 'Address': 'Address', 'Age': '40', None: ['Empty', 'Empty']}\n"
     ]
    }
   ],
   "source": [
    "# DictReader object\n",
    "data = csv.DictReader(f, delimiter='|')\n",
    "print(type(data))\n",
    "for i in data:\n",
    "    print(i)"
   ]
  },
  {
   "cell_type": "code",
   "execution_count": 25,
   "id": "e16af763",
   "metadata": {},
   "outputs": [],
   "source": [
    "with open('new.csv', 'w', newline='') as file:\n",
    "    # Writer object\n",
    "    writer = csv.writer(file)\n",
    "    # Write using writerow()\n",
    "    writer.writerow(['Name', 'Address', 'Age'])\n",
    "    writer.writerow(['Person1', '111, Building, City', 20])"
   ]
  },
  {
   "cell_type": "code",
   "execution_count": 27,
   "id": "f0db7f0b",
   "metadata": {},
   "outputs": [
    {
     "name": "stdout",
     "output_type": "stream",
     "text": [
      "['Name', 'Address', 'Age']\n",
      "['Person1', '111, Building, City', '20']\n"
     ]
    }
   ],
   "source": [
    "with open('new.csv') as file:\n",
    "    reader = csv.reader(file)\n",
    "    for i in reader:\n",
    "        print(i)"
   ]
  },
  {
   "cell_type": "code",
   "execution_count": 31,
   "id": "abebc7e0",
   "metadata": {},
   "outputs": [
    {
     "name": "stdout",
     "output_type": "stream",
     "text": [
      "{'Name': 'Person1', 'Address, City': '111, Building, City', 'Age': '20'}\n"
     ]
    }
   ],
   "source": [
    "with open('new.csv') as file:\n",
    "    reader = csv.DictReader(file)\n",
    "    for i in reader:\n",
    "        print(i)"
   ]
  },
  {
   "cell_type": "code",
   "execution_count": 38,
   "id": "74f7d832",
   "metadata": {},
   "outputs": [],
   "source": [
    "columns = ['Name', 'Address', 'Age', 'DOB']\n",
    "with open('new1.csv', 'w') as file:\n",
    "    # DictWriter Object\n",
    "    dw = csv.DictWriter(file, fieldnames = columns)\n",
    "    dw.writeheader()\n",
    "    dw.writerow({'Name': 'Person1', \n",
    "                'Address': 'Some Address, City', \n",
    "                'Age': 20})\n",
    "    dw.writerow({'Name': 'Person2', \n",
    "                'Address': 'Some, City', \n",
    "                'Age': 30,\n",
    "                'DOB':'dd-mm-yyyy'})"
   ]
  },
  {
   "cell_type": "code",
   "execution_count": null,
   "id": "07cb54e4",
   "metadata": {},
   "outputs": [],
   "source": []
  }
 ],
 "metadata": {
  "kernelspec": {
   "display_name": "Python 3 (ipykernel)",
   "language": "python",
   "name": "python3"
  },
  "language_info": {
   "codemirror_mode": {
    "name": "ipython",
    "version": 3
   },
   "file_extension": ".py",
   "mimetype": "text/x-python",
   "name": "python",
   "nbconvert_exporter": "python",
   "pygments_lexer": "ipython3",
   "version": "3.10.9"
  }
 },
 "nbformat": 4,
 "nbformat_minor": 5
}
