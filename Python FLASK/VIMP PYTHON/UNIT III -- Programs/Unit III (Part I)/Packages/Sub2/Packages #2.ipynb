{
 "cells": [
  {
   "cell_type": "code",
   "execution_count": 10,
   "id": "1e143092",
   "metadata": {},
   "outputs": [
    {
     "ename": "ImportError",
     "evalue": "attempted relative import with no known parent package",
     "output_type": "error",
     "traceback": [
      "\u001b[0;31m---------------------------------------------------------------------------\u001b[0m",
      "\u001b[0;31mImportError\u001b[0m                               Traceback (most recent call last)",
      "Cell \u001b[0;32mIn[10], line 1\u001b[0m\n\u001b[0;32m----> 1\u001b[0m \u001b[38;5;28;01mfrom\u001b[39;00m \u001b[38;5;21;01m.\u001b[39;00m\u001b[38;5;21;01mSub1\u001b[39;00m \u001b[38;5;28;01mimport\u001b[39;00m m3\n",
      "\u001b[0;31mImportError\u001b[0m: attempted relative import with no known parent package"
     ]
    }
   ],
   "source": [
    "from .Sub1 import m3"
   ]
  },
  {
   "cell_type": "code",
   "execution_count": 4,
   "id": "c76f7908",
   "metadata": {},
   "outputs": [
    {
     "name": "stdout",
     "output_type": "stream",
     "text": [
      "m4.py             m3.py             __init__.py       Packages #2.ipynb\r\n"
     ]
    }
   ],
   "source": [
    "!ls -r"
   ]
  },
  {
   "cell_type": "code",
   "execution_count": 12,
   "id": "097abc32",
   "metadata": {},
   "outputs": [
    {
     "name": "stdout",
     "output_type": "stream",
     "text": [
      "None\n"
     ]
    }
   ],
   "source": [
    "print(__package__)"
   ]
  },
  {
   "cell_type": "code",
   "execution_count": 14,
   "id": "a8bd208f",
   "metadata": {},
   "outputs": [
    {
     "data": {
      "text/plain": [
       "['/Users/niteesh/Desktop/PESU/Odd 2023-24/PYTHON/Unit 3/Packages/Sub2',\n",
       " '/Users/niteesh/miniconda3/lib/python310.zip',\n",
       " '/Users/niteesh/miniconda3/lib/python3.10',\n",
       " '/Users/niteesh/miniconda3/lib/python3.10/lib-dynload',\n",
       " '',\n",
       " '/Users/niteesh/.local/lib/python3.10/site-packages',\n",
       " '/Users/niteesh/miniconda3/lib/python3.10/site-packages']"
      ]
     },
     "execution_count": 14,
     "metadata": {},
     "output_type": "execute_result"
    }
   ],
   "source": [
    "import sys\n",
    "sys.path"
   ]
  },
  {
   "cell_type": "code",
   "execution_count": 16,
   "id": "770773d5",
   "metadata": {},
   "outputs": [
    {
     "name": "stdout",
     "output_type": "stream",
     "text": [
      "Python 3.10.9\r\n"
     ]
    }
   ],
   "source": [
    "from . import "
   ]
  }
 ],
 "metadata": {
  "kernelspec": {
   "display_name": "Python 3 (ipykernel)",
   "language": "python",
   "name": "python3"
  },
  "language_info": {
   "codemirror_mode": {
    "name": "ipython",
    "version": 3
   },
   "file_extension": ".py",
   "mimetype": "text/x-python",
   "name": "python",
   "nbconvert_exporter": "python",
   "pygments_lexer": "ipython3",
   "version": "3.10.9"
  }
 },
 "nbformat": 4,
 "nbformat_minor": 5
}
