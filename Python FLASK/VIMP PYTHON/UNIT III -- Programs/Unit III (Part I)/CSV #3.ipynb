{
 "cells": [
  {
   "cell_type": "code",
   "execution_count": 1,
   "id": "c9059135",
   "metadata": {},
   "outputs": [],
   "source": [
    "# Create a separate CSV with Name, Age, Dept., Salary\n",
    "# Display average age, average salary, max age, max salary\n",
    "\n",
    "import csv"
   ]
  },
  {
   "cell_type": "code",
   "execution_count": 9,
   "id": "c6f26934",
   "metadata": {},
   "outputs": [
    {
     "name": "stdout",
     "output_type": "stream",
     "text": [
      "{'Name': 'P1', 'Age': 25, 'Dept': 'HR', 'Salary': 30000}\n",
      "{'Name': 'P2', 'Age': 30, 'Dept': 'Sales', 'Salary': 35000}\n",
      "{'Name': 'P3', 'Age': 40, 'Dept': 'Marketing', 'Salary': 70000}\n"
     ]
    },
    {
     "data": {
      "text/plain": [
       "0"
      ]
     },
     "execution_count": 9,
     "metadata": {},
     "output_type": "execute_result"
    }
   ],
   "source": [
    "file = open('emp.csv')\n",
    "data = csv.DictReader(file)\n",
    "# data1 = list(data)\n",
    "for i in data:\n",
    "    i['Age'] = int(i['Age'])\n",
    "    i['Salary'] = int(i['Salary'])\n",
    "    print(i)\n",
    "file.seek(0)"
   ]
  },
  {
   "cell_type": "code",
   "execution_count": 35,
   "id": "6b79e48f",
   "metadata": {},
   "outputs": [
    {
     "name": "stdout",
     "output_type": "stream",
     "text": [
      "{'Name': 'Name', 'Age': 'Age', 'Dept': 'Dept', 'Salary': 'Salary'}\n",
      "{'Name': 'P1', 'Age': '25', 'Dept': 'HR', 'Salary': '30000'}\n",
      "{'Name': 'P2', 'Age': '30', 'Dept': 'Sales', 'Salary': '35000'}\n",
      "{'Name': 'P3', 'Age': '40', 'Dept': 'Marketing', 'Salary': '070000'}\n"
     ]
    }
   ],
   "source": [
    "for i in data:\n",
    "    print(i)"
   ]
  },
  {
   "cell_type": "code",
   "execution_count": 56,
   "id": "5abf7308",
   "metadata": {},
   "outputs": [
    {
     "name": "stdout",
     "output_type": "stream",
     "text": [
      "20\n"
     ]
    }
   ],
   "source": [
    "file = open('emp.csv')\n",
    "data = csv.DictReader(file)\n",
    "pos = open('emp.csv').read().index('\\n')\n",
    "print(pos)"
   ]
  },
  {
   "cell_type": "code",
   "execution_count": 50,
   "id": "3b70b1b2",
   "metadata": {},
   "outputs": [],
   "source": [
    "file.close()"
   ]
  },
  {
   "cell_type": "code",
   "execution_count": 57,
   "id": "270b7a55",
   "metadata": {},
   "outputs": [
    {
     "name": "stdout",
     "output_type": "stream",
     "text": [
      "{'Name': 'P1', 'Age': '25', 'Dept': 'HR', 'Salary': '30000'}\n",
      "{'Name': 'P2', 'Age': '30', 'Dept': 'Sales', 'Salary': '35000'}\n",
      "{'Name': 'P3', 'Age': '40', 'Dept': 'Marketing', 'Salary': '070000'}\n"
     ]
    }
   ],
   "source": [
    "for i in data: \n",
    "    i['Age'] = int(i['Age'])\n",
    "    i['Salary'] = int(i['Salary'])\n",
    "file.seek(20)\n",
    "for i in data:\n",
    "    print(i)"
   ]
  },
  {
   "cell_type": "code",
   "execution_count": 11,
   "id": "bfbbdc6d",
   "metadata": {},
   "outputs": [
    {
     "name": "stdout",
     "output_type": "stream",
     "text": [
      "{'Name': 'P1', 'Age': '25', 'Dept': 'HR', 'Salary': '30000'}\n",
      "{'Name': 'P2', 'Age': '30', 'Dept': 'Sales', 'Salary': '35000'}\n",
      "{'Name': 'P3', 'Age': '40', 'Dept': 'Marketing', 'Salary': '070000'}\n"
     ]
    }
   ],
   "source": [
    "f = open('emp.csv')\n",
    "DR = csv.DictReader(f)\n",
    "for i in DR:\n",
    "    print(i)"
   ]
  },
  {
   "cell_type": "code",
   "execution_count": 17,
   "id": "8ba477fb",
   "metadata": {},
   "outputs": [
    {
     "data": {
      "text/plain": [
       "0"
      ]
     },
     "execution_count": 17,
     "metadata": {},
     "output_type": "execute_result"
    }
   ],
   "source": [
    "f.seek(0)"
   ]
  },
  {
   "cell_type": "code",
   "execution_count": 19,
   "id": "97f08fae",
   "metadata": {},
   "outputs": [
    {
     "name": "stdout",
     "output_type": "stream",
     "text": [
      "{'Name': 'P1', 'Age': '25', 'Dept': 'HR', 'Salary': '30000'}\n",
      "{'Name': 'P2', 'Age': '30', 'Dept': 'Sales', 'Salary': '35000'}\n",
      "{'Name': 'P3', 'Age': '40', 'Dept': 'Marketing', 'Salary': '070000'}\n"
     ]
    }
   ],
   "source": [
    "for i in DR:\n",
    "    print(i)"
   ]
  },
  {
   "cell_type": "code",
   "execution_count": 18,
   "id": "dc2f1b15",
   "metadata": {},
   "outputs": [
    {
     "data": {
      "text/plain": [
       "20"
      ]
     },
     "execution_count": 18,
     "metadata": {},
     "output_type": "execute_result"
    }
   ],
   "source": [
    "f.seek(f.read().index('\\n'))"
   ]
  },
  {
   "cell_type": "code",
   "execution_count": 27,
   "id": "d1db0e45",
   "metadata": {},
   "outputs": [],
   "source": [
    "with open('emp.csv') as f:\n",
    "    DR = csv.DictReader(f)\n",
    "    l = list(DR)"
   ]
  },
  {
   "cell_type": "code",
   "execution_count": 40,
   "id": "798e726c",
   "metadata": {},
   "outputs": [
    {
     "name": "stdout",
     "output_type": "stream",
     "text": [
      "{'Name': 'P1', 'Age': '25', 'Dept': 'HR', 'Salary': '30000'}\n",
      "{'Name': 'P2', 'Age': '30', 'Dept': 'Sales', 'Salary': '35000'}\n",
      "{'Name': 'P3', 'Age': '40', 'Dept': 'Marketing', 'Salary': '070000'}\n"
     ]
    }
   ],
   "source": [
    "for i in l:\n",
    "    print(i)"
   ]
  }
 ],
 "metadata": {
  "kernelspec": {
   "display_name": "Python 3 (ipykernel)",
   "language": "python",
   "name": "python3"
  },
  "language_info": {
   "codemirror_mode": {
    "name": "ipython",
    "version": 3
   },
   "file_extension": ".py",
   "mimetype": "text/x-python",
   "name": "python",
   "nbconvert_exporter": "python",
   "pygments_lexer": "ipython3",
   "version": "3.10.9"
  }
 },
 "nbformat": 4,
 "nbformat_minor": 5
}
