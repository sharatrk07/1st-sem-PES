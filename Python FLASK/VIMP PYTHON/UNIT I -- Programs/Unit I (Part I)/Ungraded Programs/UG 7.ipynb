{
 "cells": [
  {
   "cell_type": "code",
   "execution_count": null,
   "id": "a569e24b",
   "metadata": {},
   "outputs": [],
   "source": [
    "# Divide a list into even and odd"
   ]
  },
  {
   "cell_type": "code",
   "execution_count": 6,
   "id": "162c3612",
   "metadata": {},
   "outputs": [
    {
     "name": "stdout",
     "output_type": "stream",
     "text": [
      "1 2 3 4\n",
      "[1, 2, 3, 4]\n",
      "[[2, 4], [1, 3]]\n"
     ]
    }
   ],
   "source": [
    "l = list(map(int, input().split()))\n",
    "print(l)\n",
    "x = lambda a : a%2 == 0\n",
    "\n",
    "x1 = lambda a : a%2!=0\n",
    "\n",
    "l1 = [list(filter(x, l)), list(filter(x1, l))]\n",
    "print(l1)"
   ]
  }
 ],
 "metadata": {
  "kernelspec": {
   "display_name": "Python 3 (ipykernel)",
   "language": "python",
   "name": "python3"
  },
  "language_info": {
   "codemirror_mode": {
    "name": "ipython",
    "version": 3
   },
   "file_extension": ".py",
   "mimetype": "text/x-python",
   "name": "python",
   "nbconvert_exporter": "python",
   "pygments_lexer": "ipython3",
   "version": "3.10.9"
  }
 },
 "nbformat": 4,
 "nbformat_minor": 5
}
