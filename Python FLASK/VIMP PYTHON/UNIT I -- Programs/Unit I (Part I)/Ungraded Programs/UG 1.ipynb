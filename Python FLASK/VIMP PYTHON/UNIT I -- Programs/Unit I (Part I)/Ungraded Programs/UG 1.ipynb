{
 "cells": [
  {
   "cell_type": "code",
   "execution_count": 1,
   "id": "0ba1c5dd",
   "metadata": {},
   "outputs": [
    {
     "name": "stdout",
     "output_type": "stream",
     "text": [
      "2\n",
      "1\n",
      "2\n",
      "3\n",
      "4\n",
      "[[1, 2], [3, 4]]\n"
     ]
    }
   ],
   "source": [
    "n = int(input())\n",
    "a = []\n",
    "for i in range(n):\n",
    "    t = []\n",
    "    for j in range(n):\n",
    "        t.append(int(input()))\n",
    "    a.append(t)\n",
    "print(a)"
   ]
  },
  {
   "cell_type": "code",
   "execution_count": 2,
   "id": "6ae5fba0",
   "metadata": {},
   "outputs": [
    {
     "name": "stdout",
     "output_type": "stream",
     "text": [
      "2\n",
      "-10\n",
      "3\n",
      "5\n",
      "5\n",
      "13\n"
     ]
    }
   ],
   "source": [
    "def diagonalDifference(arr):\n",
    "    temp = 0\n",
    "    emp = 0\n",
    "    for i in range(0,len(arr)):\n",
    "        temp = temp + arr[i][i]\n",
    "    \n",
    "    for j in range(0,len(arr)):\n",
    "        emp = emp + arr[j][len(arr)-1-j]\n",
    "    \n",
    "    return abs(temp - emp)\n",
    "\n",
    "\n",
    "n = int(input())\n",
    "\n",
    "arr = []\n",
    "\n",
    "for i in range(n):\n",
    "    t = []\n",
    "    for j in range(n):\n",
    "        t.append(int(input()))\n",
    "    arr.append(t)\n",
    "\n",
    "result = diagonalDifference(arr)\n",
    "\n",
    "print(result)"
   ]
  }
 ],
 "metadata": {
  "kernelspec": {
   "display_name": "Python 3 (ipykernel)",
   "language": "python",
   "name": "python3"
  },
  "language_info": {
   "codemirror_mode": {
    "name": "ipython",
    "version": 3
   },
   "file_extension": ".py",
   "mimetype": "text/x-python",
   "name": "python",
   "nbconvert_exporter": "python",
   "pygments_lexer": "ipython3",
   "version": "3.10.9"
  }
 },
 "nbformat": 4,
 "nbformat_minor": 5
}
