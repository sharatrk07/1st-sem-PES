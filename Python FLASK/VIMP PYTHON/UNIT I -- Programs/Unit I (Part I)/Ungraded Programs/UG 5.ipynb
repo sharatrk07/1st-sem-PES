{
 "cells": [
  {
   "cell_type": "code",
   "execution_count": 15,
   "id": "1db15aff",
   "metadata": {},
   "outputs": [
    {
     "name": "stdout",
     "output_type": "stream",
     "text": [
      "6\n",
      "5\n",
      "1\n",
      "2\n",
      "3\n",
      "4\n",
      "5\n",
      "6\n",
      "[1, 2, 3, 4, 5, 6]\n",
      "[1, 4]\n",
      "[2, 3]\n",
      "[4, 6]\n"
     ]
    }
   ],
   "source": [
    "# Divisible Sum Pairs\n",
    "\n",
    "n = int(input())\n",
    "if(n<1):\n",
    "    print('Invalid input')\n",
    "    exit()\n",
    "\n",
    "k = int(input())\n",
    "if(k<=0):\n",
    "    print('Invalid input')\n",
    "    exit()\n",
    "\n",
    "l = []\n",
    "for i in range(n):\n",
    "    l.append(int(input()))\n",
    "\n",
    "# print(l)\n",
    "x = l\n",
    "res = []\n",
    "for i in range(n):\n",
    "    for j in range(i+1, len(l)):\n",
    "        if((l[i]+l[j]) % k == 0):\n",
    "            res.append([l[i], l[j]])\n",
    "for i in res:\n",
    "    print(i)"
   ]
  },
  {
   "cell_type": "code",
   "execution_count": 4,
   "id": "e81bf6a5",
   "metadata": {},
   "outputs": [
    {
     "name": "stdout",
     "output_type": "stream",
     "text": [
      "5\n",
      "4\n",
      "6\n",
      "2\n",
      "1\n",
      "3\n"
     ]
    }
   ],
   "source": [
    "import random as r\n",
    "l = [1, 2, 3, 4, 5, 6]\n",
    "x = l\n",
    "for i in range(len(l)):\n",
    "#     print(l.remove(r.choice(l)))\n",
    "    t = r.choice(l)\n",
    "    print(t)\n",
    "    l.remove(t)"
   ]
  }
 ],
 "metadata": {
  "kernelspec": {
   "display_name": "Python 3 (ipykernel)",
   "language": "python",
   "name": "python3"
  },
  "language_info": {
   "codemirror_mode": {
    "name": "ipython",
    "version": 3
   },
   "file_extension": ".py",
   "mimetype": "text/x-python",
   "name": "python",
   "nbconvert_exporter": "python",
   "pygments_lexer": "ipython3",
   "version": "3.10.9"
  }
 },
 "nbformat": 4,
 "nbformat_minor": 5
}
