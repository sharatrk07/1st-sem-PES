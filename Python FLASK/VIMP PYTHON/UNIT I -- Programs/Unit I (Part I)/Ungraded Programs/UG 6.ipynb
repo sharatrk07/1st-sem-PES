{
 "cells": [
  {
   "cell_type": "code",
   "execution_count": 19,
   "id": "13633bcf",
   "metadata": {},
   "outputs": [
    {
     "name": "stdout",
     "output_type": "stream",
     "text": [
      "[[17, 24, 1, 8, 15], [23, 5, 7, 14, 16], [4, 6, 13, 20, 22], [10, 12, 19, 21, 3], [11, 18, 25, 2, 9]]\n"
     ]
    }
   ],
   "source": [
    "# Create an N x N magic square. N must be odd.\n",
    "import numpy as np\n",
    "\n",
    "N = int(input())\n",
    "if(N<2):\n",
    "    print('Invalid input')\n",
    "    exit()\n",
    "magic_square = np.zeros((N,N), dtype=int)\n",
    "\n",
    "n = 1\n",
    "i, j = 0, N//2\n",
    "\n",
    "while n <= N**2:\n",
    "    magic_square[i, j] = n\n",
    "    n += 1\n",
    "    newi, newj = (i-1) % N, (j+1)% N\n",
    "    if magic_square[newi, newj]:\n",
    "        i += 1\n",
    "    else:\n",
    "        i, j = newi, newj\n",
    "\n",
    "# print(magic_square)\n",
    "l = []\n",
    "for i in magic_square:\n",
    "    l.append(list(i))\n",
    "print(l)"
   ]
  }
 ],
 "metadata": {
  "kernelspec": {
   "display_name": "Python 3 (ipykernel)",
   "language": "python",
   "name": "python3"
  },
  "language_info": {
   "codemirror_mode": {
    "name": "ipython",
    "version": 3
   },
   "file_extension": ".py",
   "mimetype": "text/x-python",
   "name": "python",
   "nbconvert_exporter": "python",
   "pygments_lexer": "ipython3",
   "version": "3.10.9"
  }
 },
 "nbformat": 4,
 "nbformat_minor": 5
}
