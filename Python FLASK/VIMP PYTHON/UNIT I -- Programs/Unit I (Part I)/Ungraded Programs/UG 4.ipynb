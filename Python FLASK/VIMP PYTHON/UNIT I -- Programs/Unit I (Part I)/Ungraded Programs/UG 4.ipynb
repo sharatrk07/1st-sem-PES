{
 "cells": [
  {
   "cell_type": "code",
   "execution_count": 7,
   "id": "b6f5c34b",
   "metadata": {},
   "outputs": [
    {
     "name": "stdout",
     "output_type": "stream",
     "text": [
      "5\n",
      "-10\n",
      "2\n",
      "-100\n",
      "3\n",
      "50\n",
      "[-10, 2, -100, 3, 50]\n",
      "45\n",
      "-105\n",
      "[-45, -57, 45, -58, -105]\n"
     ]
    }
   ],
   "source": [
    "# Minimum and Maximum sum of a list\n",
    "\n",
    "# Complete the miniMaxSum function below.\n",
    "def miniMaxSum(arr):\n",
    "    arr.sort()\n",
    "    hold = [None]*int(len(arr)-3)\n",
    "    for i in range(0,len(arr)-3):\n",
    "        temp = 0\n",
    "        for j in range(i,i+4):\n",
    "            temp = temp + arr[j]\n",
    "        hold[i] = temp\n",
    "    \n",
    "    print(hold[0],hold[-1])\n",
    "\n",
    "\n",
    "l, n = [], int(input())\n",
    "if(n<1):\n",
    "    print('Invalid input')\n",
    "    exit()\n",
    "for i in range(n):\n",
    "    l.append(int(input()))\n",
    "s = []\n",
    "    \n",
    "print(l)\n",
    "# miniMaxSum(l)\n",
    "for i in range(n):\n",
    "    s.append(sum(l)-l[i])\n",
    "print(max(s))\n",
    "print(min(s))\n",
    "print(s)"
   ]
  },
  {
   "cell_type": "code",
   "execution_count": null,
   "id": "25c3dfdf",
   "metadata": {},
   "outputs": [],
   "source": []
  }
 ],
 "metadata": {
  "kernelspec": {
   "display_name": "Python 3 (ipykernel)",
   "language": "python",
   "name": "python3"
  },
  "language_info": {
   "codemirror_mode": {
    "name": "ipython",
    "version": 3
   },
   "file_extension": ".py",
   "mimetype": "text/x-python",
   "name": "python",
   "nbconvert_exporter": "python",
   "pygments_lexer": "ipython3",
   "version": "3.10.9"
  }
 },
 "nbformat": 4,
 "nbformat_minor": 5
}
