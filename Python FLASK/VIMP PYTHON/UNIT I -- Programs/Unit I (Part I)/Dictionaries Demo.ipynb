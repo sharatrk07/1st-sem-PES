{
 "cells": [
  {
   "cell_type": "code",
   "execution_count": 1,
   "id": "55a8a968",
   "metadata": {},
   "outputs": [
    {
     "name": "stdout",
     "output_type": "stream",
     "text": [
      "<class 'dict'>\n",
      "{}\n"
     ]
    }
   ],
   "source": [
    "d = {}\n",
    "print(type(d))\n",
    "print(d)"
   ]
  },
  {
   "cell_type": "code",
   "execution_count": 6,
   "id": "c8b231e0",
   "metadata": {},
   "outputs": [
    {
     "name": "stdout",
     "output_type": "stream",
     "text": [
      "{1: 'a', 2: 'b'}\n"
     ]
    }
   ],
   "source": [
    "d[1] = 'a'\n",
    "# print(d)\n",
    "d[2] = 'b'\n",
    "print(d)"
   ]
  },
  {
   "cell_type": "code",
   "execution_count": 7,
   "id": "e421510d",
   "metadata": {},
   "outputs": [
    {
     "name": "stdout",
     "output_type": "stream",
     "text": [
      "{'vowels': ['a', 'e', 'i', 'o', 'u'], 'consonants': ['b', 'c', 'd', 'f', 'g', 'h', 'j', 'k', 'l', 'm', 'n', 'p', 'q', 'r', 's', 't', 'v', 'w', 'x', 'y', 'z']}\n"
     ]
    }
   ],
   "source": [
    "d1 = {'vowels':['a', 'e', 'i', 'o', 'u'],\n",
    "     'consonants':['b','c','d','f','g','h','j','k','l','m','n','p','q','r','s','t','v','w','x','y','z']\n",
    "     }\n",
    "print(d1)"
   ]
  },
  {
   "cell_type": "code",
   "execution_count": 8,
   "id": "66f7e7e5",
   "metadata": {},
   "outputs": [
    {
     "name": "stdout",
     "output_type": "stream",
     "text": [
      "['a', 'e', 'i', 'o', 'u']\n"
     ]
    }
   ],
   "source": [
    "print(d1['vowels'])"
   ]
  },
  {
   "cell_type": "code",
   "execution_count": 9,
   "id": "9d4da311",
   "metadata": {},
   "outputs": [
    {
     "name": "stdout",
     "output_type": "stream",
     "text": [
      "vowels\n",
      "['a', 'e', 'i', 'o', 'u']\n",
      "consonants\n",
      "['b', 'c', 'd', 'f', 'g', 'h', 'j', 'k', 'l', 'm', 'n', 'p', 'q', 'r', 's', 't', 'v', 'w', 'x', 'y', 'z']\n"
     ]
    }
   ],
   "source": [
    "for key in d1:\n",
    "    print(key)\n",
    "    print(d1[key])"
   ]
  },
  {
   "cell_type": "code",
   "execution_count": 11,
   "id": "4e03cea1",
   "metadata": {},
   "outputs": [
    {
     "name": "stdout",
     "output_type": "stream",
     "text": [
      "vowels\n",
      "a\n",
      "e\n",
      "i\n",
      "o\n",
      "u\n",
      "consonants\n",
      "b\n",
      "c\n",
      "d\n",
      "f\n",
      "g\n",
      "h\n",
      "j\n",
      "k\n",
      "l\n",
      "m\n",
      "n\n",
      "p\n",
      "q\n",
      "r\n",
      "s\n",
      "t\n",
      "v\n",
      "w\n",
      "x\n",
      "y\n",
      "z\n"
     ]
    }
   ],
   "source": [
    "for key in d1:\n",
    "    print(key)\n",
    "    for i in d1[key]:\n",
    "        print(i)"
   ]
  },
  {
   "cell_type": "code",
   "execution_count": 12,
   "id": "0e73613e",
   "metadata": {},
   "outputs": [
    {
     "ename": "TypeError",
     "evalue": "unhashable type: 'list'",
     "output_type": "error",
     "traceback": [
      "\u001b[0;31m---------------------------------------------------------------------------\u001b[0m",
      "\u001b[0;31mTypeError\u001b[0m                                 Traceback (most recent call last)",
      "Cell \u001b[0;32mIn[12], line 1\u001b[0m\n\u001b[0;32m----> 1\u001b[0m d2 \u001b[38;5;241m=\u001b[39m {[\u001b[38;5;241m1\u001b[39m,\u001b[38;5;241m2\u001b[39m]:[\u001b[38;5;241m3\u001b[39m,\u001b[38;5;241m4\u001b[39m]}\n\u001b[1;32m      2\u001b[0m \u001b[38;5;28mprint\u001b[39m(d2)\n",
      "\u001b[0;31mTypeError\u001b[0m: unhashable type: 'list'"
     ]
    }
   ],
   "source": [
    "d2 = {[1,2]:[3,4]}\n",
    "print(d2)"
   ]
  },
  {
   "cell_type": "code",
   "execution_count": 17,
   "id": "c2716447",
   "metadata": {},
   "outputs": [
    {
     "name": "stdout",
     "output_type": "stream",
     "text": [
      "{'srn': 101, 'name': 'ABC'}\n"
     ]
    }
   ],
   "source": [
    "student = {'srn':101,\n",
    "          'name':'ABC'}\n",
    "print(student)"
   ]
  },
  {
   "cell_type": "code",
   "execution_count": 16,
   "id": "68b16cd2",
   "metadata": {},
   "outputs": [
    {
     "data": {
      "text/plain": [
       "{'name': 'ABC', 'usn': 101}"
      ]
     },
     "execution_count": 16,
     "metadata": {},
     "output_type": "execute_result"
    }
   ],
   "source": [
    "student['usn'] = student.pop('srn')\n",
    "student"
   ]
  },
  {
   "cell_type": "code",
   "execution_count": 40,
   "id": "f7e721e7",
   "metadata": {},
   "outputs": [
    {
     "name": "stdout",
     "output_type": "stream",
     "text": [
      "{(1, 2, 3): 2}\n"
     ]
    }
   ],
   "source": [
    "l = [1,2,3]\n",
    "d3 = {tuple(l):1,\n",
    "     tuple(l):2}\n",
    "print(d3)"
   ]
  },
  {
   "cell_type": "code",
   "execution_count": 45,
   "id": "7d696687",
   "metadata": {},
   "outputs": [
    {
     "name": "stdout",
     "output_type": "stream",
     "text": [
      "{1: 2, 2: 3}\n",
      "{1: 2, 2: 3, 3: 4}\n"
     ]
    }
   ],
   "source": [
    "d4 = {1:2, 2:3}\n",
    "print(d4)\n",
    "\n",
    "d4[3] = 4\n",
    "print(d4)"
   ]
  },
  {
   "cell_type": "code",
   "execution_count": 46,
   "id": "7e9aadd8",
   "metadata": {},
   "outputs": [
    {
     "data": {
      "text/plain": [
       "{1: 2, 2: 3, 3: 4, None: 100}"
      ]
     },
     "execution_count": 46,
     "metadata": {},
     "output_type": "execute_result"
    }
   ],
   "source": [
    "d4[None] = 100\n",
    "d4"
   ]
  },
  {
   "cell_type": "code",
   "execution_count": 48,
   "id": "c7cff84a",
   "metadata": {},
   "outputs": [
    {
     "data": {
      "text/plain": [
       "{1: 2, 2: 3, 3: 4, None: 100, '': 101}"
      ]
     },
     "execution_count": 48,
     "metadata": {},
     "output_type": "execute_result"
    }
   ],
   "source": [
    "d4[''] = 101\n",
    "d4"
   ]
  },
  {
   "cell_type": "code",
   "execution_count": 54,
   "id": "760525a4",
   "metadata": {},
   "outputs": [
    {
     "name": "stdout",
     "output_type": "stream",
     "text": [
      "2\n",
      "101\n",
      "abc\n",
      "mca\n",
      "test@gmail.com\n",
      "102\n",
      "def\n",
      "bca\n",
      "test1@gmail.com\n",
      "{101: {'name': 'abc', 'program': 'mca', 'email': 'test@gmail.com'}, 102: {'name': 'def', 'program': 'bca', 'email': 'test1@gmail.com'}}\n"
     ]
    }
   ],
   "source": [
    "n = int(input())\n",
    "student_dict = {}\n",
    "for i in range(n):\n",
    "    srn = int(input())\n",
    "    student_dict[srn] = {'name':input(),'program':input(),'email':input()}\n",
    "print(student_dict)"
   ]
  }
 ],
 "metadata": {
  "kernelspec": {
   "display_name": "Python 3 (ipykernel)",
   "language": "python",
   "name": "python3"
  },
  "language_info": {
   "codemirror_mode": {
    "name": "ipython",
    "version": 3
   },
   "file_extension": ".py",
   "mimetype": "text/x-python",
   "name": "python",
   "nbconvert_exporter": "python",
   "pygments_lexer": "ipython3",
   "version": "3.10.9"
  }
 },
 "nbformat": 4,
 "nbformat_minor": 5
}
