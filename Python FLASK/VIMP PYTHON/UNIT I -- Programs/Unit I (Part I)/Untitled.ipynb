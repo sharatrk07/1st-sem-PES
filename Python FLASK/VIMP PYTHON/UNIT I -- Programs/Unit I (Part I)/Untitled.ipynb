{
 "cells": [
  {
   "cell_type": "code",
   "execution_count": 1,
   "id": "126e0317",
   "metadata": {},
   "outputs": [],
   "source": [
    "a = 5\n",
    "b = 5"
   ]
  },
  {
   "cell_type": "code",
   "execution_count": 24,
   "id": "4643dcd1",
   "metadata": {},
   "outputs": [
    {
     "name": "stdout",
     "output_type": "stream",
     "text": [
      "4306764144\n",
      "4306764144\n"
     ]
    }
   ],
   "source": [
    "print(id(a))\n",
    "print(id(b))"
   ]
  },
  {
   "cell_type": "code",
   "execution_count": 6,
   "id": "e5018cc5",
   "metadata": {},
   "outputs": [
    {
     "name": "stdout",
     "output_type": "stream",
     "text": [
      "4304241008\n",
      "4304241008\n"
     ]
    }
   ],
   "source": [
    "a = 5\n",
    "b = 5\n",
    "print(id(a))\n",
    "print(id(b))"
   ]
  },
  {
   "cell_type": "code",
   "execution_count": 60,
   "id": "87af427c",
   "metadata": {},
   "outputs": [
    {
     "data": {
      "text/plain": [
       "4354376496"
      ]
     },
     "execution_count": 60,
     "metadata": {},
     "output_type": "execute_result"
    }
   ],
   "source": [
    "c = 6.0\n",
    "id(c)"
   ]
  },
  {
   "cell_type": "code",
   "execution_count": 24,
   "id": "6d10e46a",
   "metadata": {},
   "outputs": [
    {
     "data": {
      "text/plain": [
       "4304241168"
      ]
     },
     "execution_count": 24,
     "metadata": {},
     "output_type": "execute_result"
    }
   ],
   "source": [
    "d = 10\n",
    "id(d)"
   ]
  },
  {
   "cell_type": "code",
   "execution_count": 7,
   "id": "7e27beab",
   "metadata": {},
   "outputs": [],
   "source": [
    "del c"
   ]
  },
  {
   "cell_type": "code",
   "execution_count": 23,
   "id": "f21787e0",
   "metadata": {},
   "outputs": [
    {
     "data": {
      "text/plain": [
       "4375538992"
      ]
     },
     "execution_count": 23,
     "metadata": {},
     "output_type": "execute_result"
    }
   ],
   "source": [
    "s = 'ABC'\n",
    "id(s)"
   ]
  },
  {
   "cell_type": "code",
   "execution_count": 24,
   "id": "ba0ee4d8",
   "metadata": {},
   "outputs": [
    {
     "data": {
      "text/plain": [
       "4401285104"
      ]
     },
     "execution_count": 24,
     "metadata": {},
     "output_type": "execute_result"
    }
   ],
   "source": [
    "s1 = 'DEF'\n",
    "id(s1)"
   ]
  },
  {
   "cell_type": "code",
   "execution_count": 25,
   "id": "84d57a70",
   "metadata": {},
   "outputs": [
    {
     "name": "stdout",
     "output_type": "stream",
     "text": [
      "4424390928\n",
      "4424390928\n"
     ]
    }
   ],
   "source": [
    "a, b = 257, 257\n",
    "print(id(a))\n",
    "print(id(b))"
   ]
  },
  {
   "cell_type": "code",
   "execution_count": 32,
   "id": "2f18fbc1",
   "metadata": {},
   "outputs": [
    {
     "name": "stdout",
     "output_type": "stream",
     "text": [
      "4374249840 4374249872\n"
     ]
    }
   ],
   "source": [
    "a, b = 5, 6\n",
    "print(id(a), id(b))"
   ]
  },
  {
   "cell_type": "code",
   "execution_count": 43,
   "id": "7a3d06c1",
   "metadata": {},
   "outputs": [
    {
     "name": "stdout",
     "output_type": "stream",
     "text": [
      "4374257872 4424391088\n"
     ]
    }
   ],
   "source": [
    "c, d = 256, 257\n",
    "print(id(c), id(d))"
   ]
  },
  {
   "cell_type": "code",
   "execution_count": 51,
   "id": "adbcf57e",
   "metadata": {},
   "outputs": [
    {
     "name": "stdout",
     "output_type": "stream",
     "text": [
      "4375538992 4401285104\n"
     ]
    }
   ],
   "source": [
    "s, t = 'ABC', 'DEF'\n",
    "print(id(s), id(t))"
   ]
  },
  {
   "cell_type": "code",
   "execution_count": 79,
   "id": "e071674b",
   "metadata": {},
   "outputs": [
    {
     "name": "stdout",
     "output_type": "stream",
     "text": [
      "4422822608 4422822608\n"
     ]
    }
   ],
   "source": [
    "e, f = 5.0, 5.0\n",
    "print(id(e), id(f))"
   ]
  },
  {
   "cell_type": "code",
   "execution_count": 72,
   "id": "fcea0b40",
   "metadata": {},
   "outputs": [
    {
     "name": "stdout",
     "output_type": "stream",
     "text": [
      "True\n",
      "4424398352 4424398352\n"
     ]
    }
   ],
   "source": [
    "g, h = 257, 257\n",
    "print(id(g) == id(h))\n",
    "print(id(g), id(h))"
   ]
  },
  {
   "cell_type": "code",
   "execution_count": 84,
   "id": "6999af73",
   "metadata": {},
   "outputs": [
    {
     "name": "stdout",
     "output_type": "stream",
     "text": [
      "True\n",
      "4424390160 4424390160\n"
     ]
    }
   ],
   "source": [
    "i, j = 0.0, 0.0\n",
    "print(id(i) == id(j))\n",
    "print(id(i), id(j))"
   ]
  },
  {
   "cell_type": "code",
   "execution_count": 85,
   "id": "efd3b953",
   "metadata": {},
   "outputs": [
    {
     "name": "stdout",
     "output_type": "stream",
     "text": [
      "Python 3.10.9\r\n"
     ]
    }
   ],
   "source": [
    "!python --version"
   ]
  }
 ],
 "metadata": {
  "kernelspec": {
   "display_name": "Python 3 (ipykernel)",
   "language": "python",
   "name": "python3"
  },
  "language_info": {
   "codemirror_mode": {
    "name": "ipython",
    "version": 3
   },
   "file_extension": ".py",
   "mimetype": "text/x-python",
   "name": "python",
   "nbconvert_exporter": "python",
   "pygments_lexer": "ipython3",
   "version": "3.10.9"
  }
 },
 "nbformat": 4,
 "nbformat_minor": 5
}
