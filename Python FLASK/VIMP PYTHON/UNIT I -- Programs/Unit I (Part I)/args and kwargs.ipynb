{
 "cells": [
  {
   "cell_type": "code",
   "execution_count": null,
   "id": "276e004b",
   "metadata": {},
   "outputs": [],
   "source": [
    "### Non-keyword args (*args)"
   ]
  },
  {
   "cell_type": "code",
   "execution_count": 15,
   "id": "4aa37dc1",
   "metadata": {},
   "outputs": [
    {
     "name": "stdout",
     "output_type": "stream",
     "text": [
      "(1, 2, 3, 4, 5)\n",
      "()\n",
      "((1, 2, 3),)\n",
      "('a', ['b', 'c'])\n"
     ]
    }
   ],
   "source": [
    "def disp(*args):\n",
    "    print(args)\n",
    "\n",
    "disp(1, 2, 3, 4, 5)\n",
    "disp()\n",
    "disp((1,2,3))\n",
    "disp('a',['b', 'c'])"
   ]
  },
  {
   "cell_type": "code",
   "execution_count": null,
   "id": "6251123f",
   "metadata": {},
   "outputs": [],
   "source": [
    "### Keyword arguments (**kwargs)"
   ]
  },
  {
   "cell_type": "code",
   "execution_count": 20,
   "id": "969fd6a5",
   "metadata": {},
   "outputs": [
    {
     "name": "stdout",
     "output_type": "stream",
     "text": [
      "{'name': 'abc', 'srn': 101, 'program': 'mca'}\n",
      "{}\n",
      "{'a': 1, 'b': 2, 'c': 3, 'd': 4}\n"
     ]
    }
   ],
   "source": [
    "def disp2(**kwargs):\n",
    "    print(kwargs)\n",
    "\n",
    "disp2(name='abc', srn=101, program='mca')\n",
    "# disp2('abc', 101, 'mca')\n",
    "disp2()\n",
    "disp2(a=1, b=2, c=3, d=4)"
   ]
  },
  {
   "cell_type": "code",
   "execution_count": null,
   "id": "c4574fcd",
   "metadata": {},
   "outputs": [],
   "source": [
    "### Unpacking"
   ]
  },
  {
   "cell_type": "code",
   "execution_count": 22,
   "id": "de19fd7d",
   "metadata": {},
   "outputs": [
    {
     "name": "stdout",
     "output_type": "stream",
     "text": [
      "X: 1, Y: 2, Z: 3, W: 4\n"
     ]
    }
   ],
   "source": [
    "# Define a function with four arguments\n",
    "def print_coordinates(x, y, z, w):\n",
    "    print(f\"X: {x}, Y: {y}, Z: {z}, W: {w}\")\n",
    "\n",
    "# Create a list of coordinates\n",
    "coordinates = [1, 2, 3, 4]\n",
    "\n",
    "# Unpack the list into four arguments for the function\n",
    "print_coordinates(*coordinates)\n"
   ]
  },
  {
   "cell_type": "code",
   "execution_count": 9,
   "id": "3e690e61",
   "metadata": {},
   "outputs": [
    {
     "name": "stdout",
     "output_type": "stream",
     "text": [
      "10 20 30 40\n"
     ]
    }
   ],
   "source": [
    "# Define a function with 4 arguments and print their values\n",
    "def print_values(a, b, c, d):\n",
    "    print(a, b, c, d)\n",
    "\n",
    "# Create a dictionary with values for the function arguments\n",
    "arguments = {'a': 10, 'b': 20, 'c': 30, 'd': 40}\n",
    "\n",
    "# Call the function and unpack the dictionary\n",
    "print_values(**arguments)\n"
   ]
  },
  {
   "cell_type": "code",
   "execution_count": 19,
   "id": "d7caef71",
   "metadata": {},
   "outputs": [
    {
     "name": "stdout",
     "output_type": "stream",
     "text": [
      "-1\n",
      "1\n",
      "1\n"
     ]
    }
   ],
   "source": [
    "def foo(a, b):\n",
    "    return a-b\n",
    "\n",
    "print(foo(1, 2))\n",
    "print(foo(2, 1))\n",
    "print(foo(b=1, a=2))"
   ]
  }
 ],
 "metadata": {
  "kernelspec": {
   "display_name": "Python 3 (ipykernel)",
   "language": "python",
   "name": "python3"
  },
  "language_info": {
   "codemirror_mode": {
    "name": "ipython",
    "version": 3
   },
   "file_extension": ".py",
   "mimetype": "text/x-python",
   "name": "python",
   "nbconvert_exporter": "python",
   "pygments_lexer": "ipython3",
   "version": "3.10.9"
  }
 },
 "nbformat": 4,
 "nbformat_minor": 5
}
