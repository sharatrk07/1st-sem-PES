{
 "cells": [
  {
   "cell_type": "code",
   "execution_count": 4,
   "id": "dba52366",
   "metadata": {},
   "outputs": [
    {
     "name": "stdout",
     "output_type": "stream",
     "text": [
      "Python 3.10.9\n",
      "\u001b[33mWARNING: Package(s) not found: random\u001b[0m\u001b[33m\n",
      "\u001b[0m"
     ]
    }
   ],
   "source": [
    "!python --version\n",
    "!pip show random"
   ]
  },
  {
   "cell_type": "code",
   "execution_count": 6,
   "id": "e4d5cc7a",
   "metadata": {},
   "outputs": [],
   "source": [
    "import random as r"
   ]
  },
  {
   "cell_type": "code",
   "execution_count": 7,
   "id": "222827ec",
   "metadata": {},
   "outputs": [],
   "source": [
    "r.seed(1)"
   ]
  },
  {
   "cell_type": "code",
   "execution_count": 39,
   "id": "92bc7310",
   "metadata": {},
   "outputs": [
    {
     "data": {
      "text/plain": [
       "0.2308665415409843"
      ]
     },
     "execution_count": 39,
     "metadata": {},
     "output_type": "execute_result"
    }
   ],
   "source": [
    "r.random()"
   ]
  },
  {
   "cell_type": "code",
   "execution_count": 57,
   "id": "2bc54630",
   "metadata": {},
   "outputs": [
    {
     "data": {
      "text/plain": [
       "0.13436424411240122"
      ]
     },
     "execution_count": 57,
     "metadata": {},
     "output_type": "execute_result"
    }
   ],
   "source": [
    "r.seed(1)\n",
    "r.random()"
   ]
  },
  {
   "cell_type": "code",
   "execution_count": 118,
   "id": "78ad1d2a",
   "metadata": {},
   "outputs": [
    {
     "data": {
      "text/plain": [
       "17"
      ]
     },
     "execution_count": 118,
     "metadata": {},
     "output_type": "execute_result"
    }
   ],
   "source": [
    "r.seed(1)\n",
    "r.randrange(100)"
   ]
  },
  {
   "cell_type": "code",
   "execution_count": 83,
   "id": "e7a3fd0d",
   "metadata": {},
   "outputs": [
    {
     "data": {
      "text/plain": [
       "[10, 8, 6, 4, 2, 0, -2, -4, -6, -8]"
      ]
     },
     "execution_count": 83,
     "metadata": {},
     "output_type": "execute_result"
    }
   ],
   "source": [
    "list(range(10, -10, -2))"
   ]
  },
  {
   "cell_type": "code",
   "execution_count": 165,
   "id": "cfc2b146",
   "metadata": {},
   "outputs": [
    {
     "data": {
      "text/plain": [
       "-5"
      ]
     },
     "execution_count": 165,
     "metadata": {},
     "output_type": "execute_result"
    }
   ],
   "source": [
    "r.randint(-10, -5)"
   ]
  },
  {
   "cell_type": "code",
   "execution_count": 172,
   "id": "78de6dad",
   "metadata": {},
   "outputs": [],
   "source": [
    "from sklearn.model_selection import train_test_split as tts\n",
    "import numpy as np"
   ]
  },
  {
   "cell_type": "code",
   "execution_count": 171,
   "id": "9e80e518",
   "metadata": {},
   "outputs": [
    {
     "name": "stdout",
     "output_type": "stream",
     "text": [
      "[ 1  2  3  4  5  6  7  8  9 10] [ 10  20  30  40  50  60  70  80  90 100]\n"
     ]
    }
   ],
   "source": [
    "X, y = np.array([1, 2, 3, 4, 5, 6, 7, 8, 9, 10]), np.array([10, 20, 30, 40, 50, 60, 70, 80, 90, 100])\n",
    "print(X, y)"
   ]
  },
  {
   "cell_type": "code",
   "execution_count": 242,
   "id": "43a21c9b",
   "metadata": {},
   "outputs": [
    {
     "name": "stdout",
     "output_type": "stream",
     "text": [
      "[ 6  2  5 10  1  9  8  4]\n",
      "[3 7]\n",
      "[ 60  20  50 100  10  90  80  40]\n",
      "[30 70]\n"
     ]
    }
   ],
   "source": [
    "a, b, c, d = tts(X, y, train_size = 0.8, random_state = 1000)\n",
    "print(a)\n",
    "print(b)\n",
    "print(c)\n",
    "print(d)"
   ]
  },
  {
   "cell_type": "code",
   "execution_count": null,
   "id": "2c26c2f3",
   "metadata": {},
   "outputs": [],
   "source": []
  }
 ],
 "metadata": {
  "kernelspec": {
   "display_name": "Python 3 (ipykernel)",
   "language": "python",
   "name": "python3"
  },
  "language_info": {
   "codemirror_mode": {
    "name": "ipython",
    "version": 3
   },
   "file_extension": ".py",
   "mimetype": "text/x-python",
   "name": "python",
   "nbconvert_exporter": "python",
   "pygments_lexer": "ipython3",
   "version": "3.10.9"
  }
 },
 "nbformat": 4,
 "nbformat_minor": 5
}
