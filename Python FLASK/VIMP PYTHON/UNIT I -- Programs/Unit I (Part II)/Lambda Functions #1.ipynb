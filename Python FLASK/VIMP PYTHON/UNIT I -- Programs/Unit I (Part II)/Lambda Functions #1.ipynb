{
 "cells": [
  {
   "cell_type": "code",
   "execution_count": 1,
   "id": "ff4635b8",
   "metadata": {},
   "outputs": [
    {
     "name": "stdout",
     "output_type": "stream",
     "text": [
      "[1, 2, 3, 4]\n",
      "[1, 4, 9, 16]\n"
     ]
    }
   ],
   "source": [
    "# Create a list with all the items of another list squared \n",
    "l = [1, 2, 3, 4]\n",
    "l1 = []\n",
    "x = lambda n: n * n\n",
    "for i in l:\n",
    "    l1.append(x(i))\n",
    "print(l)\n",
    "print(l1)"
   ]
  },
  {
   "cell_type": "code",
   "execution_count": 4,
   "id": "b77780e2",
   "metadata": {},
   "outputs": [
    {
     "name": "stdout",
     "output_type": "stream",
     "text": [
      "[1, 2, 3]\n",
      "[1, 4, 9]\n"
     ]
    }
   ],
   "source": [
    "# map(function, iterable) : Returns an iterable of type map\n",
    "l = [1, 2, 3]\n",
    "print(l)\n",
    "x = lambda a: a ** 2\n",
    "l1 = map(x, l)\n",
    "# print(l1)\n",
    "# print(type(l1))\n",
    "l2 = list(l1)\n",
    "print(l2)"
   ]
  },
  {
   "cell_type": "code",
   "execution_count": 5,
   "id": "382485b2",
   "metadata": {},
   "outputs": [
    {
     "name": "stdout",
     "output_type": "stream",
     "text": [
      "[6, 7, 6, 5]\n"
     ]
    }
   ],
   "source": [
    "# Given a list of strings, \n",
    "# create another list with the length of the strings in the list\n",
    "l = ['Python', 'English', 'Random', 'Names']\n",
    "l1 = []\n",
    "for i in l:\n",
    "    l1.append(len(i))\n",
    "print(l1)"
   ]
  },
  {
   "cell_type": "code",
   "execution_count": 6,
   "id": "8ef77dff",
   "metadata": {},
   "outputs": [
    {
     "name": "stdout",
     "output_type": "stream",
     "text": [
      "[6, 7, 6, 5]\n"
     ]
    }
   ],
   "source": [
    "l = ['Python', 'English', 'Random', 'Names']\n",
    "l1 = list(map(len, l))\n",
    "print(l1)"
   ]
  },
  {
   "cell_type": "code",
   "execution_count": 7,
   "id": "5cccc895",
   "metadata": {},
   "outputs": [
    {
     "name": "stdout",
     "output_type": "stream",
     "text": [
      "1 2 3\n",
      "[1, 2, 3]\n"
     ]
    }
   ],
   "source": [
    "l = list(map(int, input().split()))\n",
    "print(l)"
   ]
  },
  {
   "cell_type": "code",
   "execution_count": 9,
   "id": "7829256f",
   "metadata": {},
   "outputs": [
    {
     "name": "stdout",
     "output_type": "stream",
     "text": [
      "1, 2, 3, 4\n",
      "User-input: \n",
      "[1, 2, 3, 4]\n",
      "Even List: \n",
      "[2, 4]\n",
      "Odd List: \n",
      "[1, 3]\n"
     ]
    }
   ],
   "source": [
    "# Use filter\n",
    "# filter(func, iter): filter object\n",
    "# func must accept one param, return True or False only\n",
    "# Accept a user-input list of any number of int items\n",
    "# Create 2 lists, one with odd items, other with even items\n",
    "\n",
    "l = list(map(int, input().split(', ')))\n",
    "print('User-input: ')\n",
    "print(l)\n",
    "evenList = list(filter(lambda a:a%2 == 0, l))\n",
    "oddList = list(filter(lambda a:a%2 != 0, l))\n",
    "print('Even List: ')\n",
    "print(evenList)\n",
    "print('Odd List: ')\n",
    "print(oddList)"
   ]
  },
  {
   "cell_type": "code",
   "execution_count": 10,
   "id": "865a1f5c",
   "metadata": {},
   "outputs": [
    {
     "name": "stdout",
     "output_type": "stream",
     "text": [
      "1 2 3 4 5 6 7 8 9 10\n",
      "[1, 2, 3, 4, 5, 6, 7, 8, 9, 10]\n",
      "[4, 16, 36, 64, 100]\n",
      "[1, 27, 125, 343, 729]\n"
     ]
    }
   ],
   "source": [
    "l = list(map(int, input().split()))\n",
    "print(l)\n",
    "evenL = list(filter(lambda a:a%2 == 0, l))\n",
    "oddL = list(filter(lambda a:a%2 != 0, l))\n",
    "squareL = list(map(lambda a:a**2, evenL))\n",
    "cubeL = list(map(lambda a:a**3, oddL))\n",
    "print(squareL)\n",
    "print(cubeL)"
   ]
  },
  {
   "cell_type": "code",
   "execution_count": 11,
   "id": "46afb77a",
   "metadata": {},
   "outputs": [
    {
     "name": "stdout",
     "output_type": "stream",
     "text": [
      "1 2 3 4 5\n",
      "[1, 2, 3, 4, 5]\n",
      "15\n"
     ]
    }
   ],
   "source": [
    "# reduce(func, iter): Single object, not iter\n",
    "# func must accept 2 params\n",
    "# Use reduce() and find sum of items of a list\n",
    "from functools import reduce\n",
    "l = list(map(int, input().split()))\n",
    "print(l)\n",
    "s = reduce(lambda x, y: x + y, l)\n",
    "print(s)"
   ]
  }
 ],
 "metadata": {
  "kernelspec": {
   "display_name": "Python 3 (ipykernel)",
   "language": "python",
   "name": "python3"
  },
  "language_info": {
   "codemirror_mode": {
    "name": "ipython",
    "version": 3
   },
   "file_extension": ".py",
   "mimetype": "text/x-python",
   "name": "python",
   "nbconvert_exporter": "python",
   "pygments_lexer": "ipython3",
   "version": "3.10.9"
  }
 },
 "nbformat": 4,
 "nbformat_minor": 5
}
