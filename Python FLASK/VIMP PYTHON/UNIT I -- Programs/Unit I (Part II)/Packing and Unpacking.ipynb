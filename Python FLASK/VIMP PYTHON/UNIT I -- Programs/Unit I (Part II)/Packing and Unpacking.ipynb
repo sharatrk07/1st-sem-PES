{
 "cells": [
  {
   "cell_type": "code",
   "execution_count": 2,
   "id": "0d159683",
   "metadata": {},
   "outputs": [
    {
     "name": "stdout",
     "output_type": "stream",
     "text": [
      "()\n",
      "0\n",
      "(1, 2)\n",
      "2\n",
      "(1, 2, 3)\n",
      "3\n"
     ]
    }
   ],
   "source": [
    "# Packing\n",
    "def foo(*a):\n",
    "    print(a)\n",
    "    print(len(a))\n",
    "foo()\n",
    "foo(1, 2)\n",
    "foo(1, 2, 3)"
   ]
  },
  {
   "cell_type": "code",
   "execution_count": 3,
   "id": "ac04e231",
   "metadata": {},
   "outputs": [
    {
     "name": "stdout",
     "output_type": "stream",
     "text": [
      "(0, 0)\n",
      "(2, 3)\n",
      "(3, 6)\n"
     ]
    }
   ],
   "source": [
    "# Packing\n",
    "def foo(*a):\n",
    "    return len(a), sum(a)\n",
    "print(foo())\n",
    "print(foo(1, 2))\n",
    "print(foo(1, 2, 3))"
   ]
  },
  {
   "cell_type": "code",
   "execution_count": 4,
   "id": "6af159a1",
   "metadata": {},
   "outputs": [
    {
     "name": "stdout",
     "output_type": "stream",
     "text": [
      "(0, 0)\n",
      "2\n",
      "6\n"
     ]
    }
   ],
   "source": [
    "# Packing\n",
    "def foo(*a):\n",
    "    return len(a), sum(a)\n",
    "print(foo())\n",
    "print(foo(1, 2)[0])\n",
    "print(foo(1, 2, 3)[1])"
   ]
  },
  {
   "cell_type": "code",
   "execution_count": 6,
   "id": "7d112d87",
   "metadata": {},
   "outputs": [
    {
     "name": "stdout",
     "output_type": "stream",
     "text": [
      "(2, 3)\n",
      "<class 'tuple'>\n"
     ]
    }
   ],
   "source": [
    "# Packing\n",
    "def foo(*a):\n",
    "    return len(a), sum(a)\n",
    "a = foo(1, 2)\n",
    "print(a)\n",
    "print(type(a))"
   ]
  },
  {
   "cell_type": "code",
   "execution_count": 16,
   "id": "255eadbe",
   "metadata": {},
   "outputs": [
    {
     "name": "stdout",
     "output_type": "stream",
     "text": [
      "2\n",
      "3\n",
      "1\n",
      "<class 'int'>\n",
      "<class 'int'>\n",
      "<class 'int'>\n"
     ]
    }
   ],
   "source": [
    "# Packing and Unpacking\n",
    "def foo(*a):\n",
    "    return len(a), sum(a), min(a)\n",
    "a, b, c = foo(1, 2)\n",
    "print(a)\n",
    "print(b)\n",
    "print(c)\n",
    "print(type(a))\n",
    "print(type(b))\n",
    "print(type(c))"
   ]
  }
 ],
 "metadata": {
  "kernelspec": {
   "display_name": "Python 3 (ipykernel)",
   "language": "python",
   "name": "python3"
  },
  "language_info": {
   "codemirror_mode": {
    "name": "ipython",
    "version": 3
   },
   "file_extension": ".py",
   "mimetype": "text/x-python",
   "name": "python",
   "nbconvert_exporter": "python",
   "pygments_lexer": "ipython3",
   "version": "3.10.9"
  }
 },
 "nbformat": 4,
 "nbformat_minor": 5
}
