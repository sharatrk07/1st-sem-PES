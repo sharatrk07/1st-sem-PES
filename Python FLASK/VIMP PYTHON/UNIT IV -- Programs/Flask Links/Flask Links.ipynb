{
 "cells": [
  {
   "cell_type": "code",
   "execution_count": 1,
   "id": "ac89f755",
   "metadata": {},
   "outputs": [],
   "source": [
    "from flask import *\n",
    "app = Flask(__name__)\n",
    "def restart():\n",
    "    global app\n",
    "    app = Flask(__name__)"
   ]
  },
  {
   "cell_type": "code",
   "execution_count": 2,
   "id": "806de3a8",
   "metadata": {},
   "outputs": [
    {
     "name": "stdout",
     "output_type": "stream",
     "text": [
      " * Serving Flask app '__main__'\n",
      " * Debug mode: off\n"
     ]
    },
    {
     "name": "stderr",
     "output_type": "stream",
     "text": [
      "\u001b[31m\u001b[1mWARNING: This is a development server. Do not use it in a production deployment. Use a production WSGI server instead.\u001b[0m\n",
      " * Running on http://127.0.0.1:5000\n",
      "\u001b[33mPress CTRL+C to quit\u001b[0m\n",
      "127.0.0.1 - - [09/May/2024 11:24:55] \"GET / HTTP/1.1\" 200 -\n",
      "127.0.0.1 - - [09/May/2024 11:25:08] \"GET /about HTTP/1.1\" 200 -\n",
      "127.0.0.1 - - [09/May/2024 11:25:16] \"GET /contact HTTP/1.1\" 200 -\n"
     ]
    }
   ],
   "source": [
    "# Using url_for\n",
    "restart()\n",
    "@app.route('/')\n",
    "def index():\n",
    "    links = [{'label':'Home', 'url':url_for('index')},\n",
    "            {'label':'About', 'url':url_for('about')},\n",
    "            {'label':'Contact', 'url':url_for('contact')},]\n",
    "    return render_template('index.html', links = links)\n",
    "\n",
    "@app.route('/about')\n",
    "def about():\n",
    "    return '<h1>About page</h1>'\n",
    "\n",
    "@app.route('/contact')\n",
    "def contact():\n",
    "    return '<h1>Contact page</h1>'\n",
    "\n",
    "app.run()"
   ]
  },
  {
   "cell_type": "markdown",
   "id": "7ac76a9a",
   "metadata": {},
   "source": [
    "## Dynamic Links"
   ]
  },
  {
   "cell_type": "code",
   "execution_count": 4,
   "id": "13a657a3",
   "metadata": {},
   "outputs": [
    {
     "name": "stdout",
     "output_type": "stream",
     "text": [
      " * Serving Flask app '__main__'\n",
      " * Debug mode: off\n"
     ]
    },
    {
     "name": "stderr",
     "output_type": "stream",
     "text": [
      "\u001b[31m\u001b[1mWARNING: This is a development server. Do not use it in a production deployment. Use a production WSGI server instead.\u001b[0m\n",
      " * Running on http://127.0.0.1:5000\n",
      "\u001b[33mPress CTRL+C to quit\u001b[0m\n",
      "[2024-05-09 11:26:16,862] ERROR in app: Exception on / [GET]\n",
      "Traceback (most recent call last):\n",
      "  File \"/Users/niteesh/miniconda3/lib/python3.10/site-packages/flask/app.py\", line 1455, in wsgi_app\n",
      "    response = self.full_dispatch_request()\n",
      "  File \"/Users/niteesh/miniconda3/lib/python3.10/site-packages/flask/app.py\", line 869, in full_dispatch_request\n",
      "    rv = self.handle_user_exception(e)\n",
      "  File \"/Users/niteesh/miniconda3/lib/python3.10/site-packages/flask/app.py\", line 867, in full_dispatch_request\n",
      "    rv = self.dispatch_request()\n",
      "  File \"/Users/niteesh/miniconda3/lib/python3.10/site-packages/flask/app.py\", line 852, in dispatch_request\n",
      "    return self.ensure_sync(self.view_functions[rule.endpoint])(**view_args)\n",
      "  File \"/var/folders/_k/k1v2lnnd0knd7bplvfyxt_0c0000gn/T/ipykernel_30816/1420753081.py\", line 4, in ind\n",
      "    return render_template('index_dynamic.html')\n",
      "  File \"/Users/niteesh/miniconda3/lib/python3.10/site-packages/flask/templating.py\", line 152, in render_template\n",
      "    return _render(app, template, context)\n",
      "  File \"/Users/niteesh/miniconda3/lib/python3.10/site-packages/flask/templating.py\", line 133, in _render\n",
      "    rv = template.render(context)\n",
      "  File \"/Users/niteesh/miniconda3/lib/python3.10/site-packages/jinja2/environment.py\", line 1301, in render\n",
      "    self.environment.handle_exception()\n",
      "  File \"/Users/niteesh/miniconda3/lib/python3.10/site-packages/jinja2/environment.py\", line 936, in handle_exception\n",
      "    raise rewrite_traceback_stack(source=source)\n",
      "  File \"/Users/niteesh/Desktop/PESU/Odd 2023-24/PYTHON/Unit 4/Programs/Flask Links/templates/index_dynamic.html\", line 11, in top-level template code\n",
      "    <li><a href=\"{{ url_for('profile', username='user1') }}\">User 1 Profile</a></li>\n",
      "  File \"/Users/niteesh/miniconda3/lib/python3.10/site-packages/flask/app.py\", line 1071, in url_for\n",
      "    return self.handle_url_build_error(error, endpoint, values)\n",
      "  File \"/Users/niteesh/miniconda3/lib/python3.10/site-packages/flask/app.py\", line 1060, in url_for\n",
      "    rv = url_adapter.build(  # type: ignore[union-attr]\n",
      "  File \"/Users/niteesh/miniconda3/lib/python3.10/site-packages/werkzeug/routing/map.py\", line 919, in build\n",
      "    raise BuildError(endpoint, values, method, self)\n",
      "werkzeug.routing.exceptions.BuildError: Could not build url for endpoint 'profile' with values ['username']. Did you forget to specify values ['un']?\n",
      "127.0.0.1 - - [09/May/2024 11:26:16] \"\u001b[35m\u001b[1mGET / HTTP/1.1\u001b[0m\" 500 -\n"
     ]
    }
   ],
   "source": [
    "restart()\n",
    "@app.route('/')\n",
    "def ind():\n",
    "    return render_template('index_dynamic.html')\n",
    "\n",
    "@app.route('/user/<un>')\n",
    "def profile(un):\n",
    "    return render_template('profile.html', username = un)\n",
    "\n",
    "@app.route('/post/<int:postid>')\n",
    "def post(postid):\n",
    "    return render_template('post.html', post_id = postid)\n",
    "\n",
    "app.run()"
   ]
  }
 ],
 "metadata": {
  "kernelspec": {
   "display_name": "Python 3 (ipykernel)",
   "language": "python",
   "name": "python3"
  },
  "language_info": {
   "codemirror_mode": {
    "name": "ipython",
    "version": 3
   },
   "file_extension": ".py",
   "mimetype": "text/x-python",
   "name": "python",
   "nbconvert_exporter": "python",
   "pygments_lexer": "ipython3",
   "version": "3.10.9"
  }
 },
 "nbformat": 4,
 "nbformat_minor": 5
}
