{
 "cells": [
  {
   "cell_type": "code",
   "execution_count": 3,
   "id": "e229b791",
   "metadata": {},
   "outputs": [],
   "source": [
    "from flask import *\n",
    "app = Flask(__name__)\n",
    "def restart():\n",
    "    global app\n",
    "    app = Flask(__name__)\n"
   ]
  },
  {
   "cell_type": "code",
   "execution_count": 5,
   "id": "a53074d9",
   "metadata": {},
   "outputs": [
    {
     "name": "stdout",
     "output_type": "stream",
     "text": [
      " * Serving Flask app '__main__'\n",
      " * Debug mode: off\n"
     ]
    },
    {
     "name": "stderr",
     "output_type": "stream",
     "text": [
      "\u001b[31m\u001b[1mWARNING: This is a development server. Do not use it in a production deployment. Use a production WSGI server instead.\u001b[0m\n",
      " * Running on http://127.0.0.1:5000\n",
      "\u001b[33mPress CTRL+C to quit\u001b[0m\n",
      "127.0.0.1 - - [13/May/2024 09:43:46] \"GET / HTTP/1.1\" 200 -\n",
      "127.0.0.1 - - [13/May/2024 09:43:51] \"GET / HTTP/1.1\" 200 -\n",
      "127.0.0.1 - - [13/May/2024 09:43:52] \"\u001b[33mGET /dfgtyhuji HTTP/1.1\u001b[0m\" 404 -\n"
     ]
    }
   ],
   "source": [
    "# Uses @app.errorhandler(status_code)\n",
    "restart()\n",
    "@app.route('/')\n",
    "def ind():\n",
    "    return '<h1>Working fine</h1>'\n",
    "\n",
    "@app.errorhandler(404)\n",
    "def e404(error):\n",
    "    return render_template('error404.html'), 404\n",
    "\n",
    "@app.errorhandler(500)\n",
    "def e500(error):\n",
    "    return render_template('error500.html'), 500\n",
    "\n",
    "app.run()"
   ]
  }
 ],
 "metadata": {
  "kernelspec": {
   "display_name": "Python 3 (ipykernel)",
   "language": "python",
   "name": "python3"
  },
  "language_info": {
   "codemirror_mode": {
    "name": "ipython",
    "version": 3
   },
   "file_extension": ".py",
   "mimetype": "text/x-python",
   "name": "python",
   "nbconvert_exporter": "python",
   "pygments_lexer": "ipython3",
   "version": "3.10.9"
  }
 },
 "nbformat": 4,
 "nbformat_minor": 5
}
