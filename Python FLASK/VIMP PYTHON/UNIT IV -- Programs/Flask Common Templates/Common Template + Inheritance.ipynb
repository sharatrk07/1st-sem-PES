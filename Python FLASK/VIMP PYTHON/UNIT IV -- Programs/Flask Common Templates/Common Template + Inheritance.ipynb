{
 "cells": [
  {
   "cell_type": "code",
   "execution_count": 2,
   "id": "2462900c",
   "metadata": {},
   "outputs": [],
   "source": [
    "from flask import *\n",
    "app = Flask(__name__)\n",
    "def restart():\n",
    "    global app\n",
    "    app = Flask(__name__)\n"
   ]
  },
  {
   "cell_type": "code",
   "execution_count": 3,
   "id": "e20c1806",
   "metadata": {},
   "outputs": [
    {
     "name": "stdout",
     "output_type": "stream",
     "text": [
      " * Serving Flask app '__main__'\n",
      " * Debug mode: off\n"
     ]
    },
    {
     "name": "stderr",
     "output_type": "stream",
     "text": [
      "\u001b[31m\u001b[1mWARNING: This is a development server. Do not use it in a production deployment. Use a production WSGI server instead.\u001b[0m\n",
      " * Running on http://127.0.0.1:5000\n",
      "\u001b[33mPress CTRL+C to quit\u001b[0m\n",
      "127.0.0.1 - - [11/May/2024 09:29:08] \"GET / HTTP/1.1\" 200 -\n",
      "127.0.0.1 - - [11/May/2024 09:29:16] \"GET / HTTP/1.1\" 200 -\n",
      "127.0.0.1 - - [11/May/2024 09:29:17] \"GET /about HTTP/1.1\" 200 -\n"
     ]
    }
   ],
   "source": [
    "restart()\n",
    "@app.route('/')\n",
    "def ind():\n",
    "    return render_template('index.html')\n",
    "@app.route('/about')\n",
    "def abt():\n",
    "    return render_template('about.html')\n",
    "app.run()"
   ]
  },
  {
   "cell_type": "code",
   "execution_count": 5,
   "id": "f8809ef0",
   "metadata": {},
   "outputs": [
    {
     "name": "stdout",
     "output_type": "stream",
     "text": [
      " * Serving Flask app '__main__'\n",
      " * Debug mode: off\n"
     ]
    },
    {
     "name": "stderr",
     "output_type": "stream",
     "text": [
      "\u001b[31m\u001b[1mWARNING: This is a development server. Do not use it in a production deployment. Use a production WSGI server instead.\u001b[0m\n",
      " * Running on http://127.0.0.1:5000\n",
      "\u001b[33mPress CTRL+C to quit\u001b[0m\n",
      "127.0.0.1 - - [11/May/2024 09:43:03] \"GET / HTTP/1.1\" 200 -\n"
     ]
    }
   ],
   "source": [
    "restart()\n",
    "@app.route('/')\n",
    "def ind():\n",
    "    return render_template('common_temp_index.html')\n",
    "@app.route('/about')\n",
    "def abt():\n",
    "    return render_template('common_temp_about.html')\n",
    "app.run()"
   ]
  },
  {
   "cell_type": "markdown",
   "id": "79f5926c",
   "metadata": {},
   "source": [
    "### Template inheritance"
   ]
  },
  {
   "cell_type": "code",
   "execution_count": 11,
   "id": "48b730d1",
   "metadata": {},
   "outputs": [
    {
     "name": "stdout",
     "output_type": "stream",
     "text": [
      " * Serving Flask app '__main__'\n",
      " * Debug mode: off\n"
     ]
    },
    {
     "name": "stderr",
     "output_type": "stream",
     "text": [
      "\u001b[31m\u001b[1mWARNING: This is a development server. Do not use it in a production deployment. Use a production WSGI server instead.\u001b[0m\n",
      " * Running on http://127.0.0.1:5000\n",
      "\u001b[33mPress CTRL+C to quit\u001b[0m\n",
      "127.0.0.1 - - [11/May/2024 10:04:46] \"GET / HTTP/1.1\" 200 -\n"
     ]
    }
   ],
   "source": [
    "restart()\n",
    "@app.route('/')\n",
    "def ind():\n",
    "    return render_template('child.html')\n",
    "app.run()"
   ]
  },
  {
   "cell_type": "code",
   "execution_count": null,
   "id": "23e65a4f",
   "metadata": {},
   "outputs": [],
   "source": []
  }
 ],
 "metadata": {
  "kernelspec": {
   "display_name": "Python 3 (ipykernel)",
   "language": "python",
   "name": "python3"
  },
  "language_info": {
   "codemirror_mode": {
    "name": "ipython",
    "version": 3
   },
   "file_extension": ".py",
   "mimetype": "text/x-python",
   "name": "python",
   "nbconvert_exporter": "python",
   "pygments_lexer": "ipython3",
   "version": "3.10.9"
  }
 },
 "nbformat": 4,
 "nbformat_minor": 5
}
