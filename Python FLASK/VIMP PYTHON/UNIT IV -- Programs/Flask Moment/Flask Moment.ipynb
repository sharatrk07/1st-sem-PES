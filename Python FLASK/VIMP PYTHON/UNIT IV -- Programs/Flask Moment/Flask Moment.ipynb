{
 "cells": [
  {
   "cell_type": "code",
   "execution_count": 2,
   "id": "d044352e",
   "metadata": {},
   "outputs": [],
   "source": [
    "from flask import *\n",
    "from flask_moment import Moment\n",
    "from datetime import datetime as dt\n",
    "\n",
    "app = Flask(__name__)\n",
    "moment = Moment(app)"
   ]
  },
  {
   "cell_type": "code",
   "execution_count": 3,
   "id": "8ec190c5",
   "metadata": {},
   "outputs": [
    {
     "name": "stdout",
     "output_type": "stream",
     "text": [
      " * Serving Flask app '__main__'\n",
      " * Debug mode: off\n"
     ]
    },
    {
     "name": "stderr",
     "output_type": "stream",
     "text": [
      "\u001b[31m\u001b[1mWARNING: This is a development server. Do not use it in a production deployment. Use a production WSGI server instead.\u001b[0m\n",
      " * Running on http://127.0.0.1:5000\n",
      "\u001b[33mPress CTRL+C to quit\u001b[0m\n",
      "127.0.0.1 - - [13/May/2024 08:33:19] \"GET / HTTP/1.1\" 200 -\n"
     ]
    },
    {
     "name": "stdout",
     "output_type": "stream",
     "text": [
      "2024-05-13 03:03:19.349817\n"
     ]
    }
   ],
   "source": [
    "@app.route('/')\n",
    "def ind():\n",
    "    cur_time = dt.utcnow()\n",
    "    print(cur_time)\n",
    "    return render_template('index.html', current_time = cur_time)\n",
    "app.run()"
   ]
  }
 ],
 "metadata": {
  "kernelspec": {
   "display_name": "Python 3 (ipykernel)",
   "language": "python",
   "name": "python3"
  },
  "language_info": {
   "codemirror_mode": {
    "name": "ipython",
    "version": 3
   },
   "file_extension": ".py",
   "mimetype": "text/x-python",
   "name": "python",
   "nbconvert_exporter": "python",
   "pygments_lexer": "ipython3",
   "version": "3.10.9"
  }
 },
 "nbformat": 4,
 "nbformat_minor": 5
}
