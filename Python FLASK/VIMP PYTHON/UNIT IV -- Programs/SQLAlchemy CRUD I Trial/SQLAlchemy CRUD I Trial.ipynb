{
 "cells": [
  {
   "cell_type": "code",
   "execution_count": 1,
   "id": "73e14fb3",
   "metadata": {},
   "outputs": [],
   "source": [
    "from flask import *\n",
    "from flask_wtf import *\n",
    "from wtforms import *\n",
    "from wtforms.validators import DataRequired as DR\n",
    "from flask_sqlalchemy import *"
   ]
  },
  {
   "cell_type": "code",
   "execution_count": 2,
   "id": "d346adfe",
   "metadata": {},
   "outputs": [],
   "source": [
    "app = Flask(__name__)\n",
    "app.config['SECRET_KEY'] = 'sk'\n",
    "app.config['SQLALCHEMY_DATABASE_URI'] = 'sqlite:///library.db'\n",
    "db = SQLAlchemy(app)\n",
    "# Gets created if it doesn't exist \n",
    "app.config['SQLALCHEMY_TRACK_MODIFICATIONS'] = False\n",
    "def restart():\n",
    "    global app\n",
    "    global db\n",
    "    app = Flask(__name__)\n",
    "    app.config['SECRET_KEY'] = 'sk'\n",
    "    app.config['SQLALCHEMY_DATABASE_URI'] = 'sqlite:///library.db'\n",
    "    app.config['SQLALCHEMY_TRACK_MODIFICATIONS'] = False\n",
    "    db = SQLAlchemy(app)"
   ]
  },
  {
   "cell_type": "code",
   "execution_count": 7,
   "id": "5a436ef0",
   "metadata": {},
   "outputs": [],
   "source": [
    "restart()"
   ]
  },
  {
   "cell_type": "markdown",
   "id": "9adb3f4a",
   "metadata": {},
   "source": [
    "# Create Forms using WTForms"
   ]
  },
  {
   "cell_type": "code",
   "execution_count": 9,
   "id": "a2fa881b",
   "metadata": {},
   "outputs": [],
   "source": [
    "# Add Author\n",
    "class AuthForm(FlaskForm):\n",
    "    name = StringField('Name of the Author', validators = [DR()])\n",
    "\n",
    "# Add Book\n",
    "class BookForm(FlaskForm):\n",
    "    title = StringField('Title of the Book', validators = [DR()])\n",
    "    author_id = IntegerField('Author ID', validators = [DR()])\n",
    "\n"
   ]
  },
  {
   "cell_type": "markdown",
   "id": "0c64db85",
   "metadata": {},
   "source": [
    "# Library Database\n",
    "## Schema\n",
    "### Author (aid, name, books)\n",
    "### Book (bid, title, author_id (Referencing to aid of Author))\n"
   ]
  },
  {
   "cell_type": "code",
   "execution_count": 8,
   "id": "2cab692d",
   "metadata": {},
   "outputs": [],
   "source": [
    "# Author Table\n",
    "class author(db.Model):\n",
    "    aid = db.Column(db.Integer, primary_key=True)\n",
    "    name = db.Column(db.String, nullable=False)\n",
    "    books = db.relationship('Book', backref='author', lazy=True)\n",
    "\n",
    "# Book Table\n",
    "class book(db.Model):\n",
    "    bid = db.Column(db.Integer, primary_key=True)\n",
    "    title = db.Column(db.String, nullable=False)\n",
    "    author_id = db.Column(db.Integer, db.ForeignKey('author.aid'), \n",
    "                          nullable=False)\n",
    "\n",
    "with app.app_context(): \n",
    "    db.create_all()"
   ]
  },
  {
   "cell_type": "code",
   "execution_count": null,
   "id": "0d4d5276",
   "metadata": {},
   "outputs": [],
   "source": [
    "# View function for adding author\n",
    "@app.route('/addauth', methods=['GET', 'POST'])\n",
    "def addauth():\n",
    "    form = AuthForm()\n",
    "    if form.validate_on_submit():\n",
    "        auth_name = form.name.data\n",
    "        new_row = author(name=auth_name)\n",
    "        db.session.add(new_row)\n",
    "        db.session.commit()\n",
    "    return redirect('/')\n",
    "\n",
    "# View function for adding book\n",
    "@app.route('/addbook', method=['GET', 'POST'])\n",
    "def addbook():\n",
    "    form = BookForm()\n",
    "    if form.validate_on_submit():\n",
    "        title = form.title.data\n",
    "        author_id = form.author_id.data\n",
    "        new_row = book(title=title, author_id=author_id)\n",
    "        db.session.add(new_row)\n",
    "        db.session.commit()\n",
    "    return redirect('/')\n",
    "\n",
    "# View all details on Index\n",
    "@app.route('/')\n",
    "def index():\n",
    "    authors = author.query.all()\n",
    "    books = book.query.all()\n",
    "    return render_template('index.html', authors=authors, books=books)"
   ]
  },
  {
   "cell_type": "code",
   "execution_count": null,
   "id": "00115580",
   "metadata": {},
   "outputs": [],
   "source": []
  }
 ],
 "metadata": {
  "kernelspec": {
   "display_name": "Python 3 (ipykernel)",
   "language": "python",
   "name": "python3"
  },
  "language_info": {
   "codemirror_mode": {
    "name": "ipython",
    "version": 3
   },
   "file_extension": ".py",
   "mimetype": "text/x-python",
   "name": "python",
   "nbconvert_exporter": "python",
   "pygments_lexer": "ipython3",
   "version": "3.10.9"
  }
 },
 "nbformat": 4,
 "nbformat_minor": 5
}
